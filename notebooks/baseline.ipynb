{
 "cells": [
  {
   "cell_type": "markdown",
   "metadata": {},
   "source": [
    "# 1. Modules and functions"
   ]
  },
  {
   "cell_type": "code",
   "execution_count": 1,
   "metadata": {
    "ExecuteTime": {
     "end_time": "2023-09-23T05:34:36.998729Z",
     "start_time": "2023-09-23T05:34:34.922642Z"
    }
   },
   "outputs": [],
   "source": [
    "import numpy as np\n",
    "import pandas as pd\n",
    "\n",
    "from itertools import islice, cycle, product\n",
    "\n",
    "import warnings\n",
    "warnings.filterwarnings('ignore')"
   ]
  },
  {
   "cell_type": "markdown",
   "metadata": {},
   "source": [
    "## 1. 1. Helper functions to avoid copy paste"
   ]
  },
  {
   "cell_type": "markdown",
   "metadata": {},
   "source": [
    "# 2. Data"
   ]
  },
  {
   "cell_type": "markdown",
   "metadata": {},
   "source": [
    "## 2. 1. Load data"
   ]
  },
  {
   "cell_type": "markdown",
   "metadata": {},
   "source": [
    "`interactions` dataset shows list of movies that users watched, along with given ratings:"
   ]
  },
  {
   "cell_type": "code",
   "execution_count": 3,
   "metadata": {
    "ExecuteTime": {
     "end_time": "2023-09-23T05:34:58.970288Z",
     "start_time": "2023-09-23T05:34:53.820928Z"
    }
   },
   "outputs": [
    {
     "data": {
      "text/html": [
       "<div>\n",
       "<style scoped>\n",
       "    .dataframe tbody tr th:only-of-type {\n",
       "        vertical-align: middle;\n",
       "    }\n",
       "\n",
       "    .dataframe tbody tr th {\n",
       "        vertical-align: top;\n",
       "    }\n",
       "\n",
       "    .dataframe thead th {\n",
       "        text-align: right;\n",
       "    }\n",
       "</style>\n",
       "<table border=\"1\" class=\"dataframe\">\n",
       "  <thead>\n",
       "    <tr style=\"text-align: right;\">\n",
       "      <th></th>\n",
       "      <th>platform</th>\n",
       "      <th>utc_event_time</th>\n",
       "      <th>utc_event_date</th>\n",
       "      <th>user_id</th>\n",
       "      <th>event_type</th>\n",
       "      <th>price</th>\n",
       "      <th>quantity</th>\n",
       "      <th>item_id</th>\n",
       "      <th>main_category</th>\n",
       "      <th>sub_category</th>\n",
       "      <th>...</th>\n",
       "      <th>timestamp_event_time</th>\n",
       "      <th>year</th>\n",
       "      <th>month</th>\n",
       "      <th>day</th>\n",
       "      <th>hour</th>\n",
       "      <th>lag_event_timestamp</th>\n",
       "      <th>is_first_event</th>\n",
       "      <th>timestamp_first_event</th>\n",
       "      <th>session_id</th>\n",
       "      <th>session_duration</th>\n",
       "    </tr>\n",
       "  </thead>\n",
       "  <tbody>\n",
       "    <tr>\n",
       "      <th>136385</th>\n",
       "      <td>Android</td>\n",
       "      <td>2023-07-31 12:00:05+00:00</td>\n",
       "      <td>2023-07-31</td>\n",
       "      <td>173259092511508332961805537433278356613</td>\n",
       "      <td>view_item</td>\n",
       "      <td>163800.0</td>\n",
       "      <td>1.0</td>\n",
       "      <td>260726654727418165900362987409768274857</td>\n",
       "      <td>144086449872839020031157148875692321280</td>\n",
       "      <td>173321378319243508149201199923244637487</td>\n",
       "      <td>...</td>\n",
       "      <td>2023-07-31 15:00:05</td>\n",
       "      <td>2023</td>\n",
       "      <td>7</td>\n",
       "      <td>31</td>\n",
       "      <td>15</td>\n",
       "      <td>2023-07-31 05:21:49</td>\n",
       "      <td>1</td>\n",
       "      <td>2023-07-31 15:00:05</td>\n",
       "      <td>25769803996</td>\n",
       "      <td>0</td>\n",
       "    </tr>\n",
       "    <tr>\n",
       "      <th>178110</th>\n",
       "      <td>Android</td>\n",
       "      <td>2023-07-31 16:50:47+00:00</td>\n",
       "      <td>2023-07-31</td>\n",
       "      <td>175531225445750135224629001292094625386</td>\n",
       "      <td>view_item</td>\n",
       "      <td>329000.0</td>\n",
       "      <td>1.0</td>\n",
       "      <td>62874459636212199856820592742465687422</td>\n",
       "      <td>154366424108017296963249370561478064618</td>\n",
       "      <td>60270833747106288434434595877071461453</td>\n",
       "      <td>...</td>\n",
       "      <td>2023-07-31 19:50:47</td>\n",
       "      <td>2023</td>\n",
       "      <td>7</td>\n",
       "      <td>31</td>\n",
       "      <td>19</td>\n",
       "      <td>NaN</td>\n",
       "      <td>1</td>\n",
       "      <td>2023-07-31 19:50:47</td>\n",
       "      <td>5694</td>\n",
       "      <td>0</td>\n",
       "    </tr>\n",
       "    <tr>\n",
       "      <th>178097</th>\n",
       "      <td>Site</td>\n",
       "      <td>2023-07-31 18:51:29+00:00</td>\n",
       "      <td>2023-07-31</td>\n",
       "      <td>175456934034865273087601583309920541917</td>\n",
       "      <td>view_item</td>\n",
       "      <td>94700.0</td>\n",
       "      <td>1.0</td>\n",
       "      <td>301113677287200808879250957235197355461</td>\n",
       "      <td>13798607401255592813561468416979820649</td>\n",
       "      <td>266864194786171476250208354353832955366</td>\n",
       "      <td>...</td>\n",
       "      <td>2023-07-31 21:51:29</td>\n",
       "      <td>2023</td>\n",
       "      <td>7</td>\n",
       "      <td>31</td>\n",
       "      <td>21</td>\n",
       "      <td>NaN</td>\n",
       "      <td>1</td>\n",
       "      <td>2023-07-31 21:51:29</td>\n",
       "      <td>3703</td>\n",
       "      <td>0</td>\n",
       "    </tr>\n",
       "    <tr>\n",
       "      <th>47270</th>\n",
       "      <td>Site</td>\n",
       "      <td>2023-07-31 06:35:50+00:00</td>\n",
       "      <td>2023-07-31</td>\n",
       "      <td>136129747179209875179444036984951419826</td>\n",
       "      <td>view_item</td>\n",
       "      <td>30500.0</td>\n",
       "      <td>1.0</td>\n",
       "      <td>146938954500183309632143980050512715097</td>\n",
       "      <td>45117301157169820192891250731273658842</td>\n",
       "      <td>138272492718411940153002045605569451150</td>\n",
       "      <td>...</td>\n",
       "      <td>2023-07-31 09:35:50</td>\n",
       "      <td>2023</td>\n",
       "      <td>7</td>\n",
       "      <td>31</td>\n",
       "      <td>9</td>\n",
       "      <td>NaN</td>\n",
       "      <td>1</td>\n",
       "      <td>2023-07-31 09:35:50</td>\n",
       "      <td>25769805241</td>\n",
       "      <td>0</td>\n",
       "    </tr>\n",
       "    <tr>\n",
       "      <th>178078</th>\n",
       "      <td>Android</td>\n",
       "      <td>2023-07-31 10:19:04+00:00</td>\n",
       "      <td>2023-07-31</td>\n",
       "      <td>175191682770652346432502214192078716096</td>\n",
       "      <td>view_item</td>\n",
       "      <td>45500.0</td>\n",
       "      <td>1.0</td>\n",
       "      <td>303613093764450740807978528504906103484</td>\n",
       "      <td>226036533030553532728399561714766831</td>\n",
       "      <td>200033172283332864904098097188143308177</td>\n",
       "      <td>...</td>\n",
       "      <td>2023-07-31 13:19:04</td>\n",
       "      <td>2023</td>\n",
       "      <td>7</td>\n",
       "      <td>31</td>\n",
       "      <td>13</td>\n",
       "      <td>NaN</td>\n",
       "      <td>1</td>\n",
       "      <td>2023-07-31 13:19:04</td>\n",
       "      <td>8589940079</td>\n",
       "      <td>0</td>\n",
       "    </tr>\n",
       "  </tbody>\n",
       "</table>\n",
       "<p>5 rows × 21 columns</p>\n",
       "</div>"
      ],
      "text/plain": [
       "       platform             utc_event_time utc_event_date  \\\n",
       "136385  Android  2023-07-31 12:00:05+00:00     2023-07-31   \n",
       "178110  Android  2023-07-31 16:50:47+00:00     2023-07-31   \n",
       "178097     Site  2023-07-31 18:51:29+00:00     2023-07-31   \n",
       "47270      Site  2023-07-31 06:35:50+00:00     2023-07-31   \n",
       "178078  Android  2023-07-31 10:19:04+00:00     2023-07-31   \n",
       "\n",
       "                                        user_id event_type     price  \\\n",
       "136385  173259092511508332961805537433278356613  view_item  163800.0   \n",
       "178110  175531225445750135224629001292094625386  view_item  329000.0   \n",
       "178097  175456934034865273087601583309920541917  view_item   94700.0   \n",
       "47270   136129747179209875179444036984951419826  view_item   30500.0   \n",
       "178078  175191682770652346432502214192078716096  view_item   45500.0   \n",
       "\n",
       "        quantity                                  item_id  \\\n",
       "136385       1.0  260726654727418165900362987409768274857   \n",
       "178110       1.0   62874459636212199856820592742465687422   \n",
       "178097       1.0  301113677287200808879250957235197355461   \n",
       "47270        1.0  146938954500183309632143980050512715097   \n",
       "178078       1.0  303613093764450740807978528504906103484   \n",
       "\n",
       "                                  main_category  \\\n",
       "136385  144086449872839020031157148875692321280   \n",
       "178110  154366424108017296963249370561478064618   \n",
       "178097   13798607401255592813561468416979820649   \n",
       "47270    45117301157169820192891250731273658842   \n",
       "178078     226036533030553532728399561714766831   \n",
       "\n",
       "                                   sub_category  ...  timestamp_event_time  \\\n",
       "136385  173321378319243508149201199923244637487  ...   2023-07-31 15:00:05   \n",
       "178110   60270833747106288434434595877071461453  ...   2023-07-31 19:50:47   \n",
       "178097  266864194786171476250208354353832955366  ...   2023-07-31 21:51:29   \n",
       "47270   138272492718411940153002045605569451150  ...   2023-07-31 09:35:50   \n",
       "178078  200033172283332864904098097188143308177  ...   2023-07-31 13:19:04   \n",
       "\n",
       "        year  month  day  hour  lag_event_timestamp is_first_event  \\\n",
       "136385  2023      7   31    15  2023-07-31 05:21:49              1   \n",
       "178110  2023      7   31    19                  NaN              1   \n",
       "178097  2023      7   31    21                  NaN              1   \n",
       "47270   2023      7   31     9                  NaN              1   \n",
       "178078  2023      7   31    13                  NaN              1   \n",
       "\n",
       "        timestamp_first_event   session_id  session_duration  \n",
       "136385    2023-07-31 15:00:05  25769803996                 0  \n",
       "178110    2023-07-31 19:50:47         5694                 0  \n",
       "178097    2023-07-31 21:51:29         3703                 0  \n",
       "47270     2023-07-31 09:35:50  25769805241                 0  \n",
       "178078    2023-07-31 13:19:04   8589940079                 0  \n",
       "\n",
       "[5 rows x 21 columns]"
      ]
     },
     "execution_count": 3,
     "metadata": {},
     "output_type": "execute_result"
    }
   ],
   "source": [
    "# interactions data\n",
    "interactions = pd.read_csv('interactions.csv', index_col = 0)\n",
    "interactions.head()"
   ]
  },
  {
   "cell_type": "markdown",
   "metadata": {},
   "source": [
    "## 2.2 Data preparation"
   ]
  },
  {
   "cell_type": "markdown",
   "metadata": {},
   "source": [
    "The objective of this step is to identify movies from two datasets that were watched by users."
   ]
  },
  {
   "cell_type": "code",
   "execution_count": 4,
   "metadata": {
    "ExecuteTime": {
     "end_time": "2023-09-23T05:34:58.985621Z",
     "start_time": "2023-09-23T05:34:58.973339Z"
    }
   },
   "outputs": [
    {
     "data": {
      "text/plain": [
       "platform                  object\n",
       "utc_event_time            object\n",
       "utc_event_date            object\n",
       "user_id                   object\n",
       "event_type                object\n",
       "price                    float64\n",
       "quantity                 float64\n",
       "item_id                   object\n",
       "main_category             object\n",
       "sub_category              object\n",
       "id                         int64\n",
       "timestamp_event_time      object\n",
       "year                       int64\n",
       "month                      int64\n",
       "day                        int64\n",
       "hour                       int64\n",
       "lag_event_timestamp       object\n",
       "is_first_event             int64\n",
       "timestamp_first_event     object\n",
       "session_id                 int64\n",
       "session_duration           int64\n",
       "dtype: object"
      ]
     },
     "execution_count": 4,
     "metadata": {},
     "output_type": "execute_result"
    }
   ],
   "source": [
    "interactions.dtypes"
   ]
  },
  {
   "cell_type": "code",
   "execution_count": 5,
   "metadata": {
    "ExecuteTime": {
     "end_time": "2023-09-23T05:35:06.170389Z",
     "start_time": "2023-09-23T05:35:06.037910Z"
    }
   },
   "outputs": [],
   "source": [
    "# create users input\n",
    "users = interactions[['user_id']].drop_duplicates().reset_index(drop = True)"
   ]
  },
  {
   "cell_type": "markdown",
   "metadata": {},
   "source": [
    "# 3. Model\n",
    "\n",
    "Let's define our baseline popularity recommender BaselineRecommender - top items based on amount of purchases with possibility to get by any group(s)"
   ]
  },
  {
   "cell_type": "markdown",
   "metadata": {},
   "source": [
    "The pipeline will be similar to most python ML modules -- it will have two methods in the end: fit() and recommend()\n",
    "1. The logic of fit() as follow:\n",
    "- Initiate recommendation based on total amount of purchases from all items rating from all items with purchases;\n",
    "- Prepare list of interacted items by users (?)\n",
    "- If we set groups - we get recommendations i.e. calculate movie ratings by groups:\n",
    "    - If we get NaN, we fill with base recommendations \n",
    "    - If we get less than required number of candidates, we populate from base recommendations\n",
    "\n",
    "2. The logic of recommend():\n",
    "- Return base recommendations if users data is not set;\n",
    "- In case of category wise requirement -- we get results of our fit"
   ]
  },
  {
   "cell_type": "code",
   "execution_count": 6,
   "metadata": {
    "ExecuteTime": {
     "end_time": "2023-09-23T05:37:20.779814Z",
     "start_time": "2023-09-23T05:37:20.747177Z"
    }
   },
   "outputs": [],
   "source": [
    "def compute_popularity(df: pd.DataFrame, item_id: str, max_candidates: int):\n",
    "    \"\"\"\n",
    "    calculates amount of purchases to define popular items\n",
    "    \"\"\"\n",
    "    popular_items = interactions[interactions['event_type'] == 'purchase'].groupby('item_id')\\\n",
    "    .agg({'quantity': sum})\\\n",
    "    .sort_values(['quantity'], ascending = False)\\\n",
    "    .head(max_candidates)\\\n",
    "    .index.values\n",
    "\n",
    "    return popular_items"
   ]
  },
  {
   "cell_type": "markdown",
   "metadata": {},
   "source": [
    "## 3.1. Fit"
   ]
  },
  {
   "cell_type": "code",
   "execution_count": 7,
   "metadata": {
    "ExecuteTime": {
     "end_time": "2023-09-23T05:37:21.245712Z",
     "start_time": "2023-09-23T05:37:21.240444Z"
    }
   },
   "outputs": [],
   "source": [
    "# first, we define how many candidates we want to get\n",
    "MAX_CANDIDATES = 20\n",
    "ITEM_COLUMN = 'item_id'\n",
    "USER_COLUMN = 'user_id'"
   ]
  },
  {
   "cell_type": "code",
   "execution_count": 8,
   "metadata": {
    "ExecuteTime": {
     "end_time": "2023-09-23T05:37:21.498838Z",
     "start_time": "2023-09-23T05:37:21.401988Z"
    }
   },
   "outputs": [
    {
     "data": {
      "text/plain": [
       "array(['95588577945262351643987306457854212185',\n",
       "       '101693639666891461420614362676113822951',\n",
       "       '268867123658507796037972027312924025943',\n",
       "       '316369578318160560517812220790535630342',\n",
       "       '60426019840232385179488698169503208671',\n",
       "       '191180173927754570603598163968691356636',\n",
       "       '199976022065644129694791276458615697311',\n",
       "       '1854017877261602621243941119775670879',\n",
       "       '243944327735751792067441062316392777002',\n",
       "       '23223659722259697606848103371319884224',\n",
       "       '209694451399118209703987396195677911233',\n",
       "       '223391820131290559319659201996644117551',\n",
       "       '61118984235327609842558983124465174189',\n",
       "       '103954496700216569216246542168969772444',\n",
       "       '284779626044522946752291083811020083301',\n",
       "       '74398489580630128190128657232740994345',\n",
       "       '187865096833877580148648513620446719019',\n",
       "       '59756841062034782769557521102575647456',\n",
       "       '17513903966991871569120606022168857610',\n",
       "       '273142829746466974559179499534975979937'], dtype=object)"
      ]
     },
     "execution_count": 8,
     "metadata": {},
     "output_type": "execute_result"
    }
   ],
   "source": [
    "# then, we extract top 20 movies by aggregating movies and averaging rating column across all users\n",
    "base_recommendations = compute_popularity(interactions, ITEM_COLUMN, MAX_CANDIDATES)\n",
    "base_recommendations"
   ]
  },
  {
   "cell_type": "markdown",
   "metadata": {},
   "source": [
    "Thus, we got 20 items with highest amount of purchases\n",
    "\n",
    "Now, as we discussed earlier, in movies recommendations there is no need to recommend the same film which user has already watched. Let's implement it as well"
   ]
  },
  {
   "cell_type": "code",
   "execution_count": 9,
   "metadata": {
    "ExecuteTime": {
     "end_time": "2023-09-23T05:37:21.996661Z",
     "start_time": "2023-09-23T05:37:21.717078Z"
    }
   },
   "outputs": [
    {
     "data": {
      "text/plain": [
       "3907"
      ]
     },
     "execution_count": 9,
     "metadata": {},
     "output_type": "execute_result"
    }
   ],
   "source": [
    "# we get all interacted items for each user and save it in dictionary {'userId': [items list]}\n",
    "known_items = interactions[interactions['event_type'] == 'purchase'].groupby(USER_COLUMN)[ITEM_COLUMN].apply(list).to_dict()\n",
    "len(known_items)"
   ]
  },
  {
   "cell_type": "code",
   "execution_count": 14,
   "metadata": {
    "ExecuteTime": {
     "end_time": "2023-09-23T05:38:07.270161Z",
     "start_time": "2023-09-23T05:38:07.265236Z"
    }
   },
   "outputs": [],
   "source": [
    "# let's check it for one userId = 1\n",
    "# known_items['100035225509401999812828901832806148332']"
   ]
  },
  {
   "cell_type": "code",
   "execution_count": 15,
   "metadata": {
    "ExecuteTime": {
     "end_time": "2023-09-23T05:38:08.227790Z",
     "start_time": "2023-09-23T05:38:08.219690Z"
    }
   },
   "outputs": [],
   "source": [
    "def compute_popularity(df: pd.DataFrame, item_id: str, initial_candidates: int):\n",
    "    \"\"\"\n",
    "    calculates amount of purchases to define popular items\n",
    "    \"\"\"\n",
    "    popular_items = interactions[interactions['event_type'] == 'purchase'].groupby(item_id)\\\n",
    "    .agg({'quantity': sum})\\\n",
    "    .sort_values(['quantity'], ascending = False)\\\n",
    "    .head(initial_candidates)\\\n",
    "    .index.values\n",
    "\n",
    "    return popular_items"
   ]
  },
  {
   "cell_type": "code",
   "execution_count": 28,
   "metadata": {
    "ExecuteTime": {
     "end_time": "2023-09-23T05:38:48.728498Z",
     "start_time": "2023-09-23T05:38:48.721307Z"
    }
   },
   "outputs": [],
   "source": [
    "def popular_without_purchases(userid: str, initial_candidates: list,\n",
    "                              final_candidates: int, known_items: dict):\n",
    "    if userid not in known_items.keys():\n",
    "        ppular_items_corrected = base_recommendations\n",
    "    else:\n",
    "        ppular_items_corrected = [item for item in base_recommendations if item not in known_items[userid]]\n",
    "    return ppular_items_corrected[:final_candidates]"
   ]
  },
  {
   "cell_type": "code",
   "execution_count": 17,
   "metadata": {
    "ExecuteTime": {
     "end_time": "2023-09-23T05:38:09.141326Z",
     "start_time": "2023-09-23T05:38:09.059787Z"
    }
   },
   "outputs": [],
   "source": [
    "base_recommendations = compute_popularity(interactions, ITEM_COLUMN, 1000)"
   ]
  },
  {
   "cell_type": "code",
   "execution_count": 18,
   "metadata": {
    "ExecuteTime": {
     "end_time": "2023-09-23T05:38:09.378709Z",
     "start_time": "2023-09-23T05:38:09.364530Z"
    }
   },
   "outputs": [
    {
     "data": {
      "text/html": [
       "<div>\n",
       "<style scoped>\n",
       "    .dataframe tbody tr th:only-of-type {\n",
       "        vertical-align: middle;\n",
       "    }\n",
       "\n",
       "    .dataframe tbody tr th {\n",
       "        vertical-align: top;\n",
       "    }\n",
       "\n",
       "    .dataframe thead th {\n",
       "        text-align: right;\n",
       "    }\n",
       "</style>\n",
       "<table border=\"1\" class=\"dataframe\">\n",
       "  <thead>\n",
       "    <tr style=\"text-align: right;\">\n",
       "      <th></th>\n",
       "      <th>user_id</th>\n",
       "    </tr>\n",
       "  </thead>\n",
       "  <tbody>\n",
       "    <tr>\n",
       "      <th>0</th>\n",
       "      <td>173259092511508332961805537433278356613</td>\n",
       "    </tr>\n",
       "    <tr>\n",
       "      <th>1</th>\n",
       "      <td>175531225445750135224629001292094625386</td>\n",
       "    </tr>\n",
       "    <tr>\n",
       "      <th>2</th>\n",
       "      <td>175456934034865273087601583309920541917</td>\n",
       "    </tr>\n",
       "    <tr>\n",
       "      <th>3</th>\n",
       "      <td>136129747179209875179444036984951419826</td>\n",
       "    </tr>\n",
       "    <tr>\n",
       "      <th>4</th>\n",
       "      <td>175191682770652346432502214192078716096</td>\n",
       "    </tr>\n",
       "  </tbody>\n",
       "</table>\n",
       "</div>"
      ],
      "text/plain": [
       "                                   user_id\n",
       "0  173259092511508332961805537433278356613\n",
       "1  175531225445750135224629001292094625386\n",
       "2  175456934034865273087601583309920541917\n",
       "3  136129747179209875179444036984951419826\n",
       "4  175191682770652346432502214192078716096"
      ]
     },
     "execution_count": 18,
     "metadata": {},
     "output_type": "execute_result"
    }
   ],
   "source": [
    "users.head()"
   ]
  },
  {
   "cell_type": "code",
   "execution_count": 19,
   "metadata": {
    "ExecuteTime": {
     "end_time": "2023-09-23T05:38:09.655050Z",
     "start_time": "2023-09-23T05:38:09.608288Z"
    }
   },
   "outputs": [
    {
     "data": {
      "text/html": [
       "<div>\n",
       "<style scoped>\n",
       "    .dataframe tbody tr th:only-of-type {\n",
       "        vertical-align: middle;\n",
       "    }\n",
       "\n",
       "    .dataframe tbody tr th {\n",
       "        vertical-align: top;\n",
       "    }\n",
       "\n",
       "    .dataframe thead th {\n",
       "        text-align: right;\n",
       "    }\n",
       "</style>\n",
       "<table border=\"1\" class=\"dataframe\">\n",
       "  <thead>\n",
       "    <tr style=\"text-align: right;\">\n",
       "      <th></th>\n",
       "      <th>user_id</th>\n",
       "      <th>rekkos</th>\n",
       "    </tr>\n",
       "  </thead>\n",
       "  <tbody>\n",
       "    <tr>\n",
       "      <th>0</th>\n",
       "      <td>173259092511508332961805537433278356613</td>\n",
       "      <td>[95588577945262351643987306457854212185, 10169...</td>\n",
       "    </tr>\n",
       "    <tr>\n",
       "      <th>1</th>\n",
       "      <td>175531225445750135224629001292094625386</td>\n",
       "      <td>[95588577945262351643987306457854212185, 10169...</td>\n",
       "    </tr>\n",
       "    <tr>\n",
       "      <th>2</th>\n",
       "      <td>175456934034865273087601583309920541917</td>\n",
       "      <td>[95588577945262351643987306457854212185, 10169...</td>\n",
       "    </tr>\n",
       "    <tr>\n",
       "      <th>3</th>\n",
       "      <td>136129747179209875179444036984951419826</td>\n",
       "      <td>[95588577945262351643987306457854212185, 10169...</td>\n",
       "    </tr>\n",
       "    <tr>\n",
       "      <th>4</th>\n",
       "      <td>175191682770652346432502214192078716096</td>\n",
       "      <td>[95588577945262351643987306457854212185, 10169...</td>\n",
       "    </tr>\n",
       "  </tbody>\n",
       "</table>\n",
       "</div>"
      ],
      "text/plain": [
       "                                   user_id  \\\n",
       "0  173259092511508332961805537433278356613   \n",
       "1  175531225445750135224629001292094625386   \n",
       "2  175456934034865273087601583309920541917   \n",
       "3  136129747179209875179444036984951419826   \n",
       "4  175191682770652346432502214192078716096   \n",
       "\n",
       "                                              rekkos  \n",
       "0  [95588577945262351643987306457854212185, 10169...  \n",
       "1  [95588577945262351643987306457854212185, 10169...  \n",
       "2  [95588577945262351643987306457854212185, 10169...  \n",
       "3  [95588577945262351643987306457854212185, 10169...  \n",
       "4  [95588577945262351643987306457854212185, 10169...  "
      ]
     },
     "execution_count": 19,
     "metadata": {},
     "output_type": "execute_result"
    }
   ],
   "source": [
    "recs = list(islice(cycle([base_recommendations]), len(users['user_id'])))\n",
    "users['rekkos'] = recs\n",
    "users.head()"
   ]
  },
  {
   "cell_type": "code",
   "execution_count": 20,
   "metadata": {
    "ExecuteTime": {
     "end_time": "2023-09-23T05:38:12.358654Z",
     "start_time": "2023-09-23T05:38:09.894136Z"
    }
   },
   "outputs": [],
   "source": [
    "# lets add artifical binary group to check BaselineRecommender\n",
    "group = [np.random.random_integers(2) for x in range(len(users))]\n",
    "users['group'] = group"
   ]
  },
  {
   "cell_type": "code",
   "execution_count": 21,
   "metadata": {
    "ExecuteTime": {
     "end_time": "2023-09-23T05:38:12.396034Z",
     "start_time": "2023-09-23T05:38:12.362668Z"
    }
   },
   "outputs": [
    {
     "data": {
      "text/plain": [
       "group\n",
       "1    55359\n",
       "2    55401\n",
       "Name: user_id, dtype: int64"
      ]
     },
     "execution_count": 21,
     "metadata": {},
     "output_type": "execute_result"
    }
   ],
   "source": [
    "users.groupby('group')['user_id'].count()"
   ]
  },
  {
   "cell_type": "code",
   "execution_count": 22,
   "metadata": {
    "ExecuteTime": {
     "end_time": "2023-09-23T05:38:12.946116Z",
     "start_time": "2023-09-23T05:38:12.399055Z"
    }
   },
   "outputs": [
    {
     "data": {
      "text/html": [
       "<div>\n",
       "<style scoped>\n",
       "    .dataframe tbody tr th:only-of-type {\n",
       "        vertical-align: middle;\n",
       "    }\n",
       "\n",
       "    .dataframe tbody tr th {\n",
       "        vertical-align: top;\n",
       "    }\n",
       "\n",
       "    .dataframe thead th {\n",
       "        text-align: right;\n",
       "    }\n",
       "</style>\n",
       "<table border=\"1\" class=\"dataframe\">\n",
       "  <thead>\n",
       "    <tr style=\"text-align: right;\">\n",
       "      <th></th>\n",
       "      <th>platform</th>\n",
       "      <th>utc_event_time</th>\n",
       "      <th>utc_event_date</th>\n",
       "      <th>user_id</th>\n",
       "      <th>event_type</th>\n",
       "      <th>price</th>\n",
       "      <th>quantity</th>\n",
       "      <th>item_id</th>\n",
       "      <th>main_category</th>\n",
       "      <th>sub_category</th>\n",
       "      <th>...</th>\n",
       "      <th>month</th>\n",
       "      <th>day</th>\n",
       "      <th>hour</th>\n",
       "      <th>lag_event_timestamp</th>\n",
       "      <th>is_first_event</th>\n",
       "      <th>timestamp_first_event</th>\n",
       "      <th>session_id</th>\n",
       "      <th>session_duration</th>\n",
       "      <th>rekkos</th>\n",
       "      <th>group</th>\n",
       "    </tr>\n",
       "  </thead>\n",
       "  <tbody>\n",
       "    <tr>\n",
       "      <th>0</th>\n",
       "      <td>Android</td>\n",
       "      <td>2023-07-31 12:00:05+00:00</td>\n",
       "      <td>2023-07-31</td>\n",
       "      <td>173259092511508332961805537433278356613</td>\n",
       "      <td>view_item</td>\n",
       "      <td>163800.0</td>\n",
       "      <td>1.0</td>\n",
       "      <td>260726654727418165900362987409768274857</td>\n",
       "      <td>144086449872839020031157148875692321280</td>\n",
       "      <td>173321378319243508149201199923244637487</td>\n",
       "      <td>...</td>\n",
       "      <td>7</td>\n",
       "      <td>31</td>\n",
       "      <td>15</td>\n",
       "      <td>2023-07-31 05:21:49</td>\n",
       "      <td>1</td>\n",
       "      <td>2023-07-31 15:00:05</td>\n",
       "      <td>25769803996</td>\n",
       "      <td>0</td>\n",
       "      <td>[95588577945262351643987306457854212185, 10169...</td>\n",
       "      <td>1</td>\n",
       "    </tr>\n",
       "    <tr>\n",
       "      <th>1</th>\n",
       "      <td>Android</td>\n",
       "      <td>2023-07-31 16:50:47+00:00</td>\n",
       "      <td>2023-07-31</td>\n",
       "      <td>175531225445750135224629001292094625386</td>\n",
       "      <td>view_item</td>\n",
       "      <td>329000.0</td>\n",
       "      <td>1.0</td>\n",
       "      <td>62874459636212199856820592742465687422</td>\n",
       "      <td>154366424108017296963249370561478064618</td>\n",
       "      <td>60270833747106288434434595877071461453</td>\n",
       "      <td>...</td>\n",
       "      <td>7</td>\n",
       "      <td>31</td>\n",
       "      <td>19</td>\n",
       "      <td>NaN</td>\n",
       "      <td>1</td>\n",
       "      <td>2023-07-31 19:50:47</td>\n",
       "      <td>5694</td>\n",
       "      <td>0</td>\n",
       "      <td>[95588577945262351643987306457854212185, 10169...</td>\n",
       "      <td>1</td>\n",
       "    </tr>\n",
       "    <tr>\n",
       "      <th>2</th>\n",
       "      <td>Site</td>\n",
       "      <td>2023-07-31 18:51:29+00:00</td>\n",
       "      <td>2023-07-31</td>\n",
       "      <td>175456934034865273087601583309920541917</td>\n",
       "      <td>view_item</td>\n",
       "      <td>94700.0</td>\n",
       "      <td>1.0</td>\n",
       "      <td>301113677287200808879250957235197355461</td>\n",
       "      <td>13798607401255592813561468416979820649</td>\n",
       "      <td>266864194786171476250208354353832955366</td>\n",
       "      <td>...</td>\n",
       "      <td>7</td>\n",
       "      <td>31</td>\n",
       "      <td>21</td>\n",
       "      <td>NaN</td>\n",
       "      <td>1</td>\n",
       "      <td>2023-07-31 21:51:29</td>\n",
       "      <td>3703</td>\n",
       "      <td>0</td>\n",
       "      <td>[95588577945262351643987306457854212185, 10169...</td>\n",
       "      <td>2</td>\n",
       "    </tr>\n",
       "    <tr>\n",
       "      <th>3</th>\n",
       "      <td>Site</td>\n",
       "      <td>2023-07-31 06:35:50+00:00</td>\n",
       "      <td>2023-07-31</td>\n",
       "      <td>136129747179209875179444036984951419826</td>\n",
       "      <td>view_item</td>\n",
       "      <td>30500.0</td>\n",
       "      <td>1.0</td>\n",
       "      <td>146938954500183309632143980050512715097</td>\n",
       "      <td>45117301157169820192891250731273658842</td>\n",
       "      <td>138272492718411940153002045605569451150</td>\n",
       "      <td>...</td>\n",
       "      <td>7</td>\n",
       "      <td>31</td>\n",
       "      <td>9</td>\n",
       "      <td>NaN</td>\n",
       "      <td>1</td>\n",
       "      <td>2023-07-31 09:35:50</td>\n",
       "      <td>25769805241</td>\n",
       "      <td>0</td>\n",
       "      <td>[95588577945262351643987306457854212185, 10169...</td>\n",
       "      <td>2</td>\n",
       "    </tr>\n",
       "    <tr>\n",
       "      <th>4</th>\n",
       "      <td>Android</td>\n",
       "      <td>2023-07-31 10:19:04+00:00</td>\n",
       "      <td>2023-07-31</td>\n",
       "      <td>175191682770652346432502214192078716096</td>\n",
       "      <td>view_item</td>\n",
       "      <td>45500.0</td>\n",
       "      <td>1.0</td>\n",
       "      <td>303613093764450740807978528504906103484</td>\n",
       "      <td>226036533030553532728399561714766831</td>\n",
       "      <td>200033172283332864904098097188143308177</td>\n",
       "      <td>...</td>\n",
       "      <td>7</td>\n",
       "      <td>31</td>\n",
       "      <td>13</td>\n",
       "      <td>NaN</td>\n",
       "      <td>1</td>\n",
       "      <td>2023-07-31 13:19:04</td>\n",
       "      <td>8589940079</td>\n",
       "      <td>0</td>\n",
       "      <td>[95588577945262351643987306457854212185, 10169...</td>\n",
       "      <td>2</td>\n",
       "    </tr>\n",
       "  </tbody>\n",
       "</table>\n",
       "<p>5 rows × 23 columns</p>\n",
       "</div>"
      ],
      "text/plain": [
       "  platform             utc_event_time utc_event_date  \\\n",
       "0  Android  2023-07-31 12:00:05+00:00     2023-07-31   \n",
       "1  Android  2023-07-31 16:50:47+00:00     2023-07-31   \n",
       "2     Site  2023-07-31 18:51:29+00:00     2023-07-31   \n",
       "3     Site  2023-07-31 06:35:50+00:00     2023-07-31   \n",
       "4  Android  2023-07-31 10:19:04+00:00     2023-07-31   \n",
       "\n",
       "                                   user_id event_type     price  quantity  \\\n",
       "0  173259092511508332961805537433278356613  view_item  163800.0       1.0   \n",
       "1  175531225445750135224629001292094625386  view_item  329000.0       1.0   \n",
       "2  175456934034865273087601583309920541917  view_item   94700.0       1.0   \n",
       "3  136129747179209875179444036984951419826  view_item   30500.0       1.0   \n",
       "4  175191682770652346432502214192078716096  view_item   45500.0       1.0   \n",
       "\n",
       "                                   item_id  \\\n",
       "0  260726654727418165900362987409768274857   \n",
       "1   62874459636212199856820592742465687422   \n",
       "2  301113677287200808879250957235197355461   \n",
       "3  146938954500183309632143980050512715097   \n",
       "4  303613093764450740807978528504906103484   \n",
       "\n",
       "                             main_category  \\\n",
       "0  144086449872839020031157148875692321280   \n",
       "1  154366424108017296963249370561478064618   \n",
       "2   13798607401255592813561468416979820649   \n",
       "3   45117301157169820192891250731273658842   \n",
       "4     226036533030553532728399561714766831   \n",
       "\n",
       "                              sub_category  ...  month day  hour  \\\n",
       "0  173321378319243508149201199923244637487  ...      7  31    15   \n",
       "1   60270833747106288434434595877071461453  ...      7  31    19   \n",
       "2  266864194786171476250208354353832955366  ...      7  31    21   \n",
       "3  138272492718411940153002045605569451150  ...      7  31     9   \n",
       "4  200033172283332864904098097188143308177  ...      7  31    13   \n",
       "\n",
       "   lag_event_timestamp  is_first_event  timestamp_first_event   session_id  \\\n",
       "0  2023-07-31 05:21:49               1    2023-07-31 15:00:05  25769803996   \n",
       "1                  NaN               1    2023-07-31 19:50:47         5694   \n",
       "2                  NaN               1    2023-07-31 21:51:29         3703   \n",
       "3                  NaN               1    2023-07-31 09:35:50  25769805241   \n",
       "4                  NaN               1    2023-07-31 13:19:04   8589940079   \n",
       "\n",
       "   session_duration                                             rekkos  group  \n",
       "0                 0  [95588577945262351643987306457854212185, 10169...      1  \n",
       "1                 0  [95588577945262351643987306457854212185, 10169...      1  \n",
       "2                 0  [95588577945262351643987306457854212185, 10169...      2  \n",
       "3                 0  [95588577945262351643987306457854212185, 10169...      2  \n",
       "4                 0  [95588577945262351643987306457854212185, 10169...      2  \n",
       "\n",
       "[5 rows x 23 columns]"
      ]
     },
     "execution_count": 22,
     "metadata": {},
     "output_type": "execute_result"
    }
   ],
   "source": [
    "data = pd.merge(interactions, users, how = 'left', on = USER_COLUMN)\n",
    "data.head()\n",
    "# data.groupby('group').apply(lambda x: popular_without_purchases(x['user_id'], base_recommendations, 5, known_items), axis = 1)"
   ]
  },
  {
   "cell_type": "markdown",
   "metadata": {},
   "source": [
    "Now we have all necessary components: base recommendations without groups with possibility to filter already watched items\n",
    "\n",
    "Also, if we want to get recommendations based on some user groups we can easily do the same with groupby() method and same approach"
   ]
  },
  {
   "cell_type": "code",
   "execution_count": 23,
   "metadata": {
    "ExecuteTime": {
     "end_time": "2023-09-23T05:38:13.435444Z",
     "start_time": "2023-09-23T05:38:12.951705Z"
    }
   },
   "outputs": [
    {
     "data": {
      "text/plain": [
       "group\n",
       "1    [95588577945262351643987306457854212185, 10169...\n",
       "2    [95588577945262351643987306457854212185, 10169...\n",
       "dtype: object"
      ]
     },
     "execution_count": 23,
     "metadata": {},
     "output_type": "execute_result"
    }
   ],
   "source": [
    "# data = pd.merge(interactions_filtered, users, how='left', on = USER_COLUMN)\n",
    "group_recommendations = data.groupby('group').apply(compute_popularity, ITEM_COLUMN, MAX_CANDIDATES)\n",
    "group_recommendations.head()"
   ]
  },
  {
   "cell_type": "code",
   "execution_count": 24,
   "metadata": {
    "ExecuteTime": {
     "end_time": "2023-09-23T05:38:13.456436Z",
     "start_time": "2023-09-23T05:38:13.439457Z"
    }
   },
   "outputs": [
    {
     "data": {
      "text/html": [
       "<div>\n",
       "<style scoped>\n",
       "    .dataframe tbody tr th:only-of-type {\n",
       "        vertical-align: middle;\n",
       "    }\n",
       "\n",
       "    .dataframe tbody tr th {\n",
       "        vertical-align: top;\n",
       "    }\n",
       "\n",
       "    .dataframe thead th {\n",
       "        text-align: right;\n",
       "    }\n",
       "</style>\n",
       "<table border=\"1\" class=\"dataframe\">\n",
       "  <thead>\n",
       "    <tr style=\"text-align: right;\">\n",
       "      <th></th>\n",
       "      <th>group</th>\n",
       "      <th>0</th>\n",
       "    </tr>\n",
       "  </thead>\n",
       "  <tbody>\n",
       "    <tr>\n",
       "      <th>0</th>\n",
       "      <td>1</td>\n",
       "      <td>[95588577945262351643987306457854212185, 10169...</td>\n",
       "    </tr>\n",
       "    <tr>\n",
       "      <th>1</th>\n",
       "      <td>2</td>\n",
       "      <td>[95588577945262351643987306457854212185, 10169...</td>\n",
       "    </tr>\n",
       "  </tbody>\n",
       "</table>\n",
       "</div>"
      ],
      "text/plain": [
       "   group                                                  0\n",
       "0      1  [95588577945262351643987306457854212185, 10169...\n",
       "1      2  [95588577945262351643987306457854212185, 10169..."
      ]
     },
     "execution_count": 24,
     "metadata": {},
     "output_type": "execute_result"
    }
   ],
   "source": [
    "group_recommendations.reset_index()"
   ]
  },
  {
   "cell_type": "markdown",
   "metadata": {},
   "source": [
    "In the output we have two rows with a list of film ids for each binary group \n",
    "\n",
    "Next, we have to implement recommned() method which will use "
   ]
  },
  {
   "cell_type": "markdown",
   "metadata": {},
   "source": [
    "## 3. 2. Recommend"
   ]
  },
  {
   "cell_type": "code",
   "execution_count": 25,
   "metadata": {
    "ExecuteTime": {
     "end_time": "2023-09-23T05:38:13.491182Z",
     "start_time": "2023-09-23T05:38:13.460414Z"
    }
   },
   "outputs": [
    {
     "data": {
      "text/html": [
       "<div>\n",
       "<style scoped>\n",
       "    .dataframe tbody tr th:only-of-type {\n",
       "        vertical-align: middle;\n",
       "    }\n",
       "\n",
       "    .dataframe tbody tr th {\n",
       "        vertical-align: top;\n",
       "    }\n",
       "\n",
       "    .dataframe thead th {\n",
       "        text-align: right;\n",
       "    }\n",
       "</style>\n",
       "<table border=\"1\" class=\"dataframe\">\n",
       "  <thead>\n",
       "    <tr style=\"text-align: right;\">\n",
       "      <th></th>\n",
       "      <th>user_id</th>\n",
       "      <th>rekkos</th>\n",
       "      <th>group</th>\n",
       "    </tr>\n",
       "  </thead>\n",
       "  <tbody>\n",
       "    <tr>\n",
       "      <th>0</th>\n",
       "      <td>173259092511508332961805537433278356613</td>\n",
       "      <td>[95588577945262351643987306457854212185, 10169...</td>\n",
       "      <td>1</td>\n",
       "    </tr>\n",
       "    <tr>\n",
       "      <th>1</th>\n",
       "      <td>175531225445750135224629001292094625386</td>\n",
       "      <td>[95588577945262351643987306457854212185, 10169...</td>\n",
       "      <td>1</td>\n",
       "    </tr>\n",
       "    <tr>\n",
       "      <th>2</th>\n",
       "      <td>175456934034865273087601583309920541917</td>\n",
       "      <td>[95588577945262351643987306457854212185, 10169...</td>\n",
       "      <td>2</td>\n",
       "    </tr>\n",
       "    <tr>\n",
       "      <th>3</th>\n",
       "      <td>136129747179209875179444036984951419826</td>\n",
       "      <td>[95588577945262351643987306457854212185, 10169...</td>\n",
       "      <td>2</td>\n",
       "    </tr>\n",
       "    <tr>\n",
       "      <th>4</th>\n",
       "      <td>175191682770652346432502214192078716096</td>\n",
       "      <td>[95588577945262351643987306457854212185, 10169...</td>\n",
       "      <td>2</td>\n",
       "    </tr>\n",
       "  </tbody>\n",
       "</table>\n",
       "</div>"
      ],
      "text/plain": [
       "                                   user_id  \\\n",
       "0  173259092511508332961805537433278356613   \n",
       "1  175531225445750135224629001292094625386   \n",
       "2  175456934034865273087601583309920541917   \n",
       "3  136129747179209875179444036984951419826   \n",
       "4  175191682770652346432502214192078716096   \n",
       "\n",
       "                                              rekkos  group  \n",
       "0  [95588577945262351643987306457854212185, 10169...      1  \n",
       "1  [95588577945262351643987306457854212185, 10169...      1  \n",
       "2  [95588577945262351643987306457854212185, 10169...      2  \n",
       "3  [95588577945262351643987306457854212185, 10169...      2  \n",
       "4  [95588577945262351643987306457854212185, 10169...      2  "
      ]
     },
     "execution_count": 25,
     "metadata": {},
     "output_type": "execute_result"
    }
   ],
   "source": [
    "# if we do not have groups, then it means we give the same recommendations for all users i.e. base_recommendations\n",
    "# recs = list(islice(cycle([base_recommendations]), len(users['userId'])))\n",
    "# users['rekkos'] = recs\n",
    "users.head()"
   ]
  },
  {
   "cell_type": "code",
   "execution_count": 26,
   "metadata": {
    "ExecuteTime": {
     "end_time": "2023-09-23T05:38:13.596277Z",
     "start_time": "2023-09-23T05:38:13.495193Z"
    }
   },
   "outputs": [
    {
     "data": {
      "text/html": [
       "<div>\n",
       "<style scoped>\n",
       "    .dataframe tbody tr th:only-of-type {\n",
       "        vertical-align: middle;\n",
       "    }\n",
       "\n",
       "    .dataframe tbody tr th {\n",
       "        vertical-align: top;\n",
       "    }\n",
       "\n",
       "    .dataframe thead th {\n",
       "        text-align: right;\n",
       "    }\n",
       "</style>\n",
       "<table border=\"1\" class=\"dataframe\">\n",
       "  <thead>\n",
       "    <tr style=\"text-align: right;\">\n",
       "      <th></th>\n",
       "      <th>user_id</th>\n",
       "      <th>rekkos</th>\n",
       "      <th>group</th>\n",
       "      <th>grouped_rekkos</th>\n",
       "    </tr>\n",
       "  </thead>\n",
       "  <tbody>\n",
       "    <tr>\n",
       "      <th>0</th>\n",
       "      <td>173259092511508332961805537433278356613</td>\n",
       "      <td>[95588577945262351643987306457854212185, 10169...</td>\n",
       "      <td>1</td>\n",
       "      <td>[95588577945262351643987306457854212185, 10169...</td>\n",
       "    </tr>\n",
       "    <tr>\n",
       "      <th>1</th>\n",
       "      <td>175531225445750135224629001292094625386</td>\n",
       "      <td>[95588577945262351643987306457854212185, 10169...</td>\n",
       "      <td>1</td>\n",
       "      <td>[95588577945262351643987306457854212185, 10169...</td>\n",
       "    </tr>\n",
       "    <tr>\n",
       "      <th>2</th>\n",
       "      <td>175456934034865273087601583309920541917</td>\n",
       "      <td>[95588577945262351643987306457854212185, 10169...</td>\n",
       "      <td>2</td>\n",
       "      <td>[95588577945262351643987306457854212185, 10169...</td>\n",
       "    </tr>\n",
       "    <tr>\n",
       "      <th>3</th>\n",
       "      <td>136129747179209875179444036984951419826</td>\n",
       "      <td>[95588577945262351643987306457854212185, 10169...</td>\n",
       "      <td>2</td>\n",
       "      <td>[95588577945262351643987306457854212185, 10169...</td>\n",
       "    </tr>\n",
       "    <tr>\n",
       "      <th>4</th>\n",
       "      <td>175191682770652346432502214192078716096</td>\n",
       "      <td>[95588577945262351643987306457854212185, 10169...</td>\n",
       "      <td>2</td>\n",
       "      <td>[95588577945262351643987306457854212185, 10169...</td>\n",
       "    </tr>\n",
       "  </tbody>\n",
       "</table>\n",
       "</div>"
      ],
      "text/plain": [
       "                                   user_id  \\\n",
       "0  173259092511508332961805537433278356613   \n",
       "1  175531225445750135224629001292094625386   \n",
       "2  175456934034865273087601583309920541917   \n",
       "3  136129747179209875179444036984951419826   \n",
       "4  175191682770652346432502214192078716096   \n",
       "\n",
       "                                              rekkos  group  \\\n",
       "0  [95588577945262351643987306457854212185, 10169...      1   \n",
       "1  [95588577945262351643987306457854212185, 10169...      1   \n",
       "2  [95588577945262351643987306457854212185, 10169...      2   \n",
       "3  [95588577945262351643987306457854212185, 10169...      2   \n",
       "4  [95588577945262351643987306457854212185, 10169...      2   \n",
       "\n",
       "                                      grouped_rekkos  \n",
       "0  [95588577945262351643987306457854212185, 10169...  \n",
       "1  [95588577945262351643987306457854212185, 10169...  \n",
       "2  [95588577945262351643987306457854212185, 10169...  \n",
       "3  [95588577945262351643987306457854212185, 10169...  \n",
       "4  [95588577945262351643987306457854212185, 10169...  "
      ]
     },
     "execution_count": 26,
     "metadata": {},
     "output_type": "execute_result"
    }
   ],
   "source": [
    "# and let's have an example with groups we created earlier\n",
    "group_recommendations = group_recommendations.reset_index()\n",
    "group_rekkos = pd.merge(users, group_recommendations, how ='left', on = 'group')\n",
    "group_rekkos.rename(columns = {0: 'grouped_rekkos'}, inplace = True)\n",
    "group_rekkos.head()"
   ]
  },
  {
   "cell_type": "markdown",
   "metadata": {},
   "source": [
    "We got our groupwise recommendations from 3.1. part and just joined them by group of users are assigned to"
   ]
  },
  {
   "cell_type": "code",
   "execution_count": 29,
   "metadata": {
    "ExecuteTime": {
     "end_time": "2023-09-23T05:38:55.363152Z",
     "start_time": "2023-09-23T05:38:52.271823Z"
    }
   },
   "outputs": [],
   "source": [
    "group_rekkos['person_rekkos'] = group_rekkos.apply(lambda x: popular_without_purchases(x['user_id'], x['grouped_rekkos'], 5, known_items) , axis = 1)"
   ]
  },
  {
   "cell_type": "code",
   "execution_count": 30,
   "metadata": {
    "ExecuteTime": {
     "end_time": "2023-09-23T05:38:57.178616Z",
     "start_time": "2023-09-23T05:38:57.121399Z"
    }
   },
   "outputs": [
    {
     "data": {
      "text/html": [
       "<div>\n",
       "<style scoped>\n",
       "    .dataframe tbody tr th:only-of-type {\n",
       "        vertical-align: middle;\n",
       "    }\n",
       "\n",
       "    .dataframe tbody tr th {\n",
       "        vertical-align: top;\n",
       "    }\n",
       "\n",
       "    .dataframe thead th {\n",
       "        text-align: right;\n",
       "    }\n",
       "</style>\n",
       "<table border=\"1\" class=\"dataframe\">\n",
       "  <thead>\n",
       "    <tr style=\"text-align: right;\">\n",
       "      <th></th>\n",
       "      <th>user_id</th>\n",
       "      <th>group</th>\n",
       "      <th>grouped_rekkos</th>\n",
       "      <th>person_rekkos</th>\n",
       "    </tr>\n",
       "  </thead>\n",
       "  <tbody>\n",
       "    <tr>\n",
       "      <th>0</th>\n",
       "      <td>173259092511508332961805537433278356613</td>\n",
       "      <td>1</td>\n",
       "      <td>[95588577945262351643987306457854212185, 10169...</td>\n",
       "      <td>[95588577945262351643987306457854212185, 10169...</td>\n",
       "    </tr>\n",
       "    <tr>\n",
       "      <th>1</th>\n",
       "      <td>175531225445750135224629001292094625386</td>\n",
       "      <td>1</td>\n",
       "      <td>[95588577945262351643987306457854212185, 10169...</td>\n",
       "      <td>[95588577945262351643987306457854212185, 10169...</td>\n",
       "    </tr>\n",
       "    <tr>\n",
       "      <th>2</th>\n",
       "      <td>175456934034865273087601583309920541917</td>\n",
       "      <td>2</td>\n",
       "      <td>[95588577945262351643987306457854212185, 10169...</td>\n",
       "      <td>[95588577945262351643987306457854212185, 10169...</td>\n",
       "    </tr>\n",
       "    <tr>\n",
       "      <th>3</th>\n",
       "      <td>136129747179209875179444036984951419826</td>\n",
       "      <td>2</td>\n",
       "      <td>[95588577945262351643987306457854212185, 10169...</td>\n",
       "      <td>[95588577945262351643987306457854212185, 10169...</td>\n",
       "    </tr>\n",
       "    <tr>\n",
       "      <th>4</th>\n",
       "      <td>175191682770652346432502214192078716096</td>\n",
       "      <td>2</td>\n",
       "      <td>[95588577945262351643987306457854212185, 10169...</td>\n",
       "      <td>[95588577945262351643987306457854212185, 10169...</td>\n",
       "    </tr>\n",
       "  </tbody>\n",
       "</table>\n",
       "</div>"
      ],
      "text/plain": [
       "                                   user_id  group  \\\n",
       "0  173259092511508332961805537433278356613      1   \n",
       "1  175531225445750135224629001292094625386      1   \n",
       "2  175456934034865273087601583309920541917      2   \n",
       "3  136129747179209875179444036984951419826      2   \n",
       "4  175191682770652346432502214192078716096      2   \n",
       "\n",
       "                                      grouped_rekkos  \\\n",
       "0  [95588577945262351643987306457854212185, 10169...   \n",
       "1  [95588577945262351643987306457854212185, 10169...   \n",
       "2  [95588577945262351643987306457854212185, 10169...   \n",
       "3  [95588577945262351643987306457854212185, 10169...   \n",
       "4  [95588577945262351643987306457854212185, 10169...   \n",
       "\n",
       "                                       person_rekkos  \n",
       "0  [95588577945262351643987306457854212185, 10169...  \n",
       "1  [95588577945262351643987306457854212185, 10169...  \n",
       "2  [95588577945262351643987306457854212185, 10169...  \n",
       "3  [95588577945262351643987306457854212185, 10169...  \n",
       "4  [95588577945262351643987306457854212185, 10169...  "
      ]
     },
     "execution_count": 30,
     "metadata": {},
     "output_type": "execute_result"
    }
   ],
   "source": [
    "group_rekkos[['user_id', 'group', 'grouped_rekkos', 'person_rekkos']].head()"
   ]
  },
  {
   "cell_type": "markdown",
   "metadata": {},
   "source": [
    "## 3.3. Wrap everything into pretty functions"
   ]
  },
  {
   "cell_type": "markdown",
   "metadata": {},
   "source": [
    "### 3.3.1 Fit part"
   ]
  },
  {
   "cell_type": "code",
   "execution_count": 23,
   "metadata": {},
   "outputs": [],
   "source": [
    "def fit(\n",
    "    data: pd.DataFrame,\n",
    "    item_col: str, groups: list = None,\n",
    "    max_candidates: int = 20\n",
    "    ):\n",
    "    \"\"\"\n",
    "    function runs all pipeline to generate recommendations based on given group\n",
    "    :data: dataframe of interactions\n",
    "    :item_col: item column name\n",
    "    :groups: optional, list of groups column names to get recommendations\n",
    "    :max_candidates: number of recommendations to return\n",
    "    \"\"\"\n",
    "    \n",
    "    if groups is not None:\n",
    "        recommendations = data.groupby(groups).apply(compute_popularity, item_col, max_candidates)\n",
    "    else:\n",
    "        recommendations = compute_popularity(data, item_col, max_candidates)\n",
    "\n",
    "    return recommendations"
   ]
  },
  {
   "cell_type": "code",
   "execution_count": 24,
   "metadata": {},
   "outputs": [
    {
     "data": {
      "text/plain": [
       "array(['74727', '128846', '702', '127728', '65216', '43267', '8675',\n",
       "       '80717', '86817', '8699', '872', '27724', '26791', '876', '64278',\n",
       "       '301', '59392', '3021', '3112', '1933'], dtype=object)"
      ]
     },
     "execution_count": 24,
     "metadata": {},
     "output_type": "execute_result"
    }
   ],
   "source": [
    "# check base\n",
    "fit(data, item_col=ITEM_COLUMN)"
   ]
  },
  {
   "cell_type": "code",
   "execution_count": 25,
   "metadata": {},
   "outputs": [
    {
     "data": {
      "text/plain": [
       "group\n",
       "1    [850, 40226, 86817, 2984, 26326, 64499, 5765, ...\n",
       "2    [702, 667, 91690, 3966, 2287, 1939, 1859, 4928...\n",
       "dtype: object"
      ]
     },
     "execution_count": 25,
     "metadata": {},
     "output_type": "execute_result"
    }
   ],
   "source": [
    "# check group-wise\n",
    "fit(data, item_col=ITEM_COLUMN, groups=['group'])"
   ]
  },
  {
   "cell_type": "markdown",
   "metadata": {},
   "source": [
    "### 3.3.2 Recommend part"
   ]
  },
  {
   "cell_type": "code",
   "execution_count": 26,
   "metadata": {},
   "outputs": [],
   "source": [
    "def recommend(\n",
    "    users: pd.DataFrame,\n",
    "    recommendations: pd.DataFrame,\n",
    "    groups: list = None,\n",
    "    K: int = 10):\n",
    "    \"\"\"\n",
    "    recommends items for a given list of users\n",
    "    :users: series / list of users to recommend\n",
    "    :recommendations: output of fit() function\n",
    "    :groups: optional, list of groups column names to get recommendations\n",
    "    :K: number of items to recommend (not always we want to show dozens of items instantly)\n",
    "    \"\"\"\n",
    "    if groups is not None:\n",
    "        output = pd.merge(users, recommendations.reset_index(), how = 'left', on = 'group')\n",
    "\n",
    "    else:\n",
    "        output = users.copy(deep = True)\n",
    "        recs = list(islice(cycle([recommendations]), len(users['userId'])))\n",
    "        output['rekkos'] = recs\n",
    "\n",
    "    return output\n"
   ]
  },
  {
   "cell_type": "code",
   "execution_count": 27,
   "metadata": {},
   "outputs": [
    {
     "data": {
      "text/html": [
       "<div>\n",
       "<style scoped>\n",
       "    .dataframe tbody tr th:only-of-type {\n",
       "        vertical-align: middle;\n",
       "    }\n",
       "\n",
       "    .dataframe tbody tr th {\n",
       "        vertical-align: top;\n",
       "    }\n",
       "\n",
       "    .dataframe thead th {\n",
       "        text-align: right;\n",
       "    }\n",
       "</style>\n",
       "<table border=\"1\" class=\"dataframe\">\n",
       "  <thead>\n",
       "    <tr style=\"text-align: right;\">\n",
       "      <th></th>\n",
       "      <th>userId</th>\n",
       "      <th>group</th>\n",
       "      <th>rekkos</th>\n",
       "    </tr>\n",
       "  </thead>\n",
       "  <tbody>\n",
       "    <tr>\n",
       "      <th>0</th>\n",
       "      <td>1</td>\n",
       "      <td>1</td>\n",
       "      <td>[74727, 128846, 702, 127728, 65216, 43267, 867...</td>\n",
       "    </tr>\n",
       "    <tr>\n",
       "      <th>1</th>\n",
       "      <td>2</td>\n",
       "      <td>2</td>\n",
       "      <td>[74727, 128846, 702, 127728, 65216, 43267, 867...</td>\n",
       "    </tr>\n",
       "    <tr>\n",
       "      <th>2</th>\n",
       "      <td>3</td>\n",
       "      <td>2</td>\n",
       "      <td>[74727, 128846, 702, 127728, 65216, 43267, 867...</td>\n",
       "    </tr>\n",
       "    <tr>\n",
       "      <th>3</th>\n",
       "      <td>4</td>\n",
       "      <td>1</td>\n",
       "      <td>[74727, 128846, 702, 127728, 65216, 43267, 867...</td>\n",
       "    </tr>\n",
       "    <tr>\n",
       "      <th>4</th>\n",
       "      <td>5</td>\n",
       "      <td>1</td>\n",
       "      <td>[74727, 128846, 702, 127728, 65216, 43267, 867...</td>\n",
       "    </tr>\n",
       "  </tbody>\n",
       "</table>\n",
       "</div>"
      ],
      "text/plain": [
       "   userId  group                                             rekkos\n",
       "0       1      1  [74727, 128846, 702, 127728, 65216, 43267, 867...\n",
       "1       2      2  [74727, 128846, 702, 127728, 65216, 43267, 867...\n",
       "2       3      2  [74727, 128846, 702, 127728, 65216, 43267, 867...\n",
       "3       4      1  [74727, 128846, 702, 127728, 65216, 43267, 867...\n",
       "4       5      1  [74727, 128846, 702, 127728, 65216, 43267, 867..."
      ]
     },
     "execution_count": 27,
     "metadata": {},
     "output_type": "execute_result"
    }
   ],
   "source": [
    "# check\n",
    "recs = fit(data, item_col=ITEM_COLUMN)\n",
    "check_recs = recommend(users[['userId', 'group']], recs)\n",
    "check_recs.head()"
   ]
  },
  {
   "cell_type": "code",
   "execution_count": 28,
   "metadata": {},
   "outputs": [
    {
     "data": {
      "text/html": [
       "<div>\n",
       "<style scoped>\n",
       "    .dataframe tbody tr th:only-of-type {\n",
       "        vertical-align: middle;\n",
       "    }\n",
       "\n",
       "    .dataframe tbody tr th {\n",
       "        vertical-align: top;\n",
       "    }\n",
       "\n",
       "    .dataframe thead th {\n",
       "        text-align: right;\n",
       "    }\n",
       "</style>\n",
       "<table border=\"1\" class=\"dataframe\">\n",
       "  <thead>\n",
       "    <tr style=\"text-align: right;\">\n",
       "      <th></th>\n",
       "      <th>userId</th>\n",
       "      <th>group</th>\n",
       "      <th>0</th>\n",
       "    </tr>\n",
       "  </thead>\n",
       "  <tbody>\n",
       "    <tr>\n",
       "      <th>0</th>\n",
       "      <td>1</td>\n",
       "      <td>1</td>\n",
       "      <td>[850, 40226, 86817, 2984, 26326, 64499, 5765, ...</td>\n",
       "    </tr>\n",
       "    <tr>\n",
       "      <th>1</th>\n",
       "      <td>2</td>\n",
       "      <td>2</td>\n",
       "      <td>[702, 667, 91690, 3966, 2287, 1939, 1859, 4928...</td>\n",
       "    </tr>\n",
       "    <tr>\n",
       "      <th>2</th>\n",
       "      <td>3</td>\n",
       "      <td>2</td>\n",
       "      <td>[702, 667, 91690, 3966, 2287, 1939, 1859, 4928...</td>\n",
       "    </tr>\n",
       "    <tr>\n",
       "      <th>3</th>\n",
       "      <td>4</td>\n",
       "      <td>1</td>\n",
       "      <td>[850, 40226, 86817, 2984, 26326, 64499, 5765, ...</td>\n",
       "    </tr>\n",
       "    <tr>\n",
       "      <th>4</th>\n",
       "      <td>5</td>\n",
       "      <td>1</td>\n",
       "      <td>[850, 40226, 86817, 2984, 26326, 64499, 5765, ...</td>\n",
       "    </tr>\n",
       "  </tbody>\n",
       "</table>\n",
       "</div>"
      ],
      "text/plain": [
       "   userId  group                                                  0\n",
       "0       1      1  [850, 40226, 86817, 2984, 26326, 64499, 5765, ...\n",
       "1       2      2  [702, 667, 91690, 3966, 2287, 1939, 1859, 4928...\n",
       "2       3      2  [702, 667, 91690, 3966, 2287, 1939, 1859, 4928...\n",
       "3       4      1  [850, 40226, 86817, 2984, 26326, 64499, 5765, ...\n",
       "4       5      1  [850, 40226, 86817, 2984, 26326, 64499, 5765, ..."
      ]
     },
     "execution_count": 28,
     "metadata": {},
     "output_type": "execute_result"
    }
   ],
   "source": [
    "# check group-wise\n",
    "recs = fit(data, item_col=ITEM_COLUMN, groups = ['group'])\n",
    "check_recs = recommend(users[['userId', 'group']], recs, ['group'])\n",
    "check_recs.head()"
   ]
  },
  {
   "cell_type": "markdown",
   "metadata": {},
   "source": [
    "Congrats! Your first basic recommender system is ready!!"
   ]
  }
 ],
 "metadata": {
  "kernelspec": {
   "display_name": "Python 3 (ipykernel)",
   "language": "python",
   "name": "python3"
  },
  "language_info": {
   "codemirror_mode": {
    "name": "ipython",
    "version": 3
   },
   "file_extension": ".py",
   "mimetype": "text/x-python",
   "name": "python",
   "nbconvert_exporter": "python",
   "pygments_lexer": "ipython3",
   "version": "3.11.4"
  },
  "vscode": {
   "interpreter": {
    "hash": "40d3a090f54c6569ab1632332b64b2c03c39dcf918b08424e98f38b5ae0af88f"
   }
  },
  "widgets": {
   "application/vnd.jupyter.widget-state+json": {
    "state": {},
    "version_major": 2,
    "version_minor": 0
   }
  }
 },
 "nbformat": 4,
 "nbformat_minor": 4
}
