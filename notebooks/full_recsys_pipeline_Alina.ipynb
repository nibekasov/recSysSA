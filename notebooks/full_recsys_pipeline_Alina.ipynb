{
 "cells": [
  {
   "cell_type": "markdown",
   "metadata": {},
   "source": [
    "# 1. Modules and functions"
   ]
  },
  {
   "cell_type": "code",
   "execution_count": 1,
   "metadata": {
    "ExecuteTime": {
     "end_time": "2023-09-23T05:17:05.691449Z",
     "start_time": "2023-09-23T05:15:54.734451Z"
    }
   },
   "outputs": [
    {
     "name": "stdout",
     "output_type": "stream",
     "text": [
      "Requirement already satisfied: catboost in c:\\users\\qwerty\\anaconda3\\lib\\site-packages (1.2.1)\n",
      "Requirement already satisfied: graphviz in c:\\users\\qwerty\\anaconda3\\lib\\site-packages (from catboost) (0.20.1)\n",
      "Requirement already satisfied: matplotlib in c:\\users\\qwerty\\anaconda3\\lib\\site-packages (from catboost) (3.7.1)\n",
      "Requirement already satisfied: numpy>=1.16.0 in c:\\users\\qwerty\\anaconda3\\lib\\site-packages (from catboost) (1.24.3)\n",
      "Requirement already satisfied: pandas>=0.24 in c:\\users\\qwerty\\anaconda3\\lib\\site-packages (from catboost) (1.5.3)\n",
      "Requirement already satisfied: scipy in c:\\users\\qwerty\\anaconda3\\lib\\site-packages (from catboost) (1.10.1)\n",
      "Requirement already satisfied: plotly in c:\\users\\qwerty\\anaconda3\\lib\\site-packages (from catboost) (5.9.0)\n",
      "Requirement already satisfied: six in c:\\users\\qwerty\\anaconda3\\lib\\site-packages (from catboost) (1.16.0)\n",
      "Requirement already satisfied: python-dateutil>=2.8.1 in c:\\users\\qwerty\\anaconda3\\lib\\site-packages (from pandas>=0.24->catboost) (2.8.2)\n",
      "Requirement already satisfied: pytz>=2020.1 in c:\\users\\qwerty\\anaconda3\\lib\\site-packages (from pandas>=0.24->catboost) (2022.7)\n",
      "Requirement already satisfied: contourpy>=1.0.1 in c:\\users\\qwerty\\anaconda3\\lib\\site-packages (from matplotlib->catboost) (1.0.5)\n",
      "Requirement already satisfied: cycler>=0.10 in c:\\users\\qwerty\\anaconda3\\lib\\site-packages (from matplotlib->catboost) (0.11.0)\n",
      "Requirement already satisfied: fonttools>=4.22.0 in c:\\users\\qwerty\\anaconda3\\lib\\site-packages (from matplotlib->catboost) (4.25.0)\n",
      "Requirement already satisfied: kiwisolver>=1.0.1 in c:\\users\\qwerty\\anaconda3\\lib\\site-packages (from matplotlib->catboost) (1.4.4)\n",
      "Requirement already satisfied: packaging>=20.0 in c:\\users\\qwerty\\anaconda3\\lib\\site-packages (from matplotlib->catboost) (23.0)\n",
      "Requirement already satisfied: pillow>=6.2.0 in c:\\users\\qwerty\\anaconda3\\lib\\site-packages (from matplotlib->catboost) (9.4.0)\n",
      "Requirement already satisfied: pyparsing>=2.3.1 in c:\\users\\qwerty\\anaconda3\\lib\\site-packages (from matplotlib->catboost) (3.0.9)\n",
      "Requirement already satisfied: tenacity>=6.2.0 in c:\\users\\qwerty\\anaconda3\\lib\\site-packages (from plotly->catboost) (8.2.2)\n"
     ]
    }
   ],
   "source": [
    "!pip install catboost"
   ]
  },
  {
   "cell_type": "code",
   "execution_count": 2,
   "metadata": {
    "ExecuteTime": {
     "end_time": "2023-09-23T05:18:18.248857Z",
     "start_time": "2023-09-23T05:17:05.713460Z"
    }
   },
   "outputs": [
    {
     "name": "stdout",
     "output_type": "stream",
     "text": [
      "Requirement already satisfied: shap in c:\\users\\qwerty\\anaconda3\\lib\\site-packages (0.42.1)\n",
      "Requirement already satisfied: numpy in c:\\users\\qwerty\\anaconda3\\lib\\site-packages (from shap) (1.24.3)\n",
      "Requirement already satisfied: scipy in c:\\users\\qwerty\\anaconda3\\lib\\site-packages (from shap) (1.10.1)\n",
      "Requirement already satisfied: scikit-learn in c:\\users\\qwerty\\anaconda3\\lib\\site-packages (from shap) (1.3.0)\n",
      "Requirement already satisfied: pandas in c:\\users\\qwerty\\anaconda3\\lib\\site-packages (from shap) (1.5.3)\n",
      "Requirement already satisfied: tqdm>=4.27.0 in c:\\users\\qwerty\\anaconda3\\lib\\site-packages (from shap) (4.65.0)\n",
      "Requirement already satisfied: packaging>20.9 in c:\\users\\qwerty\\anaconda3\\lib\\site-packages (from shap) (23.0)\n",
      "Requirement already satisfied: slicer==0.0.7 in c:\\users\\qwerty\\anaconda3\\lib\\site-packages (from shap) (0.0.7)\n",
      "Requirement already satisfied: numba in c:\\users\\qwerty\\anaconda3\\lib\\site-packages (from shap) (0.57.0)\n",
      "Requirement already satisfied: cloudpickle in c:\\users\\qwerty\\anaconda3\\lib\\site-packages (from shap) (2.2.1)\n",
      "Requirement already satisfied: colorama in c:\\users\\qwerty\\anaconda3\\lib\\site-packages (from tqdm>=4.27.0->shap) (0.4.6)\n",
      "Requirement already satisfied: llvmlite<0.41,>=0.40.0dev0 in c:\\users\\qwerty\\anaconda3\\lib\\site-packages (from numba->shap) (0.40.0)\n",
      "Requirement already satisfied: python-dateutil>=2.8.1 in c:\\users\\qwerty\\anaconda3\\lib\\site-packages (from pandas->shap) (2.8.2)\n",
      "Requirement already satisfied: pytz>=2020.1 in c:\\users\\qwerty\\anaconda3\\lib\\site-packages (from pandas->shap) (2022.7)\n",
      "Requirement already satisfied: joblib>=1.1.1 in c:\\users\\qwerty\\anaconda3\\lib\\site-packages (from scikit-learn->shap) (1.2.0)\n",
      "Requirement already satisfied: threadpoolctl>=2.0.0 in c:\\users\\qwerty\\anaconda3\\lib\\site-packages (from scikit-learn->shap) (2.2.0)\n",
      "Requirement already satisfied: six>=1.5 in c:\\users\\qwerty\\anaconda3\\lib\\site-packages (from python-dateutil>=2.8.1->pandas->shap) (1.16.0)\n"
     ]
    }
   ],
   "source": [
    "!pip install shap"
   ]
  },
  {
   "cell_type": "code",
   "execution_count": 3,
   "metadata": {
    "ExecuteTime": {
     "end_time": "2023-09-23T05:18:32.483283Z",
     "start_time": "2023-09-23T05:18:18.256858Z"
    }
   },
   "outputs": [
    {
     "name": "stderr",
     "output_type": "stream",
     "text": [
      "Using `tqdm.autonotebook.tqdm` in notebook mode. Use `tqdm.tqdm` instead to force console mode (e.g. in jupyter console)\n",
      "LightFM was compiled without OpenMP support. Only a single thread will be used.\n"
     ]
    }
   ],
   "source": [
    "# just to make it available to download w/o SSL verification\n",
    "import ssl\n",
    "ssl._create_default_https_context = ssl._create_unverified_context\n",
    "\n",
    "import shap\n",
    "import numpy as np\n",
    "import pandas as pd\n",
    "import datetime as dt\n",
    "\n",
    "from sklearn.utils import shuffle\n",
    "from sklearn.model_selection import train_test_split\n",
    "\n",
    "from lightfm.data import Dataset\n",
    "from lightfm import LightFM\n",
    "\n",
    "from catboost import CatBoostClassifier\n",
    "\n",
    "from tqdm import tqdm\n",
    "import warnings\n",
    "warnings.filterwarnings('ignore')\n",
    "\n",
    "pd.set_option('display.float_format', lambda x: '%.3f' % x)"
   ]
  },
  {
   "cell_type": "markdown",
   "metadata": {},
   "source": [
    "# 2. Main"
   ]
  },
  {
   "cell_type": "markdown",
   "metadata": {},
   "source": [
    "## 2.1. Load Data"
   ]
  },
  {
   "cell_type": "code",
   "execution_count": 4,
   "metadata": {
    "ExecuteTime": {
     "end_time": "2023-09-23T05:18:40.359048Z",
     "start_time": "2023-09-23T05:18:32.491377Z"
    }
   },
   "outputs": [
    {
     "data": {
      "text/html": [
       "<div>\n",
       "<style scoped>\n",
       "    .dataframe tbody tr th:only-of-type {\n",
       "        vertical-align: middle;\n",
       "    }\n",
       "\n",
       "    .dataframe tbody tr th {\n",
       "        vertical-align: top;\n",
       "    }\n",
       "\n",
       "    .dataframe thead th {\n",
       "        text-align: right;\n",
       "    }\n",
       "</style>\n",
       "<table border=\"1\" class=\"dataframe\">\n",
       "  <thead>\n",
       "    <tr style=\"text-align: right;\">\n",
       "      <th></th>\n",
       "      <th>platform</th>\n",
       "      <th>utc_event_time</th>\n",
       "      <th>utc_event_date</th>\n",
       "      <th>user_id</th>\n",
       "      <th>event_type</th>\n",
       "      <th>price</th>\n",
       "      <th>quantity</th>\n",
       "      <th>item_id</th>\n",
       "      <th>id</th>\n",
       "      <th>timestamp_event_time</th>\n",
       "      <th>year</th>\n",
       "      <th>month</th>\n",
       "      <th>day</th>\n",
       "      <th>hour</th>\n",
       "      <th>lag_event_timestamp</th>\n",
       "      <th>is_first_event</th>\n",
       "      <th>timestamp_first_event</th>\n",
       "      <th>session_id</th>\n",
       "      <th>session_duration</th>\n",
       "    </tr>\n",
       "  </thead>\n",
       "  <tbody>\n",
       "    <tr>\n",
       "      <th>417402</th>\n",
       "      <td>iOS</td>\n",
       "      <td>2023-07-31 17:24:27+00:00</td>\n",
       "      <td>2023-07-31</td>\n",
       "      <td>143590102216846121629039128341490394374</td>\n",
       "      <td>view_item</td>\n",
       "      <td>193900.000</td>\n",
       "      <td>1.000</td>\n",
       "      <td>156221170788598230427691940792446746137</td>\n",
       "      <td>2493</td>\n",
       "      <td>2023-07-31 20:24:27</td>\n",
       "      <td>2023</td>\n",
       "      <td>7</td>\n",
       "      <td>31</td>\n",
       "      <td>20</td>\n",
       "      <td>NaN</td>\n",
       "      <td>1</td>\n",
       "      <td>2023-07-31 20:24:27</td>\n",
       "      <td>2493</td>\n",
       "      <td>0</td>\n",
       "    </tr>\n",
       "    <tr>\n",
       "      <th>228061</th>\n",
       "      <td>Site</td>\n",
       "      <td>2023-07-31 17:19:59+00:00</td>\n",
       "      <td>2023-07-31</td>\n",
       "      <td>68356612019202583998435190963122559941</td>\n",
       "      <td>view_item</td>\n",
       "      <td>73900.000</td>\n",
       "      <td>1.000</td>\n",
       "      <td>91985325974930609197355477501114070594</td>\n",
       "      <td>25769804372</td>\n",
       "      <td>2023-07-31 20:19:59</td>\n",
       "      <td>2023</td>\n",
       "      <td>7</td>\n",
       "      <td>31</td>\n",
       "      <td>20</td>\n",
       "      <td>NaN</td>\n",
       "      <td>1</td>\n",
       "      <td>2023-07-31 20:19:59</td>\n",
       "      <td>25769804372</td>\n",
       "      <td>0</td>\n",
       "    </tr>\n",
       "    <tr>\n",
       "      <th>201110</th>\n",
       "      <td>iOS</td>\n",
       "      <td>2023-07-31 19:33:34+00:00</td>\n",
       "      <td>2023-07-31</td>\n",
       "      <td>233732236473179357801373437030185786199</td>\n",
       "      <td>view_item</td>\n",
       "      <td>325500.000</td>\n",
       "      <td>1.000</td>\n",
       "      <td>137171979943224305486022309005376289351</td>\n",
       "      <td>17179870242</td>\n",
       "      <td>2023-07-31 22:33:34</td>\n",
       "      <td>2023</td>\n",
       "      <td>7</td>\n",
       "      <td>31</td>\n",
       "      <td>22</td>\n",
       "      <td>2023-07-31 22:27:41</td>\n",
       "      <td>0</td>\n",
       "      <td>NaN</td>\n",
       "      <td>17179870241</td>\n",
       "      <td>353</td>\n",
       "    </tr>\n",
       "    <tr>\n",
       "      <th>228060</th>\n",
       "      <td>Site</td>\n",
       "      <td>2023-07-31 18:44:12+00:00</td>\n",
       "      <td>2023-07-31</td>\n",
       "      <td>68356612019202583998435190963122559941</td>\n",
       "      <td>add_to_cart</td>\n",
       "      <td>43800.000</td>\n",
       "      <td>1.000</td>\n",
       "      <td>100782420856388092094772448718057842500</td>\n",
       "      <td>8589942001</td>\n",
       "      <td>2023-07-31 21:44:12</td>\n",
       "      <td>2023</td>\n",
       "      <td>7</td>\n",
       "      <td>31</td>\n",
       "      <td>21</td>\n",
       "      <td>2023-07-31 20:19:59</td>\n",
       "      <td>1</td>\n",
       "      <td>2023-07-31 21:44:12</td>\n",
       "      <td>8589942001</td>\n",
       "      <td>0</td>\n",
       "    </tr>\n",
       "    <tr>\n",
       "      <th>281524</th>\n",
       "      <td>iOS</td>\n",
       "      <td>2023-07-31 21:14:49+00:00</td>\n",
       "      <td>2023-07-31</td>\n",
       "      <td>43931955929292411101534397335332520308</td>\n",
       "      <td>view_item</td>\n",
       "      <td>274200.000</td>\n",
       "      <td>1.000</td>\n",
       "      <td>55048021783355655476102933316512398170</td>\n",
       "      <td>17179874092</td>\n",
       "      <td>2023-08-01 00:14:49</td>\n",
       "      <td>2023</td>\n",
       "      <td>7</td>\n",
       "      <td>31</td>\n",
       "      <td>0</td>\n",
       "      <td>2023-07-31 20:15:42</td>\n",
       "      <td>1</td>\n",
       "      <td>2023-08-01 00:14:49</td>\n",
       "      <td>17179874092</td>\n",
       "      <td>83</td>\n",
       "    </tr>\n",
       "  </tbody>\n",
       "</table>\n",
       "</div>"
      ],
      "text/plain": [
       "       platform             utc_event_time utc_event_date  \\\n",
       "417402      iOS  2023-07-31 17:24:27+00:00     2023-07-31   \n",
       "228061     Site  2023-07-31 17:19:59+00:00     2023-07-31   \n",
       "201110      iOS  2023-07-31 19:33:34+00:00     2023-07-31   \n",
       "228060     Site  2023-07-31 18:44:12+00:00     2023-07-31   \n",
       "281524      iOS  2023-07-31 21:14:49+00:00     2023-07-31   \n",
       "\n",
       "                                        user_id   event_type      price  \\\n",
       "417402  143590102216846121629039128341490394374    view_item 193900.000   \n",
       "228061   68356612019202583998435190963122559941    view_item  73900.000   \n",
       "201110  233732236473179357801373437030185786199    view_item 325500.000   \n",
       "228060   68356612019202583998435190963122559941  add_to_cart  43800.000   \n",
       "281524   43931955929292411101534397335332520308    view_item 274200.000   \n",
       "\n",
       "        quantity                                  item_id           id  \\\n",
       "417402     1.000  156221170788598230427691940792446746137         2493   \n",
       "228061     1.000   91985325974930609197355477501114070594  25769804372   \n",
       "201110     1.000  137171979943224305486022309005376289351  17179870242   \n",
       "228060     1.000  100782420856388092094772448718057842500   8589942001   \n",
       "281524     1.000   55048021783355655476102933316512398170  17179874092   \n",
       "\n",
       "       timestamp_event_time  year  month  day  hour  lag_event_timestamp  \\\n",
       "417402  2023-07-31 20:24:27  2023      7   31    20                  NaN   \n",
       "228061  2023-07-31 20:19:59  2023      7   31    20                  NaN   \n",
       "201110  2023-07-31 22:33:34  2023      7   31    22  2023-07-31 22:27:41   \n",
       "228060  2023-07-31 21:44:12  2023      7   31    21  2023-07-31 20:19:59   \n",
       "281524  2023-08-01 00:14:49  2023      7   31     0  2023-07-31 20:15:42   \n",
       "\n",
       "        is_first_event timestamp_first_event   session_id  session_duration  \n",
       "417402               1   2023-07-31 20:24:27         2493                 0  \n",
       "228061               1   2023-07-31 20:19:59  25769804372                 0  \n",
       "201110               0                   NaN  17179870241               353  \n",
       "228060               1   2023-07-31 21:44:12   8589942001                 0  \n",
       "281524               1   2023-08-01 00:14:49  17179874092                83  "
      ]
     },
     "execution_count": 4,
     "metadata": {},
     "output_type": "execute_result"
    }
   ],
   "source": [
    "# interactions data\n",
    "interactions = pd.read_csv(r'C:\\Users\\qwerty\\RecSys SoA\\baseline\\interactions.csv', index_col = 0)\n",
    "interactions.head()"
   ]
  },
  {
   "cell_type": "code",
   "execution_count": 5,
   "metadata": {
    "ExecuteTime": {
     "end_time": "2023-09-23T05:18:40.594510Z",
     "start_time": "2023-09-23T05:18:40.364059Z"
    }
   },
   "outputs": [],
   "source": [
    "# interactions.isna().sum()\n",
    "interactions = interactions[interactions['price'].notna()]"
   ]
  },
  {
   "cell_type": "markdown",
   "metadata": {},
   "source": [
    "## 2.2. Train/test split"
   ]
  },
  {
   "cell_type": "markdown",
   "metadata": {},
   "source": [
    "## 2.3 Data preparation using LightFM Dataset (first-level model)"
   ]
  },
  {
   "cell_type": "code",
   "execution_count": 6,
   "metadata": {
    "ExecuteTime": {
     "end_time": "2023-09-23T05:18:40.919452Z",
     "start_time": "2023-09-23T05:18:40.600521Z"
    }
   },
   "outputs": [
    {
     "name": "stdout",
     "output_type": "stream",
     "text": [
      "min date in filtered interactions: 2023-08-14 02:59:20\n",
      "max date in filtered interactions: 2023-07-31 03:00:08\n"
     ]
    }
   ],
   "source": [
    "# set dates params for filter\n",
    "MAX_DATE = pd.to_datetime(interactions['timestamp_event_time'].max())\n",
    "MIN_DATE = pd.to_datetime(interactions['timestamp_event_time'].min())\n",
    "TEST_INTERVAL_DAYS = 7\n",
    "\n",
    "print(f\"min date in filtered interactions: {MAX_DATE}\")\n",
    "print(f\"max date in filtered interactions: {MIN_DATE}\")"
   ]
  },
  {
   "cell_type": "code",
   "execution_count": 7,
   "metadata": {
    "ExecuteTime": {
     "end_time": "2023-09-23T05:18:40.930875Z",
     "start_time": "2023-09-23T05:18:40.923402Z"
    }
   },
   "outputs": [],
   "source": [
    "TEST_MAX_DATE = MAX_DATE - dt.timedelta(days = TEST_INTERVAL_DAYS)"
   ]
  },
  {
   "cell_type": "code",
   "execution_count": 8,
   "metadata": {
    "ExecuteTime": {
     "end_time": "2023-09-23T05:18:43.496903Z",
     "start_time": "2023-09-23T05:18:40.935888Z"
    }
   },
   "outputs": [
    {
     "name": "stdout",
     "output_type": "stream",
     "text": [
      "(232036, 19) (245251, 19)\n"
     ]
    }
   ],
   "source": [
    "# define global train and test\n",
    "global_train = interactions.loc[pd.to_datetime(interactions['timestamp_event_time']) < TEST_MAX_DATE]\n",
    "global_test = interactions.loc[pd.to_datetime(interactions['timestamp_event_time']) >= TEST_MAX_DATE]\n",
    "\n",
    "print(global_train.shape, global_test.shape)"
   ]
  },
  {
   "cell_type": "code",
   "execution_count": 9,
   "metadata": {
    "ExecuteTime": {
     "end_time": "2023-09-23T05:18:44.212433Z",
     "start_time": "2023-09-23T05:18:43.501890Z"
    }
   },
   "outputs": [
    {
     "name": "stdout",
     "output_type": "stream",
     "text": [
      "2023-08-04 22:00:20\n"
     ]
    }
   ],
   "source": [
    "# now, we define \"local\" train and test to use some part of the global train for ranker\n",
    "local_train_thresh = pd.to_datetime(global_train['timestamp_event_time'].quantile(q = .7, interpolation = 'nearest'))\n",
    "print(local_train_thresh)"
   ]
  },
  {
   "cell_type": "code",
   "execution_count": 10,
   "metadata": {
    "ExecuteTime": {
     "end_time": "2023-09-23T05:18:44.228105Z",
     "start_time": "2023-09-23T05:18:44.222446Z"
    }
   },
   "outputs": [],
   "source": [
    "# global_train = global_train.dropna().reset_index(drop = True)"
   ]
  },
  {
   "cell_type": "code",
   "execution_count": 11,
   "metadata": {
    "ExecuteTime": {
     "end_time": "2023-09-23T05:18:44.244828Z",
     "start_time": "2023-09-23T05:18:44.233263Z"
    }
   },
   "outputs": [
    {
     "data": {
      "text/plain": [
       "(232036, 19)"
      ]
     },
     "execution_count": 11,
     "metadata": {},
     "output_type": "execute_result"
    }
   ],
   "source": [
    "global_train.shape"
   ]
  },
  {
   "cell_type": "code",
   "execution_count": 12,
   "metadata": {
    "ExecuteTime": {
     "end_time": "2023-09-23T05:18:45.566938Z",
     "start_time": "2023-09-23T05:18:44.249840Z"
    }
   },
   "outputs": [
    {
     "name": "stdout",
     "output_type": "stream",
     "text": [
      "(162424, 19) (69612, 19)\n"
     ]
    }
   ],
   "source": [
    "local_train = global_train[pd.to_datetime(global_train['timestamp_event_time']) < local_train_thresh]\n",
    "local_test = global_train[pd.to_datetime(global_train['timestamp_event_time']) >= local_train_thresh]\n",
    "\n",
    "print(local_train.shape, local_test.shape)"
   ]
  },
  {
   "cell_type": "code",
   "execution_count": 13,
   "metadata": {
    "ExecuteTime": {
     "end_time": "2023-09-23T05:18:45.884356Z",
     "start_time": "2023-09-23T05:18:45.571051Z"
    }
   },
   "outputs": [
    {
     "name": "stdout",
     "output_type": "stream",
     "text": [
      "(42966, 19)\n"
     ]
    }
   ],
   "source": [
    "# finally, we will focus on warm start -- remove cold start users\n",
    "local_test = local_test.loc[local_test['user_id'].isin(local_train['user_id'].unique())]\n",
    "print(local_test.shape)"
   ]
  },
  {
   "cell_type": "code",
   "execution_count": 14,
   "metadata": {
    "ExecuteTime": {
     "end_time": "2023-09-23T05:18:46.802903Z",
     "start_time": "2023-09-23T05:18:45.889662Z"
    }
   },
   "outputs": [],
   "source": [
    "# init class\n",
    "dataset = Dataset()\n",
    "\n",
    "# fit tuple of user and movie interactions\n",
    "dataset.fit(local_train['user_id'].unique(), local_train['item_id'].unique())"
   ]
  },
  {
   "cell_type": "code",
   "execution_count": 15,
   "metadata": {
    "ExecuteTime": {
     "end_time": "2023-09-23T05:18:46.823256Z",
     "start_time": "2023-09-23T05:18:46.808901Z"
    }
   },
   "outputs": [],
   "source": [
    "# now, we define lightfm mapper to use it later for checks\n",
    "lightfm_mapping = dataset.mapping()\n",
    "# lightfm_mapping"
   ]
  },
  {
   "cell_type": "code",
   "execution_count": 16,
   "metadata": {
    "ExecuteTime": {
     "end_time": "2023-09-23T05:18:47.039823Z",
     "start_time": "2023-09-23T05:18:46.827936Z"
    }
   },
   "outputs": [
    {
     "name": "stdout",
     "output_type": "stream",
     "text": [
      "user mapper length -  70860\n",
      "user features mapper length -  70860\n",
      "movies mapper length -  143376\n",
      "Users movie features mapper length -  143376\n"
     ]
    }
   ],
   "source": [
    "lightfm_mapping = {\n",
    "    'users_mapping': lightfm_mapping[0],\n",
    "    'user_features_mapping': lightfm_mapping[1],\n",
    "    'items_mapping': lightfm_mapping[2],\n",
    "    'item_features_mapping': lightfm_mapping[3],\n",
    "}\n",
    "print('user mapper length - ', len(lightfm_mapping['users_mapping']))\n",
    "print('user features mapper length - ', len(lightfm_mapping['user_features_mapping']))\n",
    "print('movies mapper length - ', len(lightfm_mapping['items_mapping']))\n",
    "print('Users movie features mapper length - ', len(lightfm_mapping['item_features_mapping']))"
   ]
  },
  {
   "cell_type": "code",
   "execution_count": 17,
   "metadata": {
    "ExecuteTime": {
     "end_time": "2023-09-23T05:18:47.164446Z",
     "start_time": "2023-09-23T05:18:47.046081Z"
    }
   },
   "outputs": [],
   "source": [
    "# here we create inverted mappers to check recommendations later\n",
    "lightfm_mapping['users_inv_mapping'] = {v: k for k, v in lightfm_mapping['users_mapping'].items()}\n",
    "lightfm_mapping['items_inv_mapping'] = {v: k for k, v in lightfm_mapping['items_mapping'].items()}"
   ]
  },
  {
   "cell_type": "code",
   "execution_count": 18,
   "metadata": {
    "ExecuteTime": {
     "end_time": "2023-09-23T05:18:47.180266Z",
     "start_time": "2023-09-23T05:18:47.170464Z"
    }
   },
   "outputs": [],
   "source": [
    "# special iterator to use with lightfm\n",
    "def df_to_tuple_iterator(df: pd.DataFrame):\n",
    "    '''\n",
    "    :df: pd.DataFrame, interactions dataframe\n",
    "    returs iterator\n",
    "    '''\n",
    "    return zip(*df.values.T)"
   ]
  },
  {
   "cell_type": "code",
   "execution_count": 19,
   "metadata": {
    "ExecuteTime": {
     "end_time": "2023-09-23T05:18:48.135261Z",
     "start_time": "2023-09-23T05:18:47.187282Z"
    }
   },
   "outputs": [],
   "source": [
    "# defining train set on the whole interactions dataset (as HW you will have to split into test and train for evaluation)\n",
    "train_mat, train_mat_weights = dataset.build_interactions(df_to_tuple_iterator(local_train[['user_id', 'item_id']]))"
   ]
  },
  {
   "cell_type": "code",
   "execution_count": 20,
   "metadata": {
    "ExecuteTime": {
     "end_time": "2023-09-23T05:18:48.153063Z",
     "start_time": "2023-09-23T05:18:48.141385Z"
    }
   },
   "outputs": [
    {
     "data": {
      "text/plain": [
       "<70860x143376 sparse matrix of type '<class 'numpy.int32'>'\n",
       "\twith 162424 stored elements in COOrdinate format>"
      ]
     },
     "execution_count": 20,
     "metadata": {},
     "output_type": "execute_result"
    }
   ],
   "source": [
    "train_mat"
   ]
  },
  {
   "cell_type": "code",
   "execution_count": 21,
   "metadata": {
    "ExecuteTime": {
     "end_time": "2023-09-23T05:18:48.170100Z",
     "start_time": "2023-09-23T05:18:48.159007Z"
    }
   },
   "outputs": [
    {
     "data": {
      "text/plain": [
       "<70860x143376 sparse matrix of type '<class 'numpy.float32'>'\n",
       "\twith 162424 stored elements in COOrdinate format>"
      ]
     },
     "execution_count": 21,
     "metadata": {},
     "output_type": "execute_result"
    }
   ],
   "source": [
    "train_mat_weights"
   ]
  },
  {
   "cell_type": "markdown",
   "metadata": {},
   "source": [
    "## 2.4. Train LigthFM model"
   ]
  },
  {
   "cell_type": "code",
   "execution_count": 22,
   "metadata": {
    "ExecuteTime": {
     "end_time": "2023-09-23T05:18:48.185642Z",
     "start_time": "2023-09-23T05:18:48.176113Z"
    }
   },
   "outputs": [],
   "source": [
    "# set params\n",
    "NO_COMPONENTS = 32\n",
    "LEARNING_RATE = .25\n",
    "# LOSS = 'warp'\n",
    "MAX_SAMPLED = 5\n",
    "RANDOM_STATE = 42\n",
    "EPOCHS = 20\n",
    "ITEM_ALPHA = 1e-6   # Regularization factor for item features\n",
    "USER_ALPHA = 1e-6   # Regularization factor for user features"
   ]
  },
  {
   "cell_type": "code",
   "execution_count": 23,
   "metadata": {
    "ExecuteTime": {
     "end_time": "2023-09-23T05:18:48.201812Z",
     "start_time": "2023-09-23T05:18:48.192656Z"
    }
   },
   "outputs": [],
   "source": [
    "# init model\n",
    "lfm_model = LightFM(\n",
    "    no_components = NO_COMPONENTS,\n",
    "    learning_rate = LEARNING_RATE,\n",
    "#     loss = LOSS,\n",
    "    max_sampled = MAX_SAMPLED,\n",
    "    random_state = RANDOM_STATE,\n",
    "    item_alpha=ITEM_ALPHA,\n",
    "    user_alpha=USER_ALPHA\n",
    "    )"
   ]
  },
  {
   "cell_type": "code",
   "execution_count": 24,
   "metadata": {
    "ExecuteTime": {
     "end_time": "2023-09-23T05:19:56.142020Z",
     "start_time": "2023-09-23T05:18:48.207935Z"
    }
   },
   "outputs": [
    {
     "name": "stderr",
     "output_type": "stream",
     "text": [
      "100%|██████████████████████████████████████████████████████████████████████████████████| 20/20 [01:07<00:00,  3.40s/it]\n"
     ]
    }
   ],
   "source": [
    "# execute training\n",
    "for _ in tqdm(range(EPOCHS), total = EPOCHS):\n",
    "    lfm_model.fit_partial(\n",
    "        train_mat,\n",
    "        num_threads = 4\n",
    "    )"
   ]
  },
  {
   "cell_type": "code",
   "execution_count": 25,
   "metadata": {
    "ExecuteTime": {
     "end_time": "2023-09-23T05:19:56.260787Z",
     "start_time": "2023-09-23T05:19:56.146036Z"
    }
   },
   "outputs": [
    {
     "data": {
      "text/plain": [
       "417402    143590102216846121629039128341490394374\n",
       "228061     68356612019202583998435190963122559941\n",
       "201110    233732236473179357801373437030185786199\n",
       "228060     68356612019202583998435190963122559941\n",
       "281524     43931955929292411101534397335332520308\n",
       "                           ...                   \n",
       "197425    215585188727638612291023906692358377019\n",
       "253782    204364795942286739646471282595160877018\n",
       "337796    334179646638449945418121935797096623268\n",
       "198059    219273247076088679226918057647416056877\n",
       "358567    139838960850726607850472642551859344819\n",
       "Name: user_id, Length: 162424, dtype: object"
      ]
     },
     "execution_count": 25,
     "metadata": {},
     "output_type": "execute_result"
    }
   ],
   "source": [
    "local_train['user_id']"
   ]
  },
  {
   "cell_type": "code",
   "execution_count": 26,
   "metadata": {
    "ExecuteTime": {
     "end_time": "2023-09-23T05:19:56.339909Z",
     "start_time": "2023-09-23T05:19:56.268849Z"
    }
   },
   "outputs": [
    {
     "name": "stdout",
     "output_type": "stream",
     "text": [
      "Rekko for user 139838960850726607850472642551859344819, row number in matrix - 6944\n"
     ]
    }
   ],
   "source": [
    "# let's make sense-check\n",
    "top_N = 10\n",
    "user_id = local_train['user_id'][358567]\n",
    "row_id = lightfm_mapping['users_mapping'][user_id]\n",
    "print(f'Rekko for user {user_id}, row number in matrix - {row_id}')"
   ]
  },
  {
   "cell_type": "code",
   "execution_count": 27,
   "metadata": {
    "ExecuteTime": {
     "end_time": "2023-09-23T05:19:56.449112Z",
     "start_time": "2023-09-23T05:19:56.344921Z"
    }
   },
   "outputs": [
    {
     "data": {
      "text/plain": [
       "143376"
      ]
     },
     "execution_count": 27,
     "metadata": {},
     "output_type": "execute_result"
    }
   ],
   "source": [
    "all_cols = list(lightfm_mapping['items_mapping'].values())\n",
    "len(all_cols)"
   ]
  },
  {
   "cell_type": "code",
   "execution_count": 28,
   "metadata": {
    "ExecuteTime": {
     "end_time": "2023-09-23T05:19:56.699665Z",
     "start_time": "2023-09-23T05:19:56.499185Z"
    }
   },
   "outputs": [
    {
     "data": {
      "text/plain": [
       "(array([2.8069394, 2.7331805, 2.4698913, ..., 2.807126 , 2.6174805,\n",
       "        2.4702036], dtype=float32),\n",
       " (143376,))"
      ]
     },
     "execution_count": 28,
     "metadata": {},
     "output_type": "execute_result"
    }
   ],
   "source": [
    "pred = lfm_model.predict(\n",
    "    row_id,\n",
    "    all_cols,\n",
    "    num_threads = 4)\n",
    "pred, pred.shape"
   ]
  },
  {
   "cell_type": "code",
   "execution_count": 29,
   "metadata": {
    "ExecuteTime": {
     "end_time": "2023-09-23T05:19:56.730451Z",
     "start_time": "2023-09-23T05:19:56.706680Z"
    }
   },
   "outputs": [
    {
     "data": {
      "text/plain": [
       "array([ 1026,   607, 16522,  9254,  1605, 21419,   334,  1031,  2326,\n",
       "        6449], dtype=int64)"
      ]
     },
     "execution_count": 29,
     "metadata": {},
     "output_type": "execute_result"
    }
   ],
   "source": [
    "top_cols = np.argpartition(pred, -np.arange(top_N))[-top_N:][::-1]\n",
    "top_cols"
   ]
  },
  {
   "cell_type": "code",
   "execution_count": 30,
   "metadata": {
    "ExecuteTime": {
     "end_time": "2023-09-23T05:19:57.027173Z",
     "start_time": "2023-09-23T05:19:56.736462Z"
    }
   },
   "outputs": [
    {
     "data": {
      "text/html": [
       "<div>\n",
       "<style scoped>\n",
       "    .dataframe tbody tr th:only-of-type {\n",
       "        vertical-align: middle;\n",
       "    }\n",
       "\n",
       "    .dataframe tbody tr th {\n",
       "        vertical-align: top;\n",
       "    }\n",
       "\n",
       "    .dataframe thead th {\n",
       "        text-align: right;\n",
       "    }\n",
       "</style>\n",
       "<table border=\"1\" class=\"dataframe\">\n",
       "  <thead>\n",
       "    <tr style=\"text-align: right;\">\n",
       "      <th></th>\n",
       "      <th>col_id</th>\n",
       "      <th>item_id</th>\n",
       "    </tr>\n",
       "  </thead>\n",
       "  <tbody>\n",
       "    <tr>\n",
       "      <th>0</th>\n",
       "      <td>1026</td>\n",
       "      <td>236744202699948290060657693190981209002</td>\n",
       "    </tr>\n",
       "    <tr>\n",
       "      <th>1</th>\n",
       "      <td>607</td>\n",
       "      <td>237404600743079637226461910293775273824</td>\n",
       "    </tr>\n",
       "    <tr>\n",
       "      <th>2</th>\n",
       "      <td>16522</td>\n",
       "      <td>60426019840232385179488698169503208671</td>\n",
       "    </tr>\n",
       "    <tr>\n",
       "      <th>3</th>\n",
       "      <td>9254</td>\n",
       "      <td>95588577945262351643987306457854212185</td>\n",
       "    </tr>\n",
       "    <tr>\n",
       "      <th>4</th>\n",
       "      <td>1605</td>\n",
       "      <td>268867123658507796037972027312924025943</td>\n",
       "    </tr>\n",
       "    <tr>\n",
       "      <th>5</th>\n",
       "      <td>21419</td>\n",
       "      <td>101693639666891461420614362676113822951</td>\n",
       "    </tr>\n",
       "    <tr>\n",
       "      <th>6</th>\n",
       "      <td>334</td>\n",
       "      <td>211341525510156194317642392499306928053</td>\n",
       "    </tr>\n",
       "    <tr>\n",
       "      <th>7</th>\n",
       "      <td>1031</td>\n",
       "      <td>223630556631755871465874649022885940271</td>\n",
       "    </tr>\n",
       "    <tr>\n",
       "      <th>8</th>\n",
       "      <td>2326</td>\n",
       "      <td>278748058082175992864302242507744343524</td>\n",
       "    </tr>\n",
       "    <tr>\n",
       "      <th>9</th>\n",
       "      <td>6449</td>\n",
       "      <td>146034465447704226942031528185552793892</td>\n",
       "    </tr>\n",
       "  </tbody>\n",
       "</table>\n",
       "</div>"
      ],
      "text/plain": [
       "   col_id                                  item_id\n",
       "0    1026  236744202699948290060657693190981209002\n",
       "1     607  237404600743079637226461910293775273824\n",
       "2   16522   60426019840232385179488698169503208671\n",
       "3    9254   95588577945262351643987306457854212185\n",
       "4    1605  268867123658507796037972027312924025943\n",
       "5   21419  101693639666891461420614362676113822951\n",
       "6     334  211341525510156194317642392499306928053\n",
       "7    1031  223630556631755871465874649022885940271\n",
       "8    2326  278748058082175992864302242507744343524\n",
       "9    6449  146034465447704226942031528185552793892"
      ]
     },
     "execution_count": 30,
     "metadata": {},
     "output_type": "execute_result"
    }
   ],
   "source": [
    "recs = pd.DataFrame({'col_id': top_cols})\n",
    "recs['item_id'] = recs['col_id'].map(lightfm_mapping['items_inv_mapping'].get)\n",
    "# recs['title'] = recs['item_id'].map(item_name_mapper)\n",
    "recs"
   ]
  },
  {
   "cell_type": "code",
   "execution_count": 31,
   "metadata": {
    "ExecuteTime": {
     "end_time": "2023-09-23T05:19:57.118107Z",
     "start_time": "2023-09-23T05:19:57.036474Z"
    }
   },
   "outputs": [
    {
     "data": {
      "text/plain": [
       "417402    143590102216846121629039128341490394374\n",
       "228061     68356612019202583998435190963122559941\n",
       "201110    233732236473179357801373437030185786199\n",
       "228060     68356612019202583998435190963122559941\n",
       "281524     43931955929292411101534397335332520308\n",
       "                           ...                   \n",
       "197425    215585188727638612291023906692358377019\n",
       "253782    204364795942286739646471282595160877018\n",
       "337796    334179646638449945418121935797096623268\n",
       "198059    219273247076088679226918057647416056877\n",
       "358567    139838960850726607850472642551859344819\n",
       "Name: user_id, Length: 162424, dtype: object"
      ]
     },
     "execution_count": 31,
     "metadata": {},
     "output_type": "execute_result"
    }
   ],
   "source": [
    "local_train['user_id']"
   ]
  },
  {
   "cell_type": "code",
   "execution_count": 32,
   "metadata": {
    "ExecuteTime": {
     "end_time": "2023-09-23T05:19:57.293398Z",
     "start_time": "2023-09-23T05:19:57.122118Z"
    }
   },
   "outputs": [
    {
     "name": "stdout",
     "output_type": "stream",
     "text": [
      "Rekko for user 334179646638449945418121935797096623268, row number in matrix - 26777\n"
     ]
    }
   ],
   "source": [
    "# let's make sense-check\n",
    "top_N = 10\n",
    "user_id = local_train['user_id'][337796]\n",
    "row_id = lightfm_mapping['users_mapping'][user_id]\n",
    "print(f'Rekko for user {user_id}, row number in matrix - {row_id}')"
   ]
  },
  {
   "cell_type": "code",
   "execution_count": 33,
   "metadata": {
    "ExecuteTime": {
     "end_time": "2023-09-23T05:19:57.401531Z",
     "start_time": "2023-09-23T05:19:57.299885Z"
    }
   },
   "outputs": [
    {
     "data": {
      "text/plain": [
       "(array([2.1341481, 2.0599144, 1.7997415, ..., 2.138835 , 1.951754 ,\n",
       "        1.7957951], dtype=float32),\n",
       " (143376,))"
      ]
     },
     "execution_count": 33,
     "metadata": {},
     "output_type": "execute_result"
    }
   ],
   "source": [
    "pred = lfm_model.predict(\n",
    "    row_id,\n",
    "    all_cols,\n",
    "    num_threads = 4)\n",
    "pred, pred.shape"
   ]
  },
  {
   "cell_type": "code",
   "execution_count": 34,
   "metadata": {
    "ExecuteTime": {
     "end_time": "2023-09-23T05:19:57.442733Z",
     "start_time": "2023-09-23T05:19:57.406714Z"
    }
   },
   "outputs": [
    {
     "data": {
      "text/plain": [
       "array([ 1026,   607, 16522,  9254,  1605, 21419,   334,  1031,  2326,\n",
       "       12771], dtype=int64)"
      ]
     },
     "execution_count": 34,
     "metadata": {},
     "output_type": "execute_result"
    }
   ],
   "source": [
    "top_cols = np.argpartition(pred, -np.arange(top_N))[-top_N:][::-1]\n",
    "top_cols"
   ]
  },
  {
   "cell_type": "code",
   "execution_count": 35,
   "metadata": {
    "ExecuteTime": {
     "end_time": "2023-09-23T05:19:57.603663Z",
     "start_time": "2023-09-23T05:19:57.456746Z"
    }
   },
   "outputs": [
    {
     "data": {
      "text/html": [
       "<div>\n",
       "<style scoped>\n",
       "    .dataframe tbody tr th:only-of-type {\n",
       "        vertical-align: middle;\n",
       "    }\n",
       "\n",
       "    .dataframe tbody tr th {\n",
       "        vertical-align: top;\n",
       "    }\n",
       "\n",
       "    .dataframe thead th {\n",
       "        text-align: right;\n",
       "    }\n",
       "</style>\n",
       "<table border=\"1\" class=\"dataframe\">\n",
       "  <thead>\n",
       "    <tr style=\"text-align: right;\">\n",
       "      <th></th>\n",
       "      <th>col_id</th>\n",
       "      <th>item_id</th>\n",
       "    </tr>\n",
       "  </thead>\n",
       "  <tbody>\n",
       "    <tr>\n",
       "      <th>0</th>\n",
       "      <td>1026</td>\n",
       "      <td>236744202699948290060657693190981209002</td>\n",
       "    </tr>\n",
       "    <tr>\n",
       "      <th>1</th>\n",
       "      <td>607</td>\n",
       "      <td>237404600743079637226461910293775273824</td>\n",
       "    </tr>\n",
       "    <tr>\n",
       "      <th>2</th>\n",
       "      <td>16522</td>\n",
       "      <td>60426019840232385179488698169503208671</td>\n",
       "    </tr>\n",
       "    <tr>\n",
       "      <th>3</th>\n",
       "      <td>9254</td>\n",
       "      <td>95588577945262351643987306457854212185</td>\n",
       "    </tr>\n",
       "    <tr>\n",
       "      <th>4</th>\n",
       "      <td>1605</td>\n",
       "      <td>268867123658507796037972027312924025943</td>\n",
       "    </tr>\n",
       "    <tr>\n",
       "      <th>5</th>\n",
       "      <td>21419</td>\n",
       "      <td>101693639666891461420614362676113822951</td>\n",
       "    </tr>\n",
       "    <tr>\n",
       "      <th>6</th>\n",
       "      <td>334</td>\n",
       "      <td>211341525510156194317642392499306928053</td>\n",
       "    </tr>\n",
       "    <tr>\n",
       "      <th>7</th>\n",
       "      <td>1031</td>\n",
       "      <td>223630556631755871465874649022885940271</td>\n",
       "    </tr>\n",
       "    <tr>\n",
       "      <th>8</th>\n",
       "      <td>2326</td>\n",
       "      <td>278748058082175992864302242507744343524</td>\n",
       "    </tr>\n",
       "    <tr>\n",
       "      <th>9</th>\n",
       "      <td>12771</td>\n",
       "      <td>316369578318160560517812220790535630342</td>\n",
       "    </tr>\n",
       "  </tbody>\n",
       "</table>\n",
       "</div>"
      ],
      "text/plain": [
       "   col_id                                  item_id\n",
       "0    1026  236744202699948290060657693190981209002\n",
       "1     607  237404600743079637226461910293775273824\n",
       "2   16522   60426019840232385179488698169503208671\n",
       "3    9254   95588577945262351643987306457854212185\n",
       "4    1605  268867123658507796037972027312924025943\n",
       "5   21419  101693639666891461420614362676113822951\n",
       "6     334  211341525510156194317642392499306928053\n",
       "7    1031  223630556631755871465874649022885940271\n",
       "8    2326  278748058082175992864302242507744343524\n",
       "9   12771  316369578318160560517812220790535630342"
      ]
     },
     "execution_count": 35,
     "metadata": {},
     "output_type": "execute_result"
    }
   ],
   "source": [
    "recs = pd.DataFrame({'col_id': top_cols})\n",
    "recs['item_id'] = recs['col_id'].map(lightfm_mapping['items_inv_mapping'].get)\n",
    "# recs['title'] = recs['item_id'].map(item_name_mapper)\n",
    "recs"
   ]
  },
  {
   "cell_type": "code",
   "execution_count": 36,
   "metadata": {
    "ExecuteTime": {
     "end_time": "2023-09-23T05:19:57.673635Z",
     "start_time": "2023-09-23T05:19:57.612678Z"
    }
   },
   "outputs": [],
   "source": [
    "# let's make predictions for all users in test\n",
    "test_preds = pd.DataFrame({\n",
    "    'user_id': local_test['user_id'].unique()\n",
    "})\n",
    "# len(test_preds)"
   ]
  },
  {
   "cell_type": "code",
   "execution_count": 37,
   "metadata": {
    "ExecuteTime": {
     "end_time": "2023-09-23T05:19:57.693292Z",
     "start_time": "2023-09-23T05:19:57.678671Z"
    }
   },
   "outputs": [],
   "source": [
    "def generate_lightfm_recs_mapper(\n",
    "        model: object,\n",
    "        item_ids: list,\n",
    "        known_items: dict,\n",
    "        user_features: list,\n",
    "        item_features: list,\n",
    "        N: int,\n",
    "        user_mapping: dict,\n",
    "        item_inv_mapping: dict,\n",
    "        num_threads: int = 4\n",
    "        ):\n",
    "    def _recs_mapper(user):\n",
    "        user_id = user_mapping[user]\n",
    "        recs = model.predict(\n",
    "            user_id,\n",
    "            item_ids,\n",
    "            user_features = user_features,\n",
    "            item_features = item_features,\n",
    "            num_threads = num_threads)\n",
    "        \n",
    "        additional_N = len(known_items[user_id]) if user_id in known_items else 0\n",
    "        total_N = N + additional_N\n",
    "        top_cols = np.argpartition(recs, -np.arange(total_N))[-total_N:][::-1]\n",
    "        \n",
    "        final_recs = [item_inv_mapping[item] for item in top_cols]\n",
    "        if additional_N > 0:\n",
    "            filter_items = known_items[user_id]\n",
    "            final_recs = [item for item in final_recs if item not in filter_items]\n",
    "        return final_recs[:N]\n",
    "    return _recs_mapper"
   ]
  },
  {
   "cell_type": "code",
   "execution_count": 38,
   "metadata": {
    "ExecuteTime": {
     "end_time": "2023-09-23T05:19:57.799884Z",
     "start_time": "2023-09-23T05:19:57.697306Z"
    }
   },
   "outputs": [],
   "source": [
    "mapper = generate_lightfm_recs_mapper(\n",
    "    lfm_model, \n",
    "    item_ids = all_cols, \n",
    "    known_items = dict(),\n",
    "    N = top_N,\n",
    "    user_features = None, \n",
    "    item_features = None, \n",
    "    user_mapping = lightfm_mapping['users_mapping'],\n",
    "    item_inv_mapping = lightfm_mapping['items_inv_mapping'],\n",
    "    num_threads = 20\n",
    ")"
   ]
  },
  {
   "cell_type": "code",
   "execution_count": 39,
   "metadata": {
    "ExecuteTime": {
     "end_time": "2023-09-23T05:39:33.098300Z",
     "start_time": "2023-09-23T05:19:57.804896Z"
    }
   },
   "outputs": [],
   "source": [
    "test_preds['item_id'] = test_preds['user_id'].map(mapper)"
   ]
  },
  {
   "cell_type": "code",
   "execution_count": 40,
   "metadata": {
    "ExecuteTime": {
     "end_time": "2023-09-23T05:39:33.312434Z",
     "start_time": "2023-09-23T05:39:33.174261Z"
    }
   },
   "outputs": [
    {
     "data": {
      "text/html": [
       "<div>\n",
       "<style scoped>\n",
       "    .dataframe tbody tr th:only-of-type {\n",
       "        vertical-align: middle;\n",
       "    }\n",
       "\n",
       "    .dataframe tbody tr th {\n",
       "        vertical-align: top;\n",
       "    }\n",
       "\n",
       "    .dataframe thead th {\n",
       "        text-align: right;\n",
       "    }\n",
       "</style>\n",
       "<table border=\"1\" class=\"dataframe\">\n",
       "  <thead>\n",
       "    <tr style=\"text-align: right;\">\n",
       "      <th></th>\n",
       "      <th>user_id</th>\n",
       "      <th>item_id</th>\n",
       "    </tr>\n",
       "  </thead>\n",
       "  <tbody>\n",
       "    <tr>\n",
       "      <th>0</th>\n",
       "      <td>285581944577856919582450551906580856768</td>\n",
       "      <td>[236744202699948290060657693190981209002, 2374...</td>\n",
       "    </tr>\n",
       "    <tr>\n",
       "      <th>1</th>\n",
       "      <td>1094451936647407070012927496489406674</td>\n",
       "      <td>[236744202699948290060657693190981209002, 2374...</td>\n",
       "    </tr>\n",
       "    <tr>\n",
       "      <th>2</th>\n",
       "      <td>109310072328463816071573523217430592388</td>\n",
       "      <td>[236744202699948290060657693190981209002, 2374...</td>\n",
       "    </tr>\n",
       "    <tr>\n",
       "      <th>3</th>\n",
       "      <td>259319273166035880254873035231915776294</td>\n",
       "      <td>[236744202699948290060657693190981209002, 2374...</td>\n",
       "    </tr>\n",
       "    <tr>\n",
       "      <th>4</th>\n",
       "      <td>8623034323130784540322254465789582422</td>\n",
       "      <td>[236744202699948290060657693190981209002, 2374...</td>\n",
       "    </tr>\n",
       "    <tr>\n",
       "      <th>...</th>\n",
       "      <td>...</td>\n",
       "      <td>...</td>\n",
       "    </tr>\n",
       "    <tr>\n",
       "      <th>20578</th>\n",
       "      <td>32987486015964276495004339414243417380</td>\n",
       "      <td>[236744202699948290060657693190981209002, 2374...</td>\n",
       "    </tr>\n",
       "    <tr>\n",
       "      <th>20579</th>\n",
       "      <td>330981574207128207381494719267772005172</td>\n",
       "      <td>[236744202699948290060657693190981209002, 2374...</td>\n",
       "    </tr>\n",
       "    <tr>\n",
       "      <th>20580</th>\n",
       "      <td>35446908645122670865250447136024768916</td>\n",
       "      <td>[236744202699948290060657693190981209002, 2374...</td>\n",
       "    </tr>\n",
       "    <tr>\n",
       "      <th>20581</th>\n",
       "      <td>329881948663290773146728756368160606622</td>\n",
       "      <td>[236744202699948290060657693190981209002, 2374...</td>\n",
       "    </tr>\n",
       "    <tr>\n",
       "      <th>20582</th>\n",
       "      <td>176066195374144712828854591360753298014</td>\n",
       "      <td>[236744202699948290060657693190981209002, 2374...</td>\n",
       "    </tr>\n",
       "  </tbody>\n",
       "</table>\n",
       "<p>20583 rows × 2 columns</p>\n",
       "</div>"
      ],
      "text/plain": [
       "                                       user_id  \\\n",
       "0      285581944577856919582450551906580856768   \n",
       "1        1094451936647407070012927496489406674   \n",
       "2      109310072328463816071573523217430592388   \n",
       "3      259319273166035880254873035231915776294   \n",
       "4        8623034323130784540322254465789582422   \n",
       "...                                        ...   \n",
       "20578   32987486015964276495004339414243417380   \n",
       "20579  330981574207128207381494719267772005172   \n",
       "20580   35446908645122670865250447136024768916   \n",
       "20581  329881948663290773146728756368160606622   \n",
       "20582  176066195374144712828854591360753298014   \n",
       "\n",
       "                                                 item_id  \n",
       "0      [236744202699948290060657693190981209002, 2374...  \n",
       "1      [236744202699948290060657693190981209002, 2374...  \n",
       "2      [236744202699948290060657693190981209002, 2374...  \n",
       "3      [236744202699948290060657693190981209002, 2374...  \n",
       "4      [236744202699948290060657693190981209002, 2374...  \n",
       "...                                                  ...  \n",
       "20578  [236744202699948290060657693190981209002, 2374...  \n",
       "20579  [236744202699948290060657693190981209002, 2374...  \n",
       "20580  [236744202699948290060657693190981209002, 2374...  \n",
       "20581  [236744202699948290060657693190981209002, 2374...  \n",
       "20582  [236744202699948290060657693190981209002, 2374...  \n",
       "\n",
       "[20583 rows x 2 columns]"
      ]
     },
     "execution_count": 40,
     "metadata": {},
     "output_type": "execute_result"
    }
   ],
   "source": [
    "test_preds"
   ]
  },
  {
   "cell_type": "code",
   "execution_count": 41,
   "metadata": {
    "ExecuteTime": {
     "end_time": "2023-09-23T05:39:33.571615Z",
     "start_time": "2023-09-23T05:39:33.319447Z"
    }
   },
   "outputs": [
    {
     "data": {
      "text/plain": [
       "(205830, 2)"
      ]
     },
     "execution_count": 41,
     "metadata": {},
     "output_type": "execute_result"
    }
   ],
   "source": [
    "test_preds = test_preds.explode('item_id')\n",
    "test_preds.shape"
   ]
  },
  {
   "cell_type": "code",
   "execution_count": 42,
   "metadata": {
    "ExecuteTime": {
     "end_time": "2023-09-23T05:39:33.757705Z",
     "start_time": "2023-09-23T05:39:33.577629Z"
    }
   },
   "outputs": [],
   "source": [
    "test_preds['rank'] = test_preds.groupby('user_id').cumcount() + 1 "
   ]
  },
  {
   "cell_type": "code",
   "execution_count": 43,
   "metadata": {
    "ExecuteTime": {
     "end_time": "2023-09-23T05:39:33.778646Z",
     "start_time": "2023-09-23T05:39:33.762725Z"
    }
   },
   "outputs": [
    {
     "data": {
      "text/html": [
       "<div>\n",
       "<style scoped>\n",
       "    .dataframe tbody tr th:only-of-type {\n",
       "        vertical-align: middle;\n",
       "    }\n",
       "\n",
       "    .dataframe tbody tr th {\n",
       "        vertical-align: top;\n",
       "    }\n",
       "\n",
       "    .dataframe thead th {\n",
       "        text-align: right;\n",
       "    }\n",
       "</style>\n",
       "<table border=\"1\" class=\"dataframe\">\n",
       "  <thead>\n",
       "    <tr style=\"text-align: right;\">\n",
       "      <th></th>\n",
       "      <th>user_id</th>\n",
       "      <th>item_id</th>\n",
       "      <th>rank</th>\n",
       "    </tr>\n",
       "  </thead>\n",
       "  <tbody>\n",
       "    <tr>\n",
       "      <th>0</th>\n",
       "      <td>285581944577856919582450551906580856768</td>\n",
       "      <td>236744202699948290060657693190981209002</td>\n",
       "      <td>1</td>\n",
       "    </tr>\n",
       "    <tr>\n",
       "      <th>0</th>\n",
       "      <td>285581944577856919582450551906580856768</td>\n",
       "      <td>237404600743079637226461910293775273824</td>\n",
       "      <td>2</td>\n",
       "    </tr>\n",
       "    <tr>\n",
       "      <th>0</th>\n",
       "      <td>285581944577856919582450551906580856768</td>\n",
       "      <td>60426019840232385179488698169503208671</td>\n",
       "      <td>3</td>\n",
       "    </tr>\n",
       "    <tr>\n",
       "      <th>0</th>\n",
       "      <td>285581944577856919582450551906580856768</td>\n",
       "      <td>95588577945262351643987306457854212185</td>\n",
       "      <td>4</td>\n",
       "    </tr>\n",
       "    <tr>\n",
       "      <th>0</th>\n",
       "      <td>285581944577856919582450551906580856768</td>\n",
       "      <td>268867123658507796037972027312924025943</td>\n",
       "      <td>5</td>\n",
       "    </tr>\n",
       "  </tbody>\n",
       "</table>\n",
       "</div>"
      ],
      "text/plain": [
       "                                   user_id  \\\n",
       "0  285581944577856919582450551906580856768   \n",
       "0  285581944577856919582450551906580856768   \n",
       "0  285581944577856919582450551906580856768   \n",
       "0  285581944577856919582450551906580856768   \n",
       "0  285581944577856919582450551906580856768   \n",
       "\n",
       "                                   item_id  rank  \n",
       "0  236744202699948290060657693190981209002     1  \n",
       "0  237404600743079637226461910293775273824     2  \n",
       "0   60426019840232385179488698169503208671     3  \n",
       "0   95588577945262351643987306457854212185     4  \n",
       "0  268867123658507796037972027312924025943     5  "
      ]
     },
     "execution_count": 43,
     "metadata": {},
     "output_type": "execute_result"
    }
   ],
   "source": [
    "test_preds.head()"
   ]
  },
  {
   "cell_type": "code",
   "execution_count": 44,
   "metadata": {
    "ExecuteTime": {
     "end_time": "2023-09-23T05:39:33.837334Z",
     "start_time": "2023-09-23T05:39:33.783662Z"
    }
   },
   "outputs": [
    {
     "data": {
      "text/plain": [
       "108"
      ]
     },
     "execution_count": 44,
     "metadata": {},
     "output_type": "execute_result"
    }
   ],
   "source": [
    "# sense check for diversity of recommendations\n",
    "test_preds.item_id.nunique()"
   ]
  },
  {
   "cell_type": "markdown",
   "metadata": {},
   "source": [
    "## 2.5. CatBoostClassifier"
   ]
  },
  {
   "cell_type": "markdown",
   "metadata": {},
   "source": [
    "### 2.5.1. Data Preparation"
   ]
  },
  {
   "cell_type": "markdown",
   "metadata": {},
   "source": [
    "Now, we need to creat 0/1 as indication of interaction:\n",
    "\n",
    "- positive event -- 1, if watch_pct is not null;\n",
    "- negative venet -- 0 otherwise"
   ]
  },
  {
   "cell_type": "code",
   "execution_count": 45,
   "metadata": {
    "ExecuteTime": {
     "end_time": "2023-09-23T05:39:34.341273Z",
     "start_time": "2023-09-23T05:39:33.843351Z"
    }
   },
   "outputs": [
    {
     "data": {
      "text/plain": [
       "(25, 21)"
      ]
     },
     "execution_count": 45,
     "metadata": {},
     "output_type": "execute_result"
    }
   ],
   "source": [
    "positive_preds = pd.merge(test_preds, local_test, how = 'inner', on = ['user_id', 'item_id'])\n",
    "positive_preds['target'] = 1\n",
    "positive_preds.shape"
   ]
  },
  {
   "cell_type": "code",
   "execution_count": 46,
   "metadata": {
    "ExecuteTime": {
     "end_time": "2023-09-23T05:39:34.392287Z",
     "start_time": "2023-09-23T05:39:34.344286Z"
    }
   },
   "outputs": [
    {
     "data": {
      "text/html": [
       "<div>\n",
       "<style scoped>\n",
       "    .dataframe tbody tr th:only-of-type {\n",
       "        vertical-align: middle;\n",
       "    }\n",
       "\n",
       "    .dataframe tbody tr th {\n",
       "        vertical-align: top;\n",
       "    }\n",
       "\n",
       "    .dataframe thead th {\n",
       "        text-align: right;\n",
       "    }\n",
       "</style>\n",
       "<table border=\"1\" class=\"dataframe\">\n",
       "  <thead>\n",
       "    <tr style=\"text-align: right;\">\n",
       "      <th></th>\n",
       "      <th>user_id</th>\n",
       "      <th>item_id</th>\n",
       "      <th>rank</th>\n",
       "      <th>platform</th>\n",
       "      <th>utc_event_time</th>\n",
       "      <th>utc_event_date</th>\n",
       "      <th>event_type</th>\n",
       "      <th>price</th>\n",
       "      <th>quantity</th>\n",
       "      <th>id</th>\n",
       "      <th>...</th>\n",
       "      <th>year</th>\n",
       "      <th>month</th>\n",
       "      <th>day</th>\n",
       "      <th>hour</th>\n",
       "      <th>lag_event_timestamp</th>\n",
       "      <th>is_first_event</th>\n",
       "      <th>timestamp_first_event</th>\n",
       "      <th>session_id</th>\n",
       "      <th>session_duration</th>\n",
       "      <th>target</th>\n",
       "    </tr>\n",
       "  </thead>\n",
       "  <tbody>\n",
       "    <tr>\n",
       "      <th>0</th>\n",
       "      <td>49656667022597714048506149400875483424</td>\n",
       "      <td>223630556631755871465874649022885940271</td>\n",
       "      <td>8</td>\n",
       "      <td>iOS</td>\n",
       "      <td>2023-08-06 12:56:43+00:00</td>\n",
       "      <td>2023-08-06</td>\n",
       "      <td>view_item</td>\n",
       "      <td>18900.000</td>\n",
       "      <td>1.000</td>\n",
       "      <td>188978564330</td>\n",
       "      <td>...</td>\n",
       "      <td>2023</td>\n",
       "      <td>8</td>\n",
       "      <td>6</td>\n",
       "      <td>15</td>\n",
       "      <td>2023-08-06 15:53:04</td>\n",
       "      <td>0</td>\n",
       "      <td>NaN</td>\n",
       "      <td>188978564329</td>\n",
       "      <td>219</td>\n",
       "      <td>1</td>\n",
       "    </tr>\n",
       "    <tr>\n",
       "      <th>1</th>\n",
       "      <td>321939175457595356984710847269635501589</td>\n",
       "      <td>223630556631755871465874649022885940271</td>\n",
       "      <td>8</td>\n",
       "      <td>Android</td>\n",
       "      <td>2023-08-04 21:16:49+00:00</td>\n",
       "      <td>2023-08-04</td>\n",
       "      <td>view_item</td>\n",
       "      <td>18900.000</td>\n",
       "      <td>1.000</td>\n",
       "      <td>137438954816</td>\n",
       "      <td>...</td>\n",
       "      <td>2023</td>\n",
       "      <td>8</td>\n",
       "      <td>4</td>\n",
       "      <td>0</td>\n",
       "      <td>2023-08-04 12:18:49</td>\n",
       "      <td>1</td>\n",
       "      <td>2023-08-05 00:16:49</td>\n",
       "      <td>137438954816</td>\n",
       "      <td>0</td>\n",
       "      <td>1</td>\n",
       "    </tr>\n",
       "    <tr>\n",
       "      <th>2</th>\n",
       "      <td>130310105795244533267550827391845246305</td>\n",
       "      <td>101693639666891461420614362676113822951</td>\n",
       "      <td>6</td>\n",
       "      <td>Android</td>\n",
       "      <td>2023-08-05 17:41:16+00:00</td>\n",
       "      <td>2023-08-05</td>\n",
       "      <td>purchase</td>\n",
       "      <td>34900.000</td>\n",
       "      <td>1.000</td>\n",
       "      <td>180388627475</td>\n",
       "      <td>...</td>\n",
       "      <td>2023</td>\n",
       "      <td>8</td>\n",
       "      <td>5</td>\n",
       "      <td>20</td>\n",
       "      <td>2023-08-02 01:09:02</td>\n",
       "      <td>1</td>\n",
       "      <td>2023-08-05 20:41:16</td>\n",
       "      <td>180388627475</td>\n",
       "      <td>0</td>\n",
       "      <td>1</td>\n",
       "    </tr>\n",
       "    <tr>\n",
       "      <th>3</th>\n",
       "      <td>112351471795523452408265765553986185635</td>\n",
       "      <td>268867123658507796037972027312924025943</td>\n",
       "      <td>5</td>\n",
       "      <td>Android</td>\n",
       "      <td>2023-08-05 07:08:04+00:00</td>\n",
       "      <td>2023-08-05</td>\n",
       "      <td>view_item</td>\n",
       "      <td>34600.000</td>\n",
       "      <td>1.000</td>\n",
       "      <td>163208762173</td>\n",
       "      <td>...</td>\n",
       "      <td>2023</td>\n",
       "      <td>8</td>\n",
       "      <td>5</td>\n",
       "      <td>10</td>\n",
       "      <td>2023-08-04 12:51:39</td>\n",
       "      <td>1</td>\n",
       "      <td>2023-08-05 10:08:04</td>\n",
       "      <td>163208762173</td>\n",
       "      <td>27</td>\n",
       "      <td>1</td>\n",
       "    </tr>\n",
       "    <tr>\n",
       "      <th>4</th>\n",
       "      <td>116165713743824232394156361892440267459</td>\n",
       "      <td>211341525510156194317642392499306928053</td>\n",
       "      <td>7</td>\n",
       "      <td>Android</td>\n",
       "      <td>2023-08-05 08:20:00+00:00</td>\n",
       "      <td>2023-08-05</td>\n",
       "      <td>view_item</td>\n",
       "      <td>8300.000</td>\n",
       "      <td>1.000</td>\n",
       "      <td>180388632167</td>\n",
       "      <td>...</td>\n",
       "      <td>2023</td>\n",
       "      <td>8</td>\n",
       "      <td>5</td>\n",
       "      <td>11</td>\n",
       "      <td>2023-08-03 12:49:37</td>\n",
       "      <td>1</td>\n",
       "      <td>2023-08-05 11:20:00</td>\n",
       "      <td>180388632167</td>\n",
       "      <td>0</td>\n",
       "      <td>1</td>\n",
       "    </tr>\n",
       "    <tr>\n",
       "      <th>5</th>\n",
       "      <td>82112991229633135325754290217647554155</td>\n",
       "      <td>268867123658507796037972027312924025943</td>\n",
       "      <td>5</td>\n",
       "      <td>iOS</td>\n",
       "      <td>2023-08-05 12:29:21+00:00</td>\n",
       "      <td>2023-08-05</td>\n",
       "      <td>view_item</td>\n",
       "      <td>34600.000</td>\n",
       "      <td>1.000</td>\n",
       "      <td>180388632249</td>\n",
       "      <td>...</td>\n",
       "      <td>2023</td>\n",
       "      <td>8</td>\n",
       "      <td>5</td>\n",
       "      <td>15</td>\n",
       "      <td>2023-08-05 09:34:14</td>\n",
       "      <td>1</td>\n",
       "      <td>2023-08-05 15:29:21</td>\n",
       "      <td>180388632249</td>\n",
       "      <td>0</td>\n",
       "      <td>1</td>\n",
       "    </tr>\n",
       "    <tr>\n",
       "      <th>6</th>\n",
       "      <td>330951446855443907442573844274885383866</td>\n",
       "      <td>237404600743079637226461910293775273824</td>\n",
       "      <td>2</td>\n",
       "      <td>iOS</td>\n",
       "      <td>2023-08-05 12:37:51+00:00</td>\n",
       "      <td>2023-08-05</td>\n",
       "      <td>view_item</td>\n",
       "      <td>8300.000</td>\n",
       "      <td>1.000</td>\n",
       "      <td>180388632706</td>\n",
       "      <td>...</td>\n",
       "      <td>2023</td>\n",
       "      <td>8</td>\n",
       "      <td>5</td>\n",
       "      <td>15</td>\n",
       "      <td>2023-08-04 15:08:29</td>\n",
       "      <td>1</td>\n",
       "      <td>2023-08-05 15:37:51</td>\n",
       "      <td>180388632706</td>\n",
       "      <td>1241</td>\n",
       "      <td>1</td>\n",
       "    </tr>\n",
       "    <tr>\n",
       "      <th>7</th>\n",
       "      <td>319620746393290224056463337479182712951</td>\n",
       "      <td>211341525510156194317642392499306928053</td>\n",
       "      <td>7</td>\n",
       "      <td>Site</td>\n",
       "      <td>2023-08-05 08:48:47+00:00</td>\n",
       "      <td>2023-08-05</td>\n",
       "      <td>view_item</td>\n",
       "      <td>8300.000</td>\n",
       "      <td>1.000</td>\n",
       "      <td>180388629721</td>\n",
       "      <td>...</td>\n",
       "      <td>2023</td>\n",
       "      <td>8</td>\n",
       "      <td>5</td>\n",
       "      <td>11</td>\n",
       "      <td>2023-08-03 17:55:46</td>\n",
       "      <td>1</td>\n",
       "      <td>2023-08-05 11:48:47</td>\n",
       "      <td>180388629721</td>\n",
       "      <td>0</td>\n",
       "      <td>1</td>\n",
       "    </tr>\n",
       "    <tr>\n",
       "      <th>8</th>\n",
       "      <td>328772159493664247189212473973531828481</td>\n",
       "      <td>278748058082175992864302242507744343524</td>\n",
       "      <td>9</td>\n",
       "      <td>Android</td>\n",
       "      <td>2023-08-06 16:29:52+00:00</td>\n",
       "      <td>2023-08-06</td>\n",
       "      <td>view_item</td>\n",
       "      <td>20400.000</td>\n",
       "      <td>1.000</td>\n",
       "      <td>197568502525</td>\n",
       "      <td>...</td>\n",
       "      <td>2023</td>\n",
       "      <td>8</td>\n",
       "      <td>6</td>\n",
       "      <td>19</td>\n",
       "      <td>2023-08-05 10:41:20</td>\n",
       "      <td>1</td>\n",
       "      <td>2023-08-06 19:29:52</td>\n",
       "      <td>197568502525</td>\n",
       "      <td>0</td>\n",
       "      <td>1</td>\n",
       "    </tr>\n",
       "    <tr>\n",
       "      <th>9</th>\n",
       "      <td>258818643555379953654469209553482309023</td>\n",
       "      <td>60426019840232385179488698169503208671</td>\n",
       "      <td>3</td>\n",
       "      <td>Android</td>\n",
       "      <td>2023-08-05 08:51:43+00:00</td>\n",
       "      <td>2023-08-05</td>\n",
       "      <td>add_to_cart</td>\n",
       "      <td>29900.000</td>\n",
       "      <td>1.000</td>\n",
       "      <td>163208760801</td>\n",
       "      <td>...</td>\n",
       "      <td>2023</td>\n",
       "      <td>8</td>\n",
       "      <td>5</td>\n",
       "      <td>11</td>\n",
       "      <td>2023-07-31 05:59:30</td>\n",
       "      <td>1</td>\n",
       "      <td>2023-08-05 11:51:43</td>\n",
       "      <td>163208760801</td>\n",
       "      <td>0</td>\n",
       "      <td>1</td>\n",
       "    </tr>\n",
       "    <tr>\n",
       "      <th>10</th>\n",
       "      <td>260471442049151181209942322213535684601</td>\n",
       "      <td>223630556631755871465874649022885940271</td>\n",
       "      <td>8</td>\n",
       "      <td>Android</td>\n",
       "      <td>2023-08-05 18:06:35+00:00</td>\n",
       "      <td>2023-08-05</td>\n",
       "      <td>view_item</td>\n",
       "      <td>18900.000</td>\n",
       "      <td>1.000</td>\n",
       "      <td>180388629246</td>\n",
       "      <td>...</td>\n",
       "      <td>2023</td>\n",
       "      <td>8</td>\n",
       "      <td>5</td>\n",
       "      <td>21</td>\n",
       "      <td>2023-08-04 17:25:28</td>\n",
       "      <td>1</td>\n",
       "      <td>2023-08-05 21:06:35</td>\n",
       "      <td>180388629246</td>\n",
       "      <td>0</td>\n",
       "      <td>1</td>\n",
       "    </tr>\n",
       "    <tr>\n",
       "      <th>11</th>\n",
       "      <td>255279131055231528852766680143586596025</td>\n",
       "      <td>244236523923905481053116579026149259511</td>\n",
       "      <td>10</td>\n",
       "      <td>Android</td>\n",
       "      <td>2023-08-05 15:21:29+00:00</td>\n",
       "      <td>2023-08-05</td>\n",
       "      <td>view_item</td>\n",
       "      <td>88100.000</td>\n",
       "      <td>1.000</td>\n",
       "      <td>180388629881</td>\n",
       "      <td>...</td>\n",
       "      <td>2023</td>\n",
       "      <td>8</td>\n",
       "      <td>5</td>\n",
       "      <td>18</td>\n",
       "      <td>2023-07-31 18:53:32</td>\n",
       "      <td>1</td>\n",
       "      <td>2023-08-05 18:21:29</td>\n",
       "      <td>180388629881</td>\n",
       "      <td>0</td>\n",
       "      <td>1</td>\n",
       "    </tr>\n",
       "    <tr>\n",
       "      <th>12</th>\n",
       "      <td>84740440655722009271859461823442213778</td>\n",
       "      <td>278748058082175992864302242507744343524</td>\n",
       "      <td>9</td>\n",
       "      <td>Android</td>\n",
       "      <td>2023-08-06 14:41:45+00:00</td>\n",
       "      <td>2023-08-06</td>\n",
       "      <td>view_item</td>\n",
       "      <td>20400.000</td>\n",
       "      <td>1.000</td>\n",
       "      <td>214748367426</td>\n",
       "      <td>...</td>\n",
       "      <td>2023</td>\n",
       "      <td>8</td>\n",
       "      <td>6</td>\n",
       "      <td>17</td>\n",
       "      <td>2023-08-06 11:34:32</td>\n",
       "      <td>1</td>\n",
       "      <td>2023-08-06 17:41:45</td>\n",
       "      <td>214748367426</td>\n",
       "      <td>0</td>\n",
       "      <td>1</td>\n",
       "    </tr>\n",
       "    <tr>\n",
       "      <th>13</th>\n",
       "      <td>296427962612948373296468547084041222503</td>\n",
       "      <td>278748058082175992864302242507744343524</td>\n",
       "      <td>9</td>\n",
       "      <td>iOS</td>\n",
       "      <td>2023-08-05 14:47:02+00:00</td>\n",
       "      <td>2023-08-05</td>\n",
       "      <td>view_item</td>\n",
       "      <td>20400.000</td>\n",
       "      <td>1.000</td>\n",
       "      <td>171798694056</td>\n",
       "      <td>...</td>\n",
       "      <td>2023</td>\n",
       "      <td>8</td>\n",
       "      <td>5</td>\n",
       "      <td>17</td>\n",
       "      <td>2023-08-03 21:03:24</td>\n",
       "      <td>1</td>\n",
       "      <td>2023-08-05 17:47:02</td>\n",
       "      <td>171798694056</td>\n",
       "      <td>0</td>\n",
       "      <td>1</td>\n",
       "    </tr>\n",
       "    <tr>\n",
       "      <th>14</th>\n",
       "      <td>281403350945914616485495012232835855736</td>\n",
       "      <td>278748058082175992864302242507744343524</td>\n",
       "      <td>9</td>\n",
       "      <td>Android</td>\n",
       "      <td>2023-08-05 09:46:02+00:00</td>\n",
       "      <td>2023-08-05</td>\n",
       "      <td>view_item</td>\n",
       "      <td>20400.000</td>\n",
       "      <td>1.000</td>\n",
       "      <td>163208761860</td>\n",
       "      <td>...</td>\n",
       "      <td>2023</td>\n",
       "      <td>8</td>\n",
       "      <td>5</td>\n",
       "      <td>12</td>\n",
       "      <td>2023-08-03 21:09:06</td>\n",
       "      <td>1</td>\n",
       "      <td>2023-08-05 12:46:02</td>\n",
       "      <td>163208761860</td>\n",
       "      <td>0</td>\n",
       "      <td>1</td>\n",
       "    </tr>\n",
       "    <tr>\n",
       "      <th>15</th>\n",
       "      <td>166730075705226507947269163366580853497</td>\n",
       "      <td>223630556631755871465874649022885940271</td>\n",
       "      <td>8</td>\n",
       "      <td>Android</td>\n",
       "      <td>2023-08-05 07:37:50+00:00</td>\n",
       "      <td>2023-08-05</td>\n",
       "      <td>view_item</td>\n",
       "      <td>18900.000</td>\n",
       "      <td>1.000</td>\n",
       "      <td>180388632157</td>\n",
       "      <td>...</td>\n",
       "      <td>2023</td>\n",
       "      <td>8</td>\n",
       "      <td>5</td>\n",
       "      <td>10</td>\n",
       "      <td>2023-08-02 16:16:24</td>\n",
       "      <td>1</td>\n",
       "      <td>2023-08-05 10:37:50</td>\n",
       "      <td>180388632157</td>\n",
       "      <td>0</td>\n",
       "      <td>1</td>\n",
       "    </tr>\n",
       "    <tr>\n",
       "      <th>16</th>\n",
       "      <td>130696542556160109837962317787815792273</td>\n",
       "      <td>95588577945262351643987306457854212185</td>\n",
       "      <td>4</td>\n",
       "      <td>Android</td>\n",
       "      <td>2023-08-05 07:45:49+00:00</td>\n",
       "      <td>2023-08-05</td>\n",
       "      <td>view_item</td>\n",
       "      <td>34900.000</td>\n",
       "      <td>1.000</td>\n",
       "      <td>180388631540</td>\n",
       "      <td>...</td>\n",
       "      <td>2023</td>\n",
       "      <td>8</td>\n",
       "      <td>5</td>\n",
       "      <td>10</td>\n",
       "      <td>2023-08-02 22:39:35</td>\n",
       "      <td>1</td>\n",
       "      <td>2023-08-05 10:45:49</td>\n",
       "      <td>180388631540</td>\n",
       "      <td>6</td>\n",
       "      <td>1</td>\n",
       "    </tr>\n",
       "    <tr>\n",
       "      <th>17</th>\n",
       "      <td>271730047315806597912778027837466278596</td>\n",
       "      <td>60426019840232385179488698169503208671</td>\n",
       "      <td>3</td>\n",
       "      <td>Android</td>\n",
       "      <td>2023-08-05 17:52:24+00:00</td>\n",
       "      <td>2023-08-05</td>\n",
       "      <td>view_item</td>\n",
       "      <td>29900.000</td>\n",
       "      <td>1.000</td>\n",
       "      <td>180388628977</td>\n",
       "      <td>...</td>\n",
       "      <td>2023</td>\n",
       "      <td>8</td>\n",
       "      <td>5</td>\n",
       "      <td>20</td>\n",
       "      <td>2023-07-31 21:03:06</td>\n",
       "      <td>1</td>\n",
       "      <td>2023-08-05 20:52:24</td>\n",
       "      <td>180388628977</td>\n",
       "      <td>0</td>\n",
       "      <td>1</td>\n",
       "    </tr>\n",
       "    <tr>\n",
       "      <th>18</th>\n",
       "      <td>162629078294296680834133785438339204029</td>\n",
       "      <td>146034465447704226942031528185552793892</td>\n",
       "      <td>10</td>\n",
       "      <td>Android</td>\n",
       "      <td>2023-08-06 10:51:40+00:00</td>\n",
       "      <td>2023-08-06</td>\n",
       "      <td>view_item</td>\n",
       "      <td>23800.000</td>\n",
       "      <td>1.000</td>\n",
       "      <td>197568498746</td>\n",
       "      <td>...</td>\n",
       "      <td>2023</td>\n",
       "      <td>8</td>\n",
       "      <td>6</td>\n",
       "      <td>13</td>\n",
       "      <td>2023-08-04 20:10:34</td>\n",
       "      <td>1</td>\n",
       "      <td>2023-08-06 13:51:40</td>\n",
       "      <td>197568498746</td>\n",
       "      <td>0</td>\n",
       "      <td>1</td>\n",
       "    </tr>\n",
       "    <tr>\n",
       "      <th>19</th>\n",
       "      <td>132566608012990847274967331452831726662</td>\n",
       "      <td>278748058082175992864302242507744343524</td>\n",
       "      <td>9</td>\n",
       "      <td>Android</td>\n",
       "      <td>2023-08-06 09:45:17+00:00</td>\n",
       "      <td>2023-08-06</td>\n",
       "      <td>view_item</td>\n",
       "      <td>20400.000</td>\n",
       "      <td>1.000</td>\n",
       "      <td>206158433688</td>\n",
       "      <td>...</td>\n",
       "      <td>2023</td>\n",
       "      <td>8</td>\n",
       "      <td>6</td>\n",
       "      <td>12</td>\n",
       "      <td>2023-08-04 13:50:27</td>\n",
       "      <td>1</td>\n",
       "      <td>2023-08-06 12:45:17</td>\n",
       "      <td>206158433688</td>\n",
       "      <td>0</td>\n",
       "      <td>1</td>\n",
       "    </tr>\n",
       "    <tr>\n",
       "      <th>20</th>\n",
       "      <td>10904810404948173071735984943224292041</td>\n",
       "      <td>101693639666891461420614362676113822951</td>\n",
       "      <td>6</td>\n",
       "      <td>iOS</td>\n",
       "      <td>2023-08-06 19:35:45+00:00</td>\n",
       "      <td>2023-08-06</td>\n",
       "      <td>view_item</td>\n",
       "      <td>34900.000</td>\n",
       "      <td>1.000</td>\n",
       "      <td>214748370747</td>\n",
       "      <td>...</td>\n",
       "      <td>2023</td>\n",
       "      <td>8</td>\n",
       "      <td>6</td>\n",
       "      <td>22</td>\n",
       "      <td>2023-08-04 20:18:50</td>\n",
       "      <td>1</td>\n",
       "      <td>2023-08-06 22:35:45</td>\n",
       "      <td>214748370747</td>\n",
       "      <td>0</td>\n",
       "      <td>1</td>\n",
       "    </tr>\n",
       "    <tr>\n",
       "      <th>21</th>\n",
       "      <td>27418987519603502963755305035327928819</td>\n",
       "      <td>268867123658507796037972027312924025943</td>\n",
       "      <td>5</td>\n",
       "      <td>Android</td>\n",
       "      <td>2023-08-06 12:32:33+00:00</td>\n",
       "      <td>2023-08-06</td>\n",
       "      <td>view_item</td>\n",
       "      <td>34600.000</td>\n",
       "      <td>1.000</td>\n",
       "      <td>197568496427</td>\n",
       "      <td>...</td>\n",
       "      <td>2023</td>\n",
       "      <td>8</td>\n",
       "      <td>6</td>\n",
       "      <td>15</td>\n",
       "      <td>2023-08-06 13:10:26</td>\n",
       "      <td>1</td>\n",
       "      <td>2023-08-06 15:32:33</td>\n",
       "      <td>197568496427</td>\n",
       "      <td>0</td>\n",
       "      <td>1</td>\n",
       "    </tr>\n",
       "    <tr>\n",
       "      <th>22</th>\n",
       "      <td>53437970187281797550508041129069394202</td>\n",
       "      <td>101693639666891461420614362676113822951</td>\n",
       "      <td>6</td>\n",
       "      <td>Android</td>\n",
       "      <td>2023-08-06 16:37:05+00:00</td>\n",
       "      <td>2023-08-06</td>\n",
       "      <td>purchase</td>\n",
       "      <td>34900.000</td>\n",
       "      <td>1.000</td>\n",
       "      <td>197568502209</td>\n",
       "      <td>...</td>\n",
       "      <td>2023</td>\n",
       "      <td>8</td>\n",
       "      <td>6</td>\n",
       "      <td>19</td>\n",
       "      <td>2023-08-06 14:05:00</td>\n",
       "      <td>1</td>\n",
       "      <td>2023-08-06 19:37:05</td>\n",
       "      <td>197568502209</td>\n",
       "      <td>0</td>\n",
       "      <td>1</td>\n",
       "    </tr>\n",
       "    <tr>\n",
       "      <th>23</th>\n",
       "      <td>197101240687980361024872394894204503235</td>\n",
       "      <td>101693639666891461420614362676113822951</td>\n",
       "      <td>6</td>\n",
       "      <td>Android</td>\n",
       "      <td>2023-08-06 12:26:02+00:00</td>\n",
       "      <td>2023-08-06</td>\n",
       "      <td>view_item</td>\n",
       "      <td>34900.000</td>\n",
       "      <td>1.000</td>\n",
       "      <td>188978569955</td>\n",
       "      <td>...</td>\n",
       "      <td>2023</td>\n",
       "      <td>8</td>\n",
       "      <td>6</td>\n",
       "      <td>15</td>\n",
       "      <td>2023-08-04 00:49:23</td>\n",
       "      <td>1</td>\n",
       "      <td>2023-08-06 15:26:02</td>\n",
       "      <td>188978569955</td>\n",
       "      <td>0</td>\n",
       "      <td>1</td>\n",
       "    </tr>\n",
       "    <tr>\n",
       "      <th>24</th>\n",
       "      <td>166894910387648358387788582275489737726</td>\n",
       "      <td>223630556631755871465874649022885940271</td>\n",
       "      <td>8</td>\n",
       "      <td>iOS</td>\n",
       "      <td>2023-08-06 04:57:13+00:00</td>\n",
       "      <td>2023-08-06</td>\n",
       "      <td>view_item</td>\n",
       "      <td>18900.000</td>\n",
       "      <td>1.000</td>\n",
       "      <td>188978566791</td>\n",
       "      <td>...</td>\n",
       "      <td>2023</td>\n",
       "      <td>8</td>\n",
       "      <td>6</td>\n",
       "      <td>7</td>\n",
       "      <td>2023-07-31 16:33:24</td>\n",
       "      <td>1</td>\n",
       "      <td>2023-08-06 07:57:13</td>\n",
       "      <td>188978566791</td>\n",
       "      <td>0</td>\n",
       "      <td>1</td>\n",
       "    </tr>\n",
       "  </tbody>\n",
       "</table>\n",
       "<p>25 rows × 21 columns</p>\n",
       "</div>"
      ],
      "text/plain": [
       "                                    user_id  \\\n",
       "0    49656667022597714048506149400875483424   \n",
       "1   321939175457595356984710847269635501589   \n",
       "2   130310105795244533267550827391845246305   \n",
       "3   112351471795523452408265765553986185635   \n",
       "4   116165713743824232394156361892440267459   \n",
       "5    82112991229633135325754290217647554155   \n",
       "6   330951446855443907442573844274885383866   \n",
       "7   319620746393290224056463337479182712951   \n",
       "8   328772159493664247189212473973531828481   \n",
       "9   258818643555379953654469209553482309023   \n",
       "10  260471442049151181209942322213535684601   \n",
       "11  255279131055231528852766680143586596025   \n",
       "12   84740440655722009271859461823442213778   \n",
       "13  296427962612948373296468547084041222503   \n",
       "14  281403350945914616485495012232835855736   \n",
       "15  166730075705226507947269163366580853497   \n",
       "16  130696542556160109837962317787815792273   \n",
       "17  271730047315806597912778027837466278596   \n",
       "18  162629078294296680834133785438339204029   \n",
       "19  132566608012990847274967331452831726662   \n",
       "20   10904810404948173071735984943224292041   \n",
       "21   27418987519603502963755305035327928819   \n",
       "22   53437970187281797550508041129069394202   \n",
       "23  197101240687980361024872394894204503235   \n",
       "24  166894910387648358387788582275489737726   \n",
       "\n",
       "                                    item_id  rank platform  \\\n",
       "0   223630556631755871465874649022885940271     8      iOS   \n",
       "1   223630556631755871465874649022885940271     8  Android   \n",
       "2   101693639666891461420614362676113822951     6  Android   \n",
       "3   268867123658507796037972027312924025943     5  Android   \n",
       "4   211341525510156194317642392499306928053     7  Android   \n",
       "5   268867123658507796037972027312924025943     5      iOS   \n",
       "6   237404600743079637226461910293775273824     2      iOS   \n",
       "7   211341525510156194317642392499306928053     7     Site   \n",
       "8   278748058082175992864302242507744343524     9  Android   \n",
       "9    60426019840232385179488698169503208671     3  Android   \n",
       "10  223630556631755871465874649022885940271     8  Android   \n",
       "11  244236523923905481053116579026149259511    10  Android   \n",
       "12  278748058082175992864302242507744343524     9  Android   \n",
       "13  278748058082175992864302242507744343524     9      iOS   \n",
       "14  278748058082175992864302242507744343524     9  Android   \n",
       "15  223630556631755871465874649022885940271     8  Android   \n",
       "16   95588577945262351643987306457854212185     4  Android   \n",
       "17   60426019840232385179488698169503208671     3  Android   \n",
       "18  146034465447704226942031528185552793892    10  Android   \n",
       "19  278748058082175992864302242507744343524     9  Android   \n",
       "20  101693639666891461420614362676113822951     6      iOS   \n",
       "21  268867123658507796037972027312924025943     5  Android   \n",
       "22  101693639666891461420614362676113822951     6  Android   \n",
       "23  101693639666891461420614362676113822951     6  Android   \n",
       "24  223630556631755871465874649022885940271     8      iOS   \n",
       "\n",
       "               utc_event_time utc_event_date   event_type     price  quantity  \\\n",
       "0   2023-08-06 12:56:43+00:00     2023-08-06    view_item 18900.000     1.000   \n",
       "1   2023-08-04 21:16:49+00:00     2023-08-04    view_item 18900.000     1.000   \n",
       "2   2023-08-05 17:41:16+00:00     2023-08-05     purchase 34900.000     1.000   \n",
       "3   2023-08-05 07:08:04+00:00     2023-08-05    view_item 34600.000     1.000   \n",
       "4   2023-08-05 08:20:00+00:00     2023-08-05    view_item  8300.000     1.000   \n",
       "5   2023-08-05 12:29:21+00:00     2023-08-05    view_item 34600.000     1.000   \n",
       "6   2023-08-05 12:37:51+00:00     2023-08-05    view_item  8300.000     1.000   \n",
       "7   2023-08-05 08:48:47+00:00     2023-08-05    view_item  8300.000     1.000   \n",
       "8   2023-08-06 16:29:52+00:00     2023-08-06    view_item 20400.000     1.000   \n",
       "9   2023-08-05 08:51:43+00:00     2023-08-05  add_to_cart 29900.000     1.000   \n",
       "10  2023-08-05 18:06:35+00:00     2023-08-05    view_item 18900.000     1.000   \n",
       "11  2023-08-05 15:21:29+00:00     2023-08-05    view_item 88100.000     1.000   \n",
       "12  2023-08-06 14:41:45+00:00     2023-08-06    view_item 20400.000     1.000   \n",
       "13  2023-08-05 14:47:02+00:00     2023-08-05    view_item 20400.000     1.000   \n",
       "14  2023-08-05 09:46:02+00:00     2023-08-05    view_item 20400.000     1.000   \n",
       "15  2023-08-05 07:37:50+00:00     2023-08-05    view_item 18900.000     1.000   \n",
       "16  2023-08-05 07:45:49+00:00     2023-08-05    view_item 34900.000     1.000   \n",
       "17  2023-08-05 17:52:24+00:00     2023-08-05    view_item 29900.000     1.000   \n",
       "18  2023-08-06 10:51:40+00:00     2023-08-06    view_item 23800.000     1.000   \n",
       "19  2023-08-06 09:45:17+00:00     2023-08-06    view_item 20400.000     1.000   \n",
       "20  2023-08-06 19:35:45+00:00     2023-08-06    view_item 34900.000     1.000   \n",
       "21  2023-08-06 12:32:33+00:00     2023-08-06    view_item 34600.000     1.000   \n",
       "22  2023-08-06 16:37:05+00:00     2023-08-06     purchase 34900.000     1.000   \n",
       "23  2023-08-06 12:26:02+00:00     2023-08-06    view_item 34900.000     1.000   \n",
       "24  2023-08-06 04:57:13+00:00     2023-08-06    view_item 18900.000     1.000   \n",
       "\n",
       "              id  ...  year  month  day  hour  lag_event_timestamp  \\\n",
       "0   188978564330  ...  2023      8    6    15  2023-08-06 15:53:04   \n",
       "1   137438954816  ...  2023      8    4     0  2023-08-04 12:18:49   \n",
       "2   180388627475  ...  2023      8    5    20  2023-08-02 01:09:02   \n",
       "3   163208762173  ...  2023      8    5    10  2023-08-04 12:51:39   \n",
       "4   180388632167  ...  2023      8    5    11  2023-08-03 12:49:37   \n",
       "5   180388632249  ...  2023      8    5    15  2023-08-05 09:34:14   \n",
       "6   180388632706  ...  2023      8    5    15  2023-08-04 15:08:29   \n",
       "7   180388629721  ...  2023      8    5    11  2023-08-03 17:55:46   \n",
       "8   197568502525  ...  2023      8    6    19  2023-08-05 10:41:20   \n",
       "9   163208760801  ...  2023      8    5    11  2023-07-31 05:59:30   \n",
       "10  180388629246  ...  2023      8    5    21  2023-08-04 17:25:28   \n",
       "11  180388629881  ...  2023      8    5    18  2023-07-31 18:53:32   \n",
       "12  214748367426  ...  2023      8    6    17  2023-08-06 11:34:32   \n",
       "13  171798694056  ...  2023      8    5    17  2023-08-03 21:03:24   \n",
       "14  163208761860  ...  2023      8    5    12  2023-08-03 21:09:06   \n",
       "15  180388632157  ...  2023      8    5    10  2023-08-02 16:16:24   \n",
       "16  180388631540  ...  2023      8    5    10  2023-08-02 22:39:35   \n",
       "17  180388628977  ...  2023      8    5    20  2023-07-31 21:03:06   \n",
       "18  197568498746  ...  2023      8    6    13  2023-08-04 20:10:34   \n",
       "19  206158433688  ...  2023      8    6    12  2023-08-04 13:50:27   \n",
       "20  214748370747  ...  2023      8    6    22  2023-08-04 20:18:50   \n",
       "21  197568496427  ...  2023      8    6    15  2023-08-06 13:10:26   \n",
       "22  197568502209  ...  2023      8    6    19  2023-08-06 14:05:00   \n",
       "23  188978569955  ...  2023      8    6    15  2023-08-04 00:49:23   \n",
       "24  188978566791  ...  2023      8    6     7  2023-07-31 16:33:24   \n",
       "\n",
       "   is_first_event  timestamp_first_event    session_id  session_duration  \\\n",
       "0               0                    NaN  188978564329               219   \n",
       "1               1    2023-08-05 00:16:49  137438954816                 0   \n",
       "2               1    2023-08-05 20:41:16  180388627475                 0   \n",
       "3               1    2023-08-05 10:08:04  163208762173                27   \n",
       "4               1    2023-08-05 11:20:00  180388632167                 0   \n",
       "5               1    2023-08-05 15:29:21  180388632249                 0   \n",
       "6               1    2023-08-05 15:37:51  180388632706              1241   \n",
       "7               1    2023-08-05 11:48:47  180388629721                 0   \n",
       "8               1    2023-08-06 19:29:52  197568502525                 0   \n",
       "9               1    2023-08-05 11:51:43  163208760801                 0   \n",
       "10              1    2023-08-05 21:06:35  180388629246                 0   \n",
       "11              1    2023-08-05 18:21:29  180388629881                 0   \n",
       "12              1    2023-08-06 17:41:45  214748367426                 0   \n",
       "13              1    2023-08-05 17:47:02  171798694056                 0   \n",
       "14              1    2023-08-05 12:46:02  163208761860                 0   \n",
       "15              1    2023-08-05 10:37:50  180388632157                 0   \n",
       "16              1    2023-08-05 10:45:49  180388631540                 6   \n",
       "17              1    2023-08-05 20:52:24  180388628977                 0   \n",
       "18              1    2023-08-06 13:51:40  197568498746                 0   \n",
       "19              1    2023-08-06 12:45:17  206158433688                 0   \n",
       "20              1    2023-08-06 22:35:45  214748370747                 0   \n",
       "21              1    2023-08-06 15:32:33  197568496427                 0   \n",
       "22              1    2023-08-06 19:37:05  197568502209                 0   \n",
       "23              1    2023-08-06 15:26:02  188978569955                 0   \n",
       "24              1    2023-08-06 07:57:13  188978566791                 0   \n",
       "\n",
       "    target  \n",
       "0        1  \n",
       "1        1  \n",
       "2        1  \n",
       "3        1  \n",
       "4        1  \n",
       "5        1  \n",
       "6        1  \n",
       "7        1  \n",
       "8        1  \n",
       "9        1  \n",
       "10       1  \n",
       "11       1  \n",
       "12       1  \n",
       "13       1  \n",
       "14       1  \n",
       "15       1  \n",
       "16       1  \n",
       "17       1  \n",
       "18       1  \n",
       "19       1  \n",
       "20       1  \n",
       "21       1  \n",
       "22       1  \n",
       "23       1  \n",
       "24       1  \n",
       "\n",
       "[25 rows x 21 columns]"
      ]
     },
     "execution_count": 46,
     "metadata": {},
     "output_type": "execute_result"
    }
   ],
   "source": [
    "positive_preds"
   ]
  },
  {
   "cell_type": "code",
   "execution_count": 47,
   "metadata": {
    "ExecuteTime": {
     "end_time": "2023-09-23T05:39:34.711428Z",
     "start_time": "2023-09-23T05:39:34.397288Z"
    }
   },
   "outputs": [
    {
     "data": {
      "text/plain": [
       "(2130, 21)"
      ]
     },
     "execution_count": 47,
     "metadata": {},
     "output_type": "execute_result"
    }
   ],
   "source": [
    "negative_preds = pd.merge(local_test, test_preds, how = 'left', on = ['user_id', 'item_id'])\n",
    "negative_preds = negative_preds.loc[negative_preds['event_type'] != 'purchase'].sample(frac = .05)\n",
    "negative_preds['target'] = 0\n",
    "negative_preds.shape"
   ]
  },
  {
   "cell_type": "code",
   "execution_count": 48,
   "metadata": {
    "ExecuteTime": {
     "end_time": "2023-09-23T05:39:34.719250Z",
     "start_time": "2023-09-23T05:39:34.714526Z"
    }
   },
   "outputs": [],
   "source": [
    "# local_test[local_test.event_type == 'purchase']"
   ]
  },
  {
   "cell_type": "code",
   "execution_count": 49,
   "metadata": {
    "ExecuteTime": {
     "end_time": "2023-09-23T05:39:34.773671Z",
     "start_time": "2023-09-23T05:39:34.724265Z"
    }
   },
   "outputs": [
    {
     "data": {
      "text/html": [
       "<div>\n",
       "<style scoped>\n",
       "    .dataframe tbody tr th:only-of-type {\n",
       "        vertical-align: middle;\n",
       "    }\n",
       "\n",
       "    .dataframe tbody tr th {\n",
       "        vertical-align: top;\n",
       "    }\n",
       "\n",
       "    .dataframe thead th {\n",
       "        text-align: right;\n",
       "    }\n",
       "</style>\n",
       "<table border=\"1\" class=\"dataframe\">\n",
       "  <thead>\n",
       "    <tr style=\"text-align: right;\">\n",
       "      <th></th>\n",
       "      <th>platform</th>\n",
       "      <th>utc_event_time</th>\n",
       "      <th>utc_event_date</th>\n",
       "      <th>user_id</th>\n",
       "      <th>event_type</th>\n",
       "      <th>price</th>\n",
       "      <th>quantity</th>\n",
       "      <th>item_id</th>\n",
       "      <th>id</th>\n",
       "      <th>timestamp_event_time</th>\n",
       "      <th>...</th>\n",
       "      <th>month</th>\n",
       "      <th>day</th>\n",
       "      <th>hour</th>\n",
       "      <th>lag_event_timestamp</th>\n",
       "      <th>is_first_event</th>\n",
       "      <th>timestamp_first_event</th>\n",
       "      <th>session_id</th>\n",
       "      <th>session_duration</th>\n",
       "      <th>rank</th>\n",
       "      <th>target</th>\n",
       "    </tr>\n",
       "  </thead>\n",
       "  <tbody>\n",
       "    <tr>\n",
       "      <th>41471</th>\n",
       "      <td>Android</td>\n",
       "      <td>2023-08-06 14:36:30+00:00</td>\n",
       "      <td>2023-08-06</td>\n",
       "      <td>43904705768645137912990287927699287802</td>\n",
       "      <td>view_item</td>\n",
       "      <td>92100.000</td>\n",
       "      <td>1.000</td>\n",
       "      <td>326769255226383398707856485117789108989</td>\n",
       "      <td>206158431629</td>\n",
       "      <td>2023-08-06 17:36:30</td>\n",
       "      <td>...</td>\n",
       "      <td>8</td>\n",
       "      <td>6</td>\n",
       "      <td>17</td>\n",
       "      <td>2023-08-05 15:58:35</td>\n",
       "      <td>1</td>\n",
       "      <td>2023-08-06 17:36:30</td>\n",
       "      <td>206158431629</td>\n",
       "      <td>0</td>\n",
       "      <td>NaN</td>\n",
       "      <td>0</td>\n",
       "    </tr>\n",
       "    <tr>\n",
       "      <th>22825</th>\n",
       "      <td>Android</td>\n",
       "      <td>2023-08-06 14:37:01+00:00</td>\n",
       "      <td>2023-08-06</td>\n",
       "      <td>125542392010319246029029702240053425884</td>\n",
       "      <td>view_item</td>\n",
       "      <td>479400.000</td>\n",
       "      <td>1.000</td>\n",
       "      <td>333316451229711700063932294613952433544</td>\n",
       "      <td>214748364937</td>\n",
       "      <td>2023-08-06 17:37:01</td>\n",
       "      <td>...</td>\n",
       "      <td>8</td>\n",
       "      <td>6</td>\n",
       "      <td>17</td>\n",
       "      <td>2023-08-06 16:58:19</td>\n",
       "      <td>1</td>\n",
       "      <td>2023-08-06 17:37:01</td>\n",
       "      <td>214748364937</td>\n",
       "      <td>1317</td>\n",
       "      <td>NaN</td>\n",
       "      <td>0</td>\n",
       "    </tr>\n",
       "    <tr>\n",
       "      <th>18410</th>\n",
       "      <td>iOS</td>\n",
       "      <td>2023-08-05 10:46:38+00:00</td>\n",
       "      <td>2023-08-05</td>\n",
       "      <td>174548283049743172787441147695079261373</td>\n",
       "      <td>view_item</td>\n",
       "      <td>30100.000</td>\n",
       "      <td>1.000</td>\n",
       "      <td>93469449418867036544523786849948381691</td>\n",
       "      <td>171798695349</td>\n",
       "      <td>2023-08-05 13:46:38</td>\n",
       "      <td>...</td>\n",
       "      <td>8</td>\n",
       "      <td>5</td>\n",
       "      <td>13</td>\n",
       "      <td>2023-08-05 13:46:24</td>\n",
       "      <td>0</td>\n",
       "      <td>NaN</td>\n",
       "      <td>171798695348</td>\n",
       "      <td>0</td>\n",
       "      <td>NaN</td>\n",
       "      <td>0</td>\n",
       "    </tr>\n",
       "    <tr>\n",
       "      <th>1569</th>\n",
       "      <td>iOS</td>\n",
       "      <td>2023-08-04 20:35:51+00:00</td>\n",
       "      <td>2023-08-04</td>\n",
       "      <td>200319432156582757229999816443347638506</td>\n",
       "      <td>view_item</td>\n",
       "      <td>294800.000</td>\n",
       "      <td>1.000</td>\n",
       "      <td>123338156009229653232850895554862377594</td>\n",
       "      <td>128849022547</td>\n",
       "      <td>2023-08-04 23:35:51</td>\n",
       "      <td>...</td>\n",
       "      <td>8</td>\n",
       "      <td>4</td>\n",
       "      <td>23</td>\n",
       "      <td>2023-08-03 00:45:29</td>\n",
       "      <td>1</td>\n",
       "      <td>2023-08-04 23:35:51</td>\n",
       "      <td>128849022547</td>\n",
       "      <td>0</td>\n",
       "      <td>NaN</td>\n",
       "      <td>0</td>\n",
       "    </tr>\n",
       "    <tr>\n",
       "      <th>8374</th>\n",
       "      <td>Android</td>\n",
       "      <td>2023-08-05 14:57:48+00:00</td>\n",
       "      <td>2023-08-05</td>\n",
       "      <td>280692358206276403887288874402843562991</td>\n",
       "      <td>view_item</td>\n",
       "      <td>672400.000</td>\n",
       "      <td>1.000</td>\n",
       "      <td>69583060130714061842702363554740447582</td>\n",
       "      <td>171798696138</td>\n",
       "      <td>2023-08-05 17:57:48</td>\n",
       "      <td>...</td>\n",
       "      <td>8</td>\n",
       "      <td>5</td>\n",
       "      <td>17</td>\n",
       "      <td>2023-08-03 23:29:58</td>\n",
       "      <td>1</td>\n",
       "      <td>2023-08-05 17:57:48</td>\n",
       "      <td>171798696138</td>\n",
       "      <td>383</td>\n",
       "      <td>NaN</td>\n",
       "      <td>0</td>\n",
       "    </tr>\n",
       "    <tr>\n",
       "      <th>...</th>\n",
       "      <td>...</td>\n",
       "      <td>...</td>\n",
       "      <td>...</td>\n",
       "      <td>...</td>\n",
       "      <td>...</td>\n",
       "      <td>...</td>\n",
       "      <td>...</td>\n",
       "      <td>...</td>\n",
       "      <td>...</td>\n",
       "      <td>...</td>\n",
       "      <td>...</td>\n",
       "      <td>...</td>\n",
       "      <td>...</td>\n",
       "      <td>...</td>\n",
       "      <td>...</td>\n",
       "      <td>...</td>\n",
       "      <td>...</td>\n",
       "      <td>...</td>\n",
       "      <td>...</td>\n",
       "      <td>...</td>\n",
       "      <td>...</td>\n",
       "    </tr>\n",
       "    <tr>\n",
       "      <th>8658</th>\n",
       "      <td>Android</td>\n",
       "      <td>2023-08-05 06:08:24+00:00</td>\n",
       "      <td>2023-08-05</td>\n",
       "      <td>66738039731546827006850016676237815685</td>\n",
       "      <td>view_item</td>\n",
       "      <td>31900.000</td>\n",
       "      <td>1.000</td>\n",
       "      <td>20520397219894097360622320851990056607</td>\n",
       "      <td>163208759779</td>\n",
       "      <td>2023-08-05 09:08:24</td>\n",
       "      <td>...</td>\n",
       "      <td>8</td>\n",
       "      <td>5</td>\n",
       "      <td>9</td>\n",
       "      <td>2023-08-03 19:40:15</td>\n",
       "      <td>1</td>\n",
       "      <td>2023-08-05 09:08:24</td>\n",
       "      <td>163208759779</td>\n",
       "      <td>0</td>\n",
       "      <td>NaN</td>\n",
       "      <td>0</td>\n",
       "    </tr>\n",
       "    <tr>\n",
       "      <th>23366</th>\n",
       "      <td>iOS</td>\n",
       "      <td>2023-08-06 06:16:42+00:00</td>\n",
       "      <td>2023-08-06</td>\n",
       "      <td>146719450508326736225213154996464337713</td>\n",
       "      <td>view_item</td>\n",
       "      <td>57900.000</td>\n",
       "      <td>1.000</td>\n",
       "      <td>154490313055922463895014640180211804883</td>\n",
       "      <td>188978567682</td>\n",
       "      <td>2023-08-06 09:16:42</td>\n",
       "      <td>...</td>\n",
       "      <td>8</td>\n",
       "      <td>6</td>\n",
       "      <td>9</td>\n",
       "      <td>2023-08-01 09:46:38</td>\n",
       "      <td>1</td>\n",
       "      <td>2023-08-06 09:16:42</td>\n",
       "      <td>188978567682</td>\n",
       "      <td>0</td>\n",
       "      <td>NaN</td>\n",
       "      <td>0</td>\n",
       "    </tr>\n",
       "    <tr>\n",
       "      <th>29922</th>\n",
       "      <td>Android</td>\n",
       "      <td>2023-08-06 06:24:39+00:00</td>\n",
       "      <td>2023-08-06</td>\n",
       "      <td>264416236269855586647599925344149142251</td>\n",
       "      <td>view_item</td>\n",
       "      <td>92900.000</td>\n",
       "      <td>1.000</td>\n",
       "      <td>178934549092347050326825338224793944362</td>\n",
       "      <td>188978568864</td>\n",
       "      <td>2023-08-06 09:24:39</td>\n",
       "      <td>...</td>\n",
       "      <td>8</td>\n",
       "      <td>6</td>\n",
       "      <td>9</td>\n",
       "      <td>2023-08-05 14:19:27</td>\n",
       "      <td>1</td>\n",
       "      <td>2023-08-06 09:24:39</td>\n",
       "      <td>188978568864</td>\n",
       "      <td>0</td>\n",
       "      <td>NaN</td>\n",
       "      <td>0</td>\n",
       "    </tr>\n",
       "    <tr>\n",
       "      <th>2265</th>\n",
       "      <td>iOS</td>\n",
       "      <td>2023-08-04 19:32:27+00:00</td>\n",
       "      <td>2023-08-04</td>\n",
       "      <td>265914750401607062257502547980125885797</td>\n",
       "      <td>view_item</td>\n",
       "      <td>216500.000</td>\n",
       "      <td>1.000</td>\n",
       "      <td>321906462533315596938380226824741150721</td>\n",
       "      <td>146028895410</td>\n",
       "      <td>2023-08-04 22:32:27</td>\n",
       "      <td>...</td>\n",
       "      <td>8</td>\n",
       "      <td>4</td>\n",
       "      <td>22</td>\n",
       "      <td>2023-08-04 22:25:10</td>\n",
       "      <td>0</td>\n",
       "      <td>NaN</td>\n",
       "      <td>146028895409</td>\n",
       "      <td>437</td>\n",
       "      <td>NaN</td>\n",
       "      <td>0</td>\n",
       "    </tr>\n",
       "    <tr>\n",
       "      <th>41422</th>\n",
       "      <td>iOS</td>\n",
       "      <td>2023-08-06 14:05:02+00:00</td>\n",
       "      <td>2023-08-06</td>\n",
       "      <td>43422280860708714655028975154272322433</td>\n",
       "      <td>view_item</td>\n",
       "      <td>42900.000</td>\n",
       "      <td>1.000</td>\n",
       "      <td>278465145054301759747119168471415435321</td>\n",
       "      <td>206158436124</td>\n",
       "      <td>2023-08-06 17:05:02</td>\n",
       "      <td>...</td>\n",
       "      <td>8</td>\n",
       "      <td>6</td>\n",
       "      <td>17</td>\n",
       "      <td>2023-08-05 20:37:23</td>\n",
       "      <td>1</td>\n",
       "      <td>2023-08-06 17:05:02</td>\n",
       "      <td>206158436124</td>\n",
       "      <td>37</td>\n",
       "      <td>NaN</td>\n",
       "      <td>0</td>\n",
       "    </tr>\n",
       "  </tbody>\n",
       "</table>\n",
       "<p>2130 rows × 21 columns</p>\n",
       "</div>"
      ],
      "text/plain": [
       "      platform             utc_event_time utc_event_date  \\\n",
       "41471  Android  2023-08-06 14:36:30+00:00     2023-08-06   \n",
       "22825  Android  2023-08-06 14:37:01+00:00     2023-08-06   \n",
       "18410      iOS  2023-08-05 10:46:38+00:00     2023-08-05   \n",
       "1569       iOS  2023-08-04 20:35:51+00:00     2023-08-04   \n",
       "8374   Android  2023-08-05 14:57:48+00:00     2023-08-05   \n",
       "...        ...                        ...            ...   \n",
       "8658   Android  2023-08-05 06:08:24+00:00     2023-08-05   \n",
       "23366      iOS  2023-08-06 06:16:42+00:00     2023-08-06   \n",
       "29922  Android  2023-08-06 06:24:39+00:00     2023-08-06   \n",
       "2265       iOS  2023-08-04 19:32:27+00:00     2023-08-04   \n",
       "41422      iOS  2023-08-06 14:05:02+00:00     2023-08-06   \n",
       "\n",
       "                                       user_id event_type      price  \\\n",
       "41471   43904705768645137912990287927699287802  view_item  92100.000   \n",
       "22825  125542392010319246029029702240053425884  view_item 479400.000   \n",
       "18410  174548283049743172787441147695079261373  view_item  30100.000   \n",
       "1569   200319432156582757229999816443347638506  view_item 294800.000   \n",
       "8374   280692358206276403887288874402843562991  view_item 672400.000   \n",
       "...                                        ...        ...        ...   \n",
       "8658    66738039731546827006850016676237815685  view_item  31900.000   \n",
       "23366  146719450508326736225213154996464337713  view_item  57900.000   \n",
       "29922  264416236269855586647599925344149142251  view_item  92900.000   \n",
       "2265   265914750401607062257502547980125885797  view_item 216500.000   \n",
       "41422   43422280860708714655028975154272322433  view_item  42900.000   \n",
       "\n",
       "       quantity                                  item_id            id  \\\n",
       "41471     1.000  326769255226383398707856485117789108989  206158431629   \n",
       "22825     1.000  333316451229711700063932294613952433544  214748364937   \n",
       "18410     1.000   93469449418867036544523786849948381691  171798695349   \n",
       "1569      1.000  123338156009229653232850895554862377594  128849022547   \n",
       "8374      1.000   69583060130714061842702363554740447582  171798696138   \n",
       "...         ...                                      ...           ...   \n",
       "8658      1.000   20520397219894097360622320851990056607  163208759779   \n",
       "23366     1.000  154490313055922463895014640180211804883  188978567682   \n",
       "29922     1.000  178934549092347050326825338224793944362  188978568864   \n",
       "2265      1.000  321906462533315596938380226824741150721  146028895410   \n",
       "41422     1.000  278465145054301759747119168471415435321  206158436124   \n",
       "\n",
       "      timestamp_event_time  ...  month  day  hour  lag_event_timestamp  \\\n",
       "41471  2023-08-06 17:36:30  ...      8    6    17  2023-08-05 15:58:35   \n",
       "22825  2023-08-06 17:37:01  ...      8    6    17  2023-08-06 16:58:19   \n",
       "18410  2023-08-05 13:46:38  ...      8    5    13  2023-08-05 13:46:24   \n",
       "1569   2023-08-04 23:35:51  ...      8    4    23  2023-08-03 00:45:29   \n",
       "8374   2023-08-05 17:57:48  ...      8    5    17  2023-08-03 23:29:58   \n",
       "...                    ...  ...    ...  ...   ...                  ...   \n",
       "8658   2023-08-05 09:08:24  ...      8    5     9  2023-08-03 19:40:15   \n",
       "23366  2023-08-06 09:16:42  ...      8    6     9  2023-08-01 09:46:38   \n",
       "29922  2023-08-06 09:24:39  ...      8    6     9  2023-08-05 14:19:27   \n",
       "2265   2023-08-04 22:32:27  ...      8    4    22  2023-08-04 22:25:10   \n",
       "41422  2023-08-06 17:05:02  ...      8    6    17  2023-08-05 20:37:23   \n",
       "\n",
       "      is_first_event  timestamp_first_event    session_id  session_duration  \\\n",
       "41471              1    2023-08-06 17:36:30  206158431629                 0   \n",
       "22825              1    2023-08-06 17:37:01  214748364937              1317   \n",
       "18410              0                    NaN  171798695348                 0   \n",
       "1569               1    2023-08-04 23:35:51  128849022547                 0   \n",
       "8374               1    2023-08-05 17:57:48  171798696138               383   \n",
       "...              ...                    ...           ...               ...   \n",
       "8658               1    2023-08-05 09:08:24  163208759779                 0   \n",
       "23366              1    2023-08-06 09:16:42  188978567682                 0   \n",
       "29922              1    2023-08-06 09:24:39  188978568864                 0   \n",
       "2265               0                    NaN  146028895409               437   \n",
       "41422              1    2023-08-06 17:05:02  206158436124                37   \n",
       "\n",
       "       rank  target  \n",
       "41471   NaN       0  \n",
       "22825   NaN       0  \n",
       "18410   NaN       0  \n",
       "1569    NaN       0  \n",
       "8374    NaN       0  \n",
       "...     ...     ...  \n",
       "8658    NaN       0  \n",
       "23366   NaN       0  \n",
       "29922   NaN       0  \n",
       "2265    NaN       0  \n",
       "41422   NaN       0  \n",
       "\n",
       "[2130 rows x 21 columns]"
      ]
     },
     "execution_count": 49,
     "metadata": {},
     "output_type": "execute_result"
    }
   ],
   "source": [
    "negative_preds"
   ]
  },
  {
   "cell_type": "code",
   "execution_count": 50,
   "metadata": {
    "ExecuteTime": {
     "end_time": "2023-09-23T05:39:34.858638Z",
     "start_time": "2023-09-23T05:39:34.778682Z"
    }
   },
   "outputs": [],
   "source": [
    "# random split to train ranker\n",
    "train_users, test_users = train_test_split(\n",
    "    local_test['user_id'].unique(),\n",
    "    test_size = .2,\n",
    "    random_state = 13\n",
    "    )"
   ]
  },
  {
   "cell_type": "code",
   "execution_count": 51,
   "metadata": {
    "ExecuteTime": {
     "end_time": "2023-09-23T05:39:34.899884Z",
     "start_time": "2023-09-23T05:39:34.862702Z"
    }
   },
   "outputs": [],
   "source": [
    "cbm_train_set = shuffle(\n",
    "    pd.concat(\n",
    "    [positive_preds.loc[positive_preds['user_id'].isin(train_users)],\n",
    "    negative_preds.loc[negative_preds['user_id'].isin(train_users)]]\n",
    "    )\n",
    ")"
   ]
  },
  {
   "cell_type": "code",
   "execution_count": 52,
   "metadata": {
    "ExecuteTime": {
     "end_time": "2023-09-23T05:39:34.924308Z",
     "start_time": "2023-09-23T05:39:34.904193Z"
    }
   },
   "outputs": [],
   "source": [
    "cbm_test_set = shuffle(\n",
    "    pd.concat(\n",
    "    [positive_preds.loc[positive_preds['user_id'].isin(test_users)],\n",
    "    negative_preds.loc[negative_preds['user_id'].isin(test_users)]]\n",
    "    )\n",
    ")"
   ]
  },
  {
   "cell_type": "code",
   "execution_count": 53,
   "metadata": {
    "ExecuteTime": {
     "end_time": "2023-09-23T05:39:35.065586Z",
     "start_time": "2023-09-23T05:39:34.927849Z"
    }
   },
   "outputs": [
    {
     "name": "stdout",
     "output_type": "stream",
     "text": [
      "TRAIN:         rank       price  quantity               id     year    month  \\\n",
      "count 21.000    1698.000  1698.000         1698.000 1698.000 1698.000   \n",
      "mean   6.714  148979.034     1.000 184309243067.305 2023.000    8.000   \n",
      "std    2.305  241316.404     0.000  21997958067.436    0.000    0.000   \n",
      "min    2.000       0.000     1.000 128849021450.000 2023.000    8.000   \n",
      "25%    5.000   37800.000     1.000 171798692548.000 2023.000    8.000   \n",
      "50%    8.000   85350.000     1.000 188978562134.000 2023.000    8.000   \n",
      "75%    8.000  179475.000     1.000 206158431468.000 2023.000    8.000   \n",
      "max   10.000 4383300.000     1.000 223338299514.000 2023.000    8.000   \n",
      "\n",
      "           day     hour  is_first_event       session_id  session_duration  \\\n",
      "count 1698.000 1698.000        1698.000         1698.000          1698.000   \n",
      "mean     5.405   14.060           0.770 184289007636.059           144.863   \n",
      "std      0.634    6.528           0.421  21989696310.986           322.988   \n",
      "min      4.000    0.000           0.000 128849021450.000             0.000   \n",
      "25%      5.000   10.000           1.000 171798692555.750             0.000   \n",
      "50%      5.000   15.000           1.000 188978562137.500             0.000   \n",
      "75%      6.000   20.000           1.000 206158431326.500            94.500   \n",
      "max      6.000   23.000           1.000 223338299514.000          1800.000   \n",
      "\n",
      "        target  \n",
      "count 1698.000  \n",
      "mean     0.012  \n",
      "std      0.108  \n",
      "min      0.000  \n",
      "25%      0.000  \n",
      "50%      0.000  \n",
      "75%      0.000  \n",
      "max      1.000   \n",
      ", TEST:         rank       price  quantity               id     year   month     day  \\\n",
      "count  5.000     457.000   457.000          457.000  457.000 457.000 457.000   \n",
      "mean   7.400  157756.893     1.000 184392254668.044 2023.000   8.000   5.403   \n",
      "std    2.074  310910.995     0.000  21758258450.013    0.000   0.000   0.628   \n",
      "min    5.000       0.000     1.000 128849021784.000 2023.000   8.000   4.000   \n",
      "25%    6.000   38800.000     1.000 171798694529.000 2023.000   8.000   5.000   \n",
      "50%    7.000   80900.000     1.000 188978561586.000 2023.000   8.000   5.000   \n",
      "75%    9.000  179600.000     1.000 206158430580.000 2023.000   8.000   6.000   \n",
      "max   10.000 4900100.000     1.000 223338299439.000 2023.000   8.000   6.000   \n",
      "\n",
      "         hour  is_first_event       session_id  session_duration  target  \n",
      "count 457.000         457.000          457.000           457.000 457.000  \n",
      "mean   14.376           0.786 184354661983.823           150.090   0.011  \n",
      "std     6.331           0.411  21846783850.752           346.921   0.104  \n",
      "min     0.000           0.000 128849021783.000             0.000   0.000  \n",
      "25%    10.000           1.000 171798694529.000             0.000   0.000  \n",
      "50%    15.000           1.000 188978561586.000             0.000   0.000  \n",
      "75%    20.000           1.000 206158430815.000            35.000   0.000  \n",
      "max    23.000           1.000 223338299439.000          1779.000   1.000  \n"
     ]
    }
   ],
   "source": [
    "print(f'TRAIN: {cbm_train_set.describe()} \\n, TEST: {cbm_test_set.describe()}')"
   ]
  },
  {
   "cell_type": "code",
   "execution_count": 54,
   "metadata": {
    "ExecuteTime": {
     "end_time": "2023-09-23T05:39:35.078375Z",
     "start_time": "2023-09-23T05:39:35.070596Z"
    }
   },
   "outputs": [],
   "source": [
    "# in this tutorial, I will not do any feature aggregation - use default ones from data\n",
    "# USER_FEATURES = ['age', 'income', 'sex', 'kids_flg']\n",
    "USER_FEATURES = ['']\n",
    "\n",
    "# ITEM_FEATURES = ['content_type', 'release_year', 'for_kids', 'age_rating']\n",
    "ITEM_FEATURES = []"
   ]
  },
  {
   "cell_type": "code",
   "execution_count": 55,
   "metadata": {
    "ExecuteTime": {
     "end_time": "2023-09-23T05:39:35.282928Z",
     "start_time": "2023-09-23T05:39:35.083375Z"
    }
   },
   "outputs": [],
   "source": [
    "users_data = interactions[['user_id']]"
   ]
  },
  {
   "cell_type": "code",
   "execution_count": 56,
   "metadata": {
    "ExecuteTime": {
     "end_time": "2023-09-23T05:39:35.295590Z",
     "start_time": "2023-09-23T05:39:35.287939Z"
    }
   },
   "outputs": [
    {
     "name": "stdout",
     "output_type": "stream",
     "text": [
      "(1698, 21) (457, 21)\n"
     ]
    }
   ],
   "source": [
    "print(cbm_train_set.shape, cbm_test_set.shape)"
   ]
  },
  {
   "cell_type": "code",
   "execution_count": 57,
   "metadata": {
    "ExecuteTime": {
     "end_time": "2023-09-23T05:39:35.332955Z",
     "start_time": "2023-09-23T05:39:35.300602Z"
    }
   },
   "outputs": [
    {
     "data": {
      "text/html": [
       "<div>\n",
       "<style scoped>\n",
       "    .dataframe tbody tr th:only-of-type {\n",
       "        vertical-align: middle;\n",
       "    }\n",
       "\n",
       "    .dataframe tbody tr th {\n",
       "        vertical-align: top;\n",
       "    }\n",
       "\n",
       "    .dataframe thead th {\n",
       "        text-align: right;\n",
       "    }\n",
       "</style>\n",
       "<table border=\"1\" class=\"dataframe\">\n",
       "  <thead>\n",
       "    <tr style=\"text-align: right;\">\n",
       "      <th></th>\n",
       "      <th>user_id</th>\n",
       "      <th>item_id</th>\n",
       "      <th>rank</th>\n",
       "      <th>platform</th>\n",
       "      <th>utc_event_time</th>\n",
       "      <th>utc_event_date</th>\n",
       "      <th>event_type</th>\n",
       "      <th>price</th>\n",
       "      <th>quantity</th>\n",
       "      <th>id</th>\n",
       "      <th>...</th>\n",
       "      <th>year</th>\n",
       "      <th>month</th>\n",
       "      <th>day</th>\n",
       "      <th>hour</th>\n",
       "      <th>lag_event_timestamp</th>\n",
       "      <th>is_first_event</th>\n",
       "      <th>timestamp_first_event</th>\n",
       "      <th>session_id</th>\n",
       "      <th>session_duration</th>\n",
       "      <th>target</th>\n",
       "    </tr>\n",
       "  </thead>\n",
       "  <tbody>\n",
       "    <tr>\n",
       "      <th>23887</th>\n",
       "      <td>292734382482086634359188710379703141351</td>\n",
       "      <td>32454439542271938777401521357353716793</td>\n",
       "      <td>NaN</td>\n",
       "      <td>Android</td>\n",
       "      <td>2023-08-06 16:13:10+00:00</td>\n",
       "      <td>2023-08-06</td>\n",
       "      <td>add_to_cart</td>\n",
       "      <td>17700.000</td>\n",
       "      <td>1.000</td>\n",
       "      <td>197568502094</td>\n",
       "      <td>...</td>\n",
       "      <td>2023</td>\n",
       "      <td>8</td>\n",
       "      <td>6</td>\n",
       "      <td>19</td>\n",
       "      <td>2023-08-01 08:26:18</td>\n",
       "      <td>1</td>\n",
       "      <td>2023-08-06 19:13:10</td>\n",
       "      <td>197568502094</td>\n",
       "      <td>0</td>\n",
       "      <td>0</td>\n",
       "    </tr>\n",
       "    <tr>\n",
       "      <th>4602</th>\n",
       "      <td>133240210953527462263194881709707960416</td>\n",
       "      <td>83016952206327049528002400971754906077</td>\n",
       "      <td>NaN</td>\n",
       "      <td>iOS</td>\n",
       "      <td>2023-08-05 07:51:16+00:00</td>\n",
       "      <td>2023-08-05</td>\n",
       "      <td>view_item</td>\n",
       "      <td>20400.000</td>\n",
       "      <td>1.000</td>\n",
       "      <td>180388630050</td>\n",
       "      <td>...</td>\n",
       "      <td>2023</td>\n",
       "      <td>8</td>\n",
       "      <td>5</td>\n",
       "      <td>10</td>\n",
       "      <td>2023-08-05 08:10:01</td>\n",
       "      <td>1</td>\n",
       "      <td>2023-08-05 10:51:16</td>\n",
       "      <td>180388630050</td>\n",
       "      <td>0</td>\n",
       "      <td>0</td>\n",
       "    </tr>\n",
       "    <tr>\n",
       "      <th>33933</th>\n",
       "      <td>171676334358971185227695835681117497952</td>\n",
       "      <td>17644237179207642530972150663145765613</td>\n",
       "      <td>NaN</td>\n",
       "      <td>Android</td>\n",
       "      <td>2023-08-06 12:39:26+00:00</td>\n",
       "      <td>2023-08-06</td>\n",
       "      <td>view_item</td>\n",
       "      <td>188000.000</td>\n",
       "      <td>1.000</td>\n",
       "      <td>188978567606</td>\n",
       "      <td>...</td>\n",
       "      <td>2023</td>\n",
       "      <td>8</td>\n",
       "      <td>6</td>\n",
       "      <td>15</td>\n",
       "      <td>2023-08-04 11:04:57</td>\n",
       "      <td>1</td>\n",
       "      <td>2023-08-06 15:39:26</td>\n",
       "      <td>188978567606</td>\n",
       "      <td>0</td>\n",
       "      <td>0</td>\n",
       "    </tr>\n",
       "    <tr>\n",
       "      <th>8369</th>\n",
       "      <td>239470162782565030695294370353025235241</td>\n",
       "      <td>326275002609558707570171533054996356521</td>\n",
       "      <td>NaN</td>\n",
       "      <td>Android</td>\n",
       "      <td>2023-08-05 13:02:39+00:00</td>\n",
       "      <td>2023-08-05</td>\n",
       "      <td>view_item</td>\n",
       "      <td>100800.000</td>\n",
       "      <td>1.000</td>\n",
       "      <td>180388627183</td>\n",
       "      <td>...</td>\n",
       "      <td>2023</td>\n",
       "      <td>8</td>\n",
       "      <td>5</td>\n",
       "      <td>16</td>\n",
       "      <td>2023-08-04 23:16:06</td>\n",
       "      <td>1</td>\n",
       "      <td>2023-08-05 16:02:39</td>\n",
       "      <td>180388627183</td>\n",
       "      <td>38</td>\n",
       "      <td>0</td>\n",
       "    </tr>\n",
       "    <tr>\n",
       "      <th>10</th>\n",
       "      <td>260471442049151181209942322213535684601</td>\n",
       "      <td>223630556631755871465874649022885940271</td>\n",
       "      <td>8.000</td>\n",
       "      <td>Android</td>\n",
       "      <td>2023-08-05 18:06:35+00:00</td>\n",
       "      <td>2023-08-05</td>\n",
       "      <td>view_item</td>\n",
       "      <td>18900.000</td>\n",
       "      <td>1.000</td>\n",
       "      <td>180388629246</td>\n",
       "      <td>...</td>\n",
       "      <td>2023</td>\n",
       "      <td>8</td>\n",
       "      <td>5</td>\n",
       "      <td>21</td>\n",
       "      <td>2023-08-04 17:25:28</td>\n",
       "      <td>1</td>\n",
       "      <td>2023-08-05 21:06:35</td>\n",
       "      <td>180388629246</td>\n",
       "      <td>0</td>\n",
       "      <td>1</td>\n",
       "    </tr>\n",
       "  </tbody>\n",
       "</table>\n",
       "<p>5 rows × 21 columns</p>\n",
       "</div>"
      ],
      "text/plain": [
       "                                       user_id  \\\n",
       "23887  292734382482086634359188710379703141351   \n",
       "4602   133240210953527462263194881709707960416   \n",
       "33933  171676334358971185227695835681117497952   \n",
       "8369   239470162782565030695294370353025235241   \n",
       "10     260471442049151181209942322213535684601   \n",
       "\n",
       "                                       item_id  rank platform  \\\n",
       "23887   32454439542271938777401521357353716793   NaN  Android   \n",
       "4602    83016952206327049528002400971754906077   NaN      iOS   \n",
       "33933   17644237179207642530972150663145765613   NaN  Android   \n",
       "8369   326275002609558707570171533054996356521   NaN  Android   \n",
       "10     223630556631755871465874649022885940271 8.000  Android   \n",
       "\n",
       "                  utc_event_time utc_event_date   event_type      price  \\\n",
       "23887  2023-08-06 16:13:10+00:00     2023-08-06  add_to_cart  17700.000   \n",
       "4602   2023-08-05 07:51:16+00:00     2023-08-05    view_item  20400.000   \n",
       "33933  2023-08-06 12:39:26+00:00     2023-08-06    view_item 188000.000   \n",
       "8369   2023-08-05 13:02:39+00:00     2023-08-05    view_item 100800.000   \n",
       "10     2023-08-05 18:06:35+00:00     2023-08-05    view_item  18900.000   \n",
       "\n",
       "       quantity            id  ...  year  month  day  hour  \\\n",
       "23887     1.000  197568502094  ...  2023      8    6    19   \n",
       "4602      1.000  180388630050  ...  2023      8    5    10   \n",
       "33933     1.000  188978567606  ...  2023      8    6    15   \n",
       "8369      1.000  180388627183  ...  2023      8    5    16   \n",
       "10        1.000  180388629246  ...  2023      8    5    21   \n",
       "\n",
       "       lag_event_timestamp is_first_event  timestamp_first_event  \\\n",
       "23887  2023-08-01 08:26:18              1    2023-08-06 19:13:10   \n",
       "4602   2023-08-05 08:10:01              1    2023-08-05 10:51:16   \n",
       "33933  2023-08-04 11:04:57              1    2023-08-06 15:39:26   \n",
       "8369   2023-08-04 23:16:06              1    2023-08-05 16:02:39   \n",
       "10     2023-08-04 17:25:28              1    2023-08-05 21:06:35   \n",
       "\n",
       "         session_id  session_duration  target  \n",
       "23887  197568502094                 0       0  \n",
       "4602   180388630050                 0       0  \n",
       "33933  188978567606                 0       0  \n",
       "8369   180388627183                38       0  \n",
       "10     180388629246                 0       1  \n",
       "\n",
       "[5 rows x 21 columns]"
      ]
     },
     "execution_count": 57,
     "metadata": {},
     "output_type": "execute_result"
    }
   ],
   "source": [
    "cbm_train_set.head()"
   ]
  },
  {
   "cell_type": "code",
   "execution_count": 58,
   "metadata": {
    "ExecuteTime": {
     "end_time": "2023-09-23T05:39:35.350095Z",
     "start_time": "2023-09-23T05:39:35.337968Z"
    }
   },
   "outputs": [
    {
     "data": {
      "text/plain": [
       "Index(['user_id', 'item_id', 'rank', 'platform', 'utc_event_time',\n",
       "       'utc_event_date', 'event_type', 'price', 'quantity', 'id',\n",
       "       'timestamp_event_time', 'year', 'month', 'day', 'hour',\n",
       "       'lag_event_timestamp', 'is_first_event', 'timestamp_first_event',\n",
       "       'session_id', 'session_duration', 'target'],\n",
       "      dtype='object')"
      ]
     },
     "execution_count": 58,
     "metadata": {},
     "output_type": "execute_result"
    }
   ],
   "source": [
    "cbm_train_set.columns"
   ]
  },
  {
   "cell_type": "code",
   "execution_count": 59,
   "metadata": {
    "ExecuteTime": {
     "end_time": "2023-09-23T05:39:35.370853Z",
     "start_time": "2023-09-23T05:39:35.354108Z"
    }
   },
   "outputs": [],
   "source": [
    "ID_COLS = ['user_id', 'item_id']\n",
    "TARGET = ['target']\n",
    "CATEGORICAL_COLS = ['platform', 'event_type']\n",
    "\n",
    "DROP_COLS = ['utc_event_time', 'utc_event_date', 'id', 'year', 'month', 'day',\n",
    "             'timestamp_event_time', 'lag_event_timestamp', 'is_first_event', 'timestamp_first_event', 'session_id', 'session_duration']"
   ]
  },
  {
   "cell_type": "code",
   "execution_count": 60,
   "metadata": {
    "ExecuteTime": {
     "end_time": "2023-09-23T05:39:35.387104Z",
     "start_time": "2023-09-23T05:39:35.375015Z"
    }
   },
   "outputs": [
    {
     "name": "stdout",
     "output_type": "stream",
     "text": [
      "(1698, 6) (457, 6)\n"
     ]
    }
   ],
   "source": [
    "X_train, y_train = cbm_train_set.drop(ID_COLS + DROP_COLS + TARGET, axis = 1), cbm_train_set[TARGET]\n",
    "X_test, y_test = cbm_test_set.drop(ID_COLS + DROP_COLS + TARGET, axis = 1), cbm_test_set[TARGET]\n",
    "print(X_train.shape, X_test.shape)"
   ]
  },
  {
   "cell_type": "code",
   "execution_count": 61,
   "metadata": {
    "ExecuteTime": {
     "end_time": "2023-09-23T05:39:35.438913Z",
     "start_time": "2023-09-23T05:39:35.392118Z"
    }
   },
   "outputs": [],
   "source": [
    "# no time dependent feature -- we can leave it with mode\n",
    "X_train = X_train.fillna(X_train.mode().iloc[0])\n",
    "X_test = X_test.fillna(X_test.mode().iloc[0])"
   ]
  },
  {
   "cell_type": "markdown",
   "metadata": {},
   "source": [
    "## 2.5.2. Train Model"
   ]
  },
  {
   "cell_type": "code",
   "execution_count": 62,
   "metadata": {
    "ExecuteTime": {
     "end_time": "2023-09-23T05:39:35.469737Z",
     "start_time": "2023-09-23T05:39:35.443463Z"
    }
   },
   "outputs": [],
   "source": [
    "cbm_classifier = CatBoostClassifier(\n",
    "    loss_function = 'CrossEntropy',\n",
    "    iterations = 5000,\n",
    "    learning_rate = .1,\n",
    "    depth = 6,\n",
    "    random_state = 1234,\n",
    "    verbose = True\n",
    ")"
   ]
  },
  {
   "cell_type": "code",
   "execution_count": 63,
   "metadata": {
    "ExecuteTime": {
     "end_time": "2023-09-23T05:39:40.329240Z",
     "start_time": "2023-09-23T05:39:35.475751Z"
    }
   },
   "outputs": [
    {
     "data": {
      "text/plain": [
       "<catboost.core.CatBoostClassifier at 0x2c4dd5fb3d0>"
      ]
     },
     "execution_count": 63,
     "metadata": {},
     "output_type": "execute_result"
    }
   ],
   "source": [
    "cbm_classifier.fit(\n",
    "    X_train, y_train,\n",
    "    eval_set=(X_test, y_test),\n",
    "    early_stopping_rounds = 100, # to avoid overfitting,\n",
    "    cat_features = CATEGORICAL_COLS,\n",
    "    verbose = False\n",
    ")"
   ]
  },
  {
   "cell_type": "markdown",
   "metadata": {},
   "source": [
    "## 2.5.3. Model Evaluation"
   ]
  },
  {
   "cell_type": "markdown",
   "metadata": {},
   "source": [
    "Let's make basic shapley plot to investigate feature importance"
   ]
  },
  {
   "cell_type": "code",
   "execution_count": 64,
   "metadata": {
    "ExecuteTime": {
     "end_time": "2023-09-23T05:39:40.602721Z",
     "start_time": "2023-09-23T05:39:40.336276Z"
    }
   },
   "outputs": [],
   "source": [
    "explainer = shap.TreeExplainer(cbm_classifier)\n",
    "shap_values = explainer.shap_values(X_train)"
   ]
  },
  {
   "cell_type": "code",
   "execution_count": 65,
   "metadata": {
    "ExecuteTime": {
     "end_time": "2023-09-23T05:39:42.765741Z",
     "start_time": "2023-09-23T05:39:40.606734Z"
    }
   },
   "outputs": [
    {
     "data": {
      "image/png": "[encoded data removed]",
      "text/plain": [
       "<Figure size 800x390 with 1 Axes>"
      ]
     },
     "metadata": {},
     "output_type": "display_data"
    }
   ],
   "source": [
    "shap.summary_plot(shap_values, X_train, show = False, color_bar = False)"
   ]
  },
  {
   "cell_type": "code",
   "execution_count": 66,
   "metadata": {
    "ExecuteTime": {
     "end_time": "2023-09-23T05:39:42.785582Z",
     "start_time": "2023-09-23T05:39:42.770762Z"
    }
   },
   "outputs": [],
   "source": [
    "# predictions on test\n",
    "y_test_pred = cbm_classifier.predict_proba(X_test)"
   ]
  },
  {
   "cell_type": "code",
   "execution_count": 67,
   "metadata": {
    "ExecuteTime": {
     "end_time": "2023-09-23T05:39:42.843979Z",
     "start_time": "2023-09-23T05:39:42.788847Z"
    }
   },
   "outputs": [
    {
     "name": "stdout",
     "output_type": "stream",
     "text": [
      "ROC AUC score = 0.62\n"
     ]
    }
   ],
   "source": [
    "from sklearn.metrics import roc_auc_score\n",
    "\n",
    "print(f\"ROC AUC score = {roc_auc_score(y_test, y_test_pred[:, 1]):.2f}\")"
   ]
  },
  {
   "cell_type": "markdown",
   "metadata": {},
   "source": [
    "## 2.6. Evaluation on global test"
   ]
  },
  {
   "cell_type": "code",
   "execution_count": 68,
   "metadata": {
    "ExecuteTime": {
     "end_time": "2023-09-23T05:39:43.073128Z",
     "start_time": "2023-09-23T05:39:42.847993Z"
    }
   },
   "outputs": [],
   "source": [
    "global_test_predictions = pd.DataFrame({\n",
    "    'user_id': global_test['user_id'].unique()\n",
    "        }\n",
    "    )\n",
    "\n",
    "# only warm start\n",
    "global_test_predictions = global_test_predictions.loc[global_test_predictions['user_id'].isin(local_train.user_id.unique())]"
   ]
  },
  {
   "cell_type": "code",
   "execution_count": 69,
   "metadata": {
    "ExecuteTime": {
     "end_time": "2023-09-23T06:08:06.548039Z",
     "start_time": "2023-09-23T05:39:43.077144Z"
    }
   },
   "outputs": [],
   "source": [
    "# set param for number of candidates\n",
    "top_k = 100\n",
    "\n",
    "# generate list of watched titles to filter\n",
    "watched_movies = local_train.groupby('user_id')['item_id'].apply(list).to_dict()\n",
    "\n",
    "mapper = generate_lightfm_recs_mapper(\n",
    "    lfm_model, \n",
    "    item_ids = all_cols, \n",
    "    known_items = watched_movies,\n",
    "    N = top_k,\n",
    "    user_features = None, \n",
    "    item_features = None, \n",
    "    user_mapping = lightfm_mapping['users_mapping'],\n",
    "    item_inv_mapping = lightfm_mapping['items_inv_mapping'],\n",
    "    num_threads = 10\n",
    ")\n",
    "\n",
    "global_test_predictions['item_id'] = global_test_predictions['user_id'].map(mapper)\n",
    "global_test_predictions = global_test_predictions.explode('item_id').reset_index(drop=True)\n",
    "global_test_predictions['rank'] = global_test_predictions.groupby('user_id').cumcount() + 1 "
   ]
  },
  {
   "cell_type": "code",
   "execution_count": 71,
   "metadata": {
    "ExecuteTime": {
     "end_time": "2023-09-23T07:13:02.147745Z",
     "start_time": "2023-09-23T07:13:00.314101Z"
    }
   },
   "outputs": [],
   "source": [
    "cbm_global_test = global_test_predictions.fillna(global_test_predictions.mode().iloc[0])"
   ]
  },
  {
   "cell_type": "code",
   "execution_count": 72,
   "metadata": {
    "ExecuteTime": {
     "end_time": "2023-09-23T07:13:07.266241Z",
     "start_time": "2023-09-23T07:13:03.704950Z"
    }
   },
   "outputs": [
    {
     "ename": "KeyError",
     "evalue": "\"['platform', 'event_type', 'price', 'quantity', 'hour'] not in index\"",
     "output_type": "error",
     "traceback": [
      "\u001b[1;31m---------------------------------------------------------------------------\u001b[0m",
      "\u001b[1;31mKeyError\u001b[0m                                  Traceback (most recent call last)",
      "Cell \u001b[1;32mIn[72], line 2\u001b[0m\n\u001b[0;32m      1\u001b[0m \u001b[38;5;66;03m# make predictions\u001b[39;00m\n\u001b[1;32m----> 2\u001b[0m cbm_global_test[\u001b[38;5;124m'\u001b[39m\u001b[38;5;124mcbm_preds\u001b[39m\u001b[38;5;124m'\u001b[39m] \u001b[38;5;241m=\u001b[39m cbm_classifier\u001b[38;5;241m.\u001b[39mpredict_proba(cbm_global_test[X_train\u001b[38;5;241m.\u001b[39mcolumns])[:, \u001b[38;5;241m1\u001b[39m]\n\u001b[0;32m      3\u001b[0m cbm_global_test\u001b[38;5;241m.\u001b[39mhead()\n",
      "File \u001b[1;32m~\\anaconda3\\Lib\\site-packages\\pandas\\core\\frame.py:3813\u001b[0m, in \u001b[0;36mDataFrame.__getitem__\u001b[1;34m(self, key)\u001b[0m\n\u001b[0;32m   3811\u001b[0m     \u001b[38;5;28;01mif\u001b[39;00m is_iterator(key):\n\u001b[0;32m   3812\u001b[0m         key \u001b[38;5;241m=\u001b[39m \u001b[38;5;28mlist\u001b[39m(key)\n\u001b[1;32m-> 3813\u001b[0m     indexer \u001b[38;5;241m=\u001b[39m \u001b[38;5;28mself\u001b[39m\u001b[38;5;241m.\u001b[39mcolumns\u001b[38;5;241m.\u001b[39m_get_indexer_strict(key, \u001b[38;5;124m\"\u001b[39m\u001b[38;5;124mcolumns\u001b[39m\u001b[38;5;124m\"\u001b[39m)[\u001b[38;5;241m1\u001b[39m]\n\u001b[0;32m   3815\u001b[0m \u001b[38;5;66;03m# take() does not accept boolean indexers\u001b[39;00m\n\u001b[0;32m   3816\u001b[0m \u001b[38;5;28;01mif\u001b[39;00m \u001b[38;5;28mgetattr\u001b[39m(indexer, \u001b[38;5;124m\"\u001b[39m\u001b[38;5;124mdtype\u001b[39m\u001b[38;5;124m\"\u001b[39m, \u001b[38;5;28;01mNone\u001b[39;00m) \u001b[38;5;241m==\u001b[39m \u001b[38;5;28mbool\u001b[39m:\n",
      "File \u001b[1;32m~\\anaconda3\\Lib\\site-packages\\pandas\\core\\indexes\\base.py:6070\u001b[0m, in \u001b[0;36mIndex._get_indexer_strict\u001b[1;34m(self, key, axis_name)\u001b[0m\n\u001b[0;32m   6067\u001b[0m \u001b[38;5;28;01melse\u001b[39;00m:\n\u001b[0;32m   6068\u001b[0m     keyarr, indexer, new_indexer \u001b[38;5;241m=\u001b[39m \u001b[38;5;28mself\u001b[39m\u001b[38;5;241m.\u001b[39m_reindex_non_unique(keyarr)\n\u001b[1;32m-> 6070\u001b[0m \u001b[38;5;28mself\u001b[39m\u001b[38;5;241m.\u001b[39m_raise_if_missing(keyarr, indexer, axis_name)\n\u001b[0;32m   6072\u001b[0m keyarr \u001b[38;5;241m=\u001b[39m \u001b[38;5;28mself\u001b[39m\u001b[38;5;241m.\u001b[39mtake(indexer)\n\u001b[0;32m   6073\u001b[0m \u001b[38;5;28;01mif\u001b[39;00m \u001b[38;5;28misinstance\u001b[39m(key, Index):\n\u001b[0;32m   6074\u001b[0m     \u001b[38;5;66;03m# GH 42790 - Preserve name from an Index\u001b[39;00m\n",
      "File \u001b[1;32m~\\anaconda3\\Lib\\site-packages\\pandas\\core\\indexes\\base.py:6133\u001b[0m, in \u001b[0;36mIndex._raise_if_missing\u001b[1;34m(self, key, indexer, axis_name)\u001b[0m\n\u001b[0;32m   6130\u001b[0m     \u001b[38;5;28;01mraise\u001b[39;00m \u001b[38;5;167;01mKeyError\u001b[39;00m(\u001b[38;5;124mf\u001b[39m\u001b[38;5;124m\"\u001b[39m\u001b[38;5;124mNone of [\u001b[39m\u001b[38;5;132;01m{\u001b[39;00mkey\u001b[38;5;132;01m}\u001b[39;00m\u001b[38;5;124m] are in the [\u001b[39m\u001b[38;5;132;01m{\u001b[39;00maxis_name\u001b[38;5;132;01m}\u001b[39;00m\u001b[38;5;124m]\u001b[39m\u001b[38;5;124m\"\u001b[39m)\n\u001b[0;32m   6132\u001b[0m not_found \u001b[38;5;241m=\u001b[39m \u001b[38;5;28mlist\u001b[39m(ensure_index(key)[missing_mask\u001b[38;5;241m.\u001b[39mnonzero()[\u001b[38;5;241m0\u001b[39m]]\u001b[38;5;241m.\u001b[39munique())\n\u001b[1;32m-> 6133\u001b[0m \u001b[38;5;28;01mraise\u001b[39;00m \u001b[38;5;167;01mKeyError\u001b[39;00m(\u001b[38;5;124mf\u001b[39m\u001b[38;5;124m\"\u001b[39m\u001b[38;5;132;01m{\u001b[39;00mnot_found\u001b[38;5;132;01m}\u001b[39;00m\u001b[38;5;124m not in index\u001b[39m\u001b[38;5;124m\"\u001b[39m)\n",
      "\u001b[1;31mKeyError\u001b[0m: \"['platform', 'event_type', 'price', 'quantity', 'hour'] not in index\""
     ]
    }
   ],
   "source": [
    "# make predictions\n",
    "cbm_global_test['cbm_preds'] = cbm_classifier.predict_proba(cbm_global_test[X_train.columns])[:, 1]\n",
    "cbm_global_test.head()"
   ]
  },
  {
   "cell_type": "code",
   "execution_count": null,
   "metadata": {
    "ExecuteTime": {
     "end_time": "2023-09-23T07:13:07.269238Z",
     "start_time": "2023-09-23T07:13:07.269238Z"
    }
   },
   "outputs": [],
   "source": [
    "# set cbm rank\n",
    "cbm_global_test = cbm_global_test.sort_values(by = ['user_id', 'cbm_preds'], ascending = [True, False])\n",
    "cbm_global_test['cbm_rank'] = cbm_global_test.groupby('user_id').cumcount() + 1"
   ]
  },
  {
   "cell_type": "code",
   "execution_count": null,
   "metadata": {
    "ExecuteTime": {
     "end_time": "2023-09-23T07:13:07.272234Z",
     "start_time": "2023-09-23T07:13:07.272234Z"
    }
   },
   "outputs": [],
   "source": [
    "cbm_global_test.head()"
   ]
  },
  {
   "cell_type": "markdown",
   "metadata": {},
   "source": [
    "Now, let's move on to comparison\n",
    "- define function to calculate matrix-based metrics;\n",
    "- create table of metrics for both models"
   ]
  },
  {
   "cell_type": "code",
   "execution_count": 73,
   "metadata": {
    "ExecuteTime": {
     "end_time": "2023-09-23T07:13:07.978093Z",
     "start_time": "2023-09-23T07:13:07.966083Z"
    }
   },
   "outputs": [],
   "source": [
    "def calc_metrics(df_true, df_pred, k: int = 10, target_col = 'rank'):\n",
    "    \"\"\"\n",
    "    calculates confusion matrix based metrics\n",
    "    :df_true: pd.DataFrame\n",
    "    :df_pred: pd.DataFrame\n",
    "    :k: int, \n",
    "    \"\"\"\n",
    "    # prepare dataset\n",
    "    df = df_true.set_index(['user_id', 'item_id']).join(df_pred.set_index(['user_id', 'item_id']))\n",
    "    df = df.sort_values(by = ['user_id', target_col])\n",
    "    df['users_watch_count'] = df.groupby(level = 'user_id')[target_col].transform(np.size)\n",
    "    df['cumulative_rank'] = df.groupby(level = 'user_id').cumcount() + 1\n",
    "    df['cumulative_rank'] = df['cumulative_rank'] / df[target_col]\n",
    "    \n",
    "    # params to calculate metrics\n",
    "    output = {}\n",
    "    num_of_users = df.index.get_level_values('user_id').nunique()\n",
    "\n",
    "    # calc metrics\n",
    "    df[f'hit@{k}'] = df[target_col] <= k\n",
    "    output[f'Precision@{k}'] = (df[f'hit@{k}'] / k).sum() / num_of_users\n",
    "    output[f'Recall@{k}'] = (df[f'hit@{k}'] / df['users_watch_count']).sum() / num_of_users\n",
    "    output[f'MAP@{k}'] = (df[\"cumulative_rank\"] / df[\"users_watch_count\"]).sum() / num_of_users\n",
    "    print(f'Calculated metrics for top {k}')\n",
    "    return output"
   ]
  },
  {
   "cell_type": "code",
   "execution_count": 74,
   "metadata": {
    "ExecuteTime": {
     "end_time": "2023-09-23T07:14:50.077294Z",
     "start_time": "2023-09-23T07:13:08.414888Z"
    }
   },
   "outputs": [
    {
     "name": "stdout",
     "output_type": "stream",
     "text": [
      "Calculated metrics for top 10\n"
     ]
    },
    {
     "data": {
      "text/plain": [
       "{'Precision@10': 7.600681889746684e-05,\n",
       " 'Recall@10': 0.0003426390225176708,\n",
       " 'MAP@10': 0.00011830163348017498}"
      ]
     },
     "execution_count": 74,
     "metadata": {},
     "output_type": "execute_result"
    }
   ],
   "source": [
    "# first-level only - LightFM\n",
    "lfm_metrics = calc_metrics(global_test, global_test_predictions)\n",
    "lfm_metrics"
   ]
  },
  {
   "cell_type": "code",
   "execution_count": null,
   "metadata": {
    "ExecuteTime": {
     "end_time": "2023-09-23T07:30:24.182548Z",
     "start_time": "2023-09-23T07:30:24.182548Z"
    }
   },
   "outputs": [],
   "source": [
    "# LightFM + ReRanker\n",
    "# full_pipeline_metrics = calc_metrics(global_test, cbm_global_test, target_col = 'cbm_rank')\n",
    "# full_pipeline_metrics"
   ]
  },
  {
   "cell_type": "code",
   "execution_count": 77,
   "metadata": {
    "ExecuteTime": {
     "end_time": "2023-09-23T07:30:26.686984Z",
     "start_time": "2023-09-23T07:30:26.682160Z"
    }
   },
   "outputs": [],
   "source": [
    "# metrics_table = pd.concat(\n",
    "#     [pd.DataFrame([lfm_metrics]),\n",
    "#     pd.DataFrame([full_pipeline_metrics])],\n",
    "#     ignore_index = True\n",
    "# )\n",
    "# metrics_table.index = ['LightFM', 'FullPipeline']\n",
    "\n",
    "# # calc relative diff\n",
    "# metrics_table = metrics_table.append(metrics_table.pct_change().iloc[-1].mul(100).rename('lift_by_ranker, %'))\n",
    "\n",
    "# metrics_table"
   ]
  }
 ],
 "metadata": {
  "kernelspec": {
   "display_name": "Python 3 (ipykernel)",
   "language": "python",
   "name": "python3"
  },
  "language_info": {
   "codemirror_mode": {
    "name": "ipython",
    "version": 3
   },
   "file_extension": ".py",
   "mimetype": "text/x-python",
   "name": "python",
   "nbconvert_exporter": "python",
   "pygments_lexer": "ipython3",
   "version": "3.11.4"
  }
 },
 "nbformat": 4,
 "nbformat_minor": 2
}
